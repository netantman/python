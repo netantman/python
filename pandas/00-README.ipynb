{
 "cells": [
  {
   "cell_type": "markdown",
   "metadata": {},
   "source": [
    "# Introduction"
   ]
  },
  {
   "cell_type": "markdown",
   "metadata": {},
   "source": [
    "## Create an Environment called ph2t if it is not available\n",
    "\n",
    "`conda env create`: (by default looks for environment.yml)"
   ]
  },
  {
   "cell_type": "markdown",
   "metadata": {},
   "source": [
    "## Notebooks\n",
    "\n",
    "* [Indexing](01-Indexing.ipynb)\n",
    "* [Alignment](02-Alignment.ipynb)\n",
    "* [Assigning data (with or without subset selection)](03a-Assigning-Data.ipynb), [Chain Selection Issues](03b-Chain-Selection-Issues.ipynb)\n",
    "* [Iterators & Groupby](04-Iterators-Groupby.ipynb)\n",
    "* [Visualization](05-Visualization.ipynb)\n",
    "* [Tidy Data](06-Tidy-Data.ipynb)\n",
    "* [Performance](07-Performance.ipynb)\n",
    "* [Timeseries](08-Timeseries.ipynb)\n",
    "* [Ecosystem](09-Pandas-NumPy-ScikitLearn.ipynb)\n",
    "*[Idiomatic Pandas](10-Idiomatic-Pandas.ipynb)\n",
    "*[Map vs Apply](11-Map-vs-Apply.ipynb)"
   ]
  }
 ],
 "metadata": {
  "kernelspec": {
   "display_name": "Python 3",
   "language": "python",
   "name": "python3"
  },
  "language_info": {
   "codemirror_mode": {
    "name": "ipython",
    "version": 3
   },
   "file_extension": ".py",
   "mimetype": "text/x-python",
   "name": "python",
   "nbconvert_exporter": "python",
   "pygments_lexer": "ipython3",
   "version": "3.6.2"
  }
 },
 "nbformat": 4,
 "nbformat_minor": 2
}
