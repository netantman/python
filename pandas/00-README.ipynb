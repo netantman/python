{
 "cells": [
  {
   "cell_type": "markdown",
   "metadata": {},
   "source": [
    "# Introduction"
   ]
  },
  {
   "cell_type": "markdown",
   "metadata": {},
   "source": [
    "## Create an Environment called ph2t if it is not available\n",
    "\n",
    "`conda env create`: (by default looks for environment.yml)"
   ]
  },
  {
   "cell_type": "markdown",
   "metadata": {},
   "source": [
    "## Notebooks\n",
    "\n",
    "1. [Indexing](01-Indexing.ipynb)\n",
    "2. [Alignment](02-Alignment.ipynb)\n",
    "3. [Iterators & Groupby](03-Iterators-Groupby.ipynb)\n",
    "4. [Visualization](04-Visualization.ipynb)\n",
    "5. [Tidy Data](05-Tidy-Data.ipynb)\n",
    "6. [Performance](06-Performance.ipynb)\n",
    "7. [Timeseries](07-Timeseries.ipynb)\n",
    "8. [Ecosystem](08-Pandas-NumPy-ScikitLearn.ipynb)"
   ]
  }
 ],
 "metadata": {
  "kernelspec": {
   "display_name": "Python 3",
   "language": "python",
   "name": "python3"
  },
  "language_info": {
   "codemirror_mode": {
    "name": "ipython",
    "version": 3
   },
   "file_extension": ".py",
   "mimetype": "text/x-python",
   "name": "python",
   "nbconvert_exporter": "python",
   "pygments_lexer": "ipython3",
   "version": "3.6.2"
  }
 },
 "nbformat": 4,
 "nbformat_minor": 2
}
