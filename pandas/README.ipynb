{
 "cells": [
  {
   "cell_type": "markdown",
   "metadata": {},
   "source": [
    "# Introduction"
   ]
  },
  {
   "cell_type": "markdown",
   "metadata": {},
   "source": [
    "## Create an Environment called ph2t if it is not available\n",
    "\n",
    "`conda env create`: (by default looks for environment.yml)"
   ]
  },
  {
   "cell_type": "markdown",
   "metadata": {},
   "source": [
    "## Notebooks\n",
    "\n",
    "* [Getting Started](Getting-Started.ipynb)\n",
    "* [Indexing](Indexing.ipynb)\n",
    "* [Alignment](Alignment.ipynb)\n",
    "* [Assigning data (with or without subset selection)](Assigning-Data.ipynb), [Chain Selection Issues](Chain-Selection-Issues.ipynb)\n",
    "* [Iterators & Groupby](Iterators-Groupby.ipynb)\n",
    "* [Visualization](Visualization.ipynb)\n",
    "* [Tidy Data](Tidy-Data.ipynb)\n",
    "* [Performance](Performance.ipynb)\n",
    "* [Timeseries](Timeseries.ipynb)\n",
    "* [Idiomatic Pandas](Idiomatic-Pandas.ipynb)\n",
    "* [Map vs Apply](Map-vs-Apply.ipynb)"
   ]
  }
 ],
 "metadata": {
  "kernelspec": {
   "display_name": "Python 3",
   "language": "python",
   "name": "python3"
  },
  "language_info": {
   "codemirror_mode": {
    "name": "ipython",
    "version": 3
   },
   "file_extension": ".py",
   "mimetype": "text/x-python",
   "name": "python",
   "nbconvert_exporter": "python",
   "pygments_lexer": "ipython3",
   "version": "3.7.3"
  }
 },
 "nbformat": 4,
 "nbformat_minor": 2
}
