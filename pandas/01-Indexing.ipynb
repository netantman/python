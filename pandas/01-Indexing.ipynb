{
 "cells": [
  {
   "cell_type": "markdown",
   "metadata": {},
   "source": [
    "# Data Structures and Indexing"
   ]
  },
  {
   "cell_type": "markdown",
   "metadata": {},
   "source": [
    "Pandas provides high-performance containers for tabular data,\n",
    "and methods for operating on that data. We'll get our first look\n",
    "at pandas' data structures. Then we'll focus on indexing, selecting subsets of data."
   ]
  },
  {
   "cell_type": "code",
   "execution_count": 1,
   "metadata": {},
   "outputs": [],
   "source": [
    "import numpy as np\n",
    "import pandas as pd\n",
    "import seaborn as sns\n",
    "import matplotlib.pyplot as plt"
   ]
  },
  {
   "cell_type": "code",
   "execution_count": 2,
   "metadata": {},
   "outputs": [],
   "source": [
    "%matplotlib inline"
   ]
  },
  {
   "cell_type": "code",
   "execution_count": 3,
   "metadata": {},
   "outputs": [],
   "source": [
    "pd.options.display.max_rows = 10 # display maximally 10 rows in jupyter\n",
    "pd.options.display.float_format = '{:,.2f}'.format\n",
    "plt.rcParams['figure.figsize'] = (16, 12)"
   ]
  },
  {
   "cell_type": "markdown",
   "metadata": {},
   "source": [
    "## Reading Data\n",
    "\n",
    "You can create a `pd.Series` or `pd.DataFrame` directly from lists or dictionaries,\n",
    "but most of the time you'll be reading from an external data source. Pandas can read\n",
    "from many formats, including including\n",
    "\n",
    "- `pd.read_parquet`\n",
    "- `pd.read_csv`\n",
    "- `pd.read_excel`\n",
    "- `pd.read_html`\n",
    "- `pd.read_json`\n",
    "- `pd.read_hdf`\n",
    "- `pd.read_sql`"
   ]
  },
  {
   "cell_type": "markdown",
   "metadata": {},
   "source": [
    "For this section we'll work with some flights data from the US Bureau of Transportation and Statistics.\n",
    "The file includes all the flights from New York airports in January 2014.\n",
    "Each record has information about a single flight including the carrier, tail number, origin, destination, and delays."
   ]
  },
  {
   "cell_type": "markdown",
   "metadata": {},
   "source": [
    "Apache Parquet is a columnar storage format available to any project in the Hadoop ecosystem, regardless of the choice of data processing framework, data model or programming language. See https://parquet.apache.org/"
   ]
  },
  {
   "cell_type": "code",
   "execution_count": 4,
   "metadata": {},
   "outputs": [
    {
     "data": {
      "text/html": [
       "<div>\n",
       "<style scoped>\n",
       "    .dataframe tbody tr th:only-of-type {\n",
       "        vertical-align: middle;\n",
       "    }\n",
       "\n",
       "    .dataframe tbody tr th {\n",
       "        vertical-align: top;\n",
       "    }\n",
       "\n",
       "    .dataframe thead th {\n",
       "        text-align: right;\n",
       "    }\n",
       "</style>\n",
       "<table border=\"1\" class=\"dataframe\">\n",
       "  <thead>\n",
       "    <tr style=\"text-align: right;\">\n",
       "      <th></th>\n",
       "      <th>fl_date</th>\n",
       "      <th>unique_carrier</th>\n",
       "      <th>airline_id</th>\n",
       "      <th>tail_num</th>\n",
       "      <th>fl_num</th>\n",
       "      <th>origin</th>\n",
       "      <th>dest</th>\n",
       "      <th>dep_time</th>\n",
       "      <th>dep_delay</th>\n",
       "      <th>arr_time</th>\n",
       "      <th>arr_delay</th>\n",
       "      <th>cancelled</th>\n",
       "      <th>arr</th>\n",
       "      <th>dep</th>\n",
       "    </tr>\n",
       "  </thead>\n",
       "  <tbody>\n",
       "    <tr>\n",
       "      <th>0</th>\n",
       "      <td>2014-01-01</td>\n",
       "      <td>AA</td>\n",
       "      <td>19805</td>\n",
       "      <td>N338AA</td>\n",
       "      <td>1</td>\n",
       "      <td>JFK</td>\n",
       "      <td>LAX</td>\n",
       "      <td>914.00</td>\n",
       "      <td>14.00</td>\n",
       "      <td>1,238.00</td>\n",
       "      <td>13.00</td>\n",
       "      <td>0.00</td>\n",
       "      <td>2014-01-01 12:38:00</td>\n",
       "      <td>2014-01-01 09:14:00</td>\n",
       "    </tr>\n",
       "    <tr>\n",
       "      <th>1</th>\n",
       "      <td>2014-01-01</td>\n",
       "      <td>AA</td>\n",
       "      <td>19805</td>\n",
       "      <td>N335AA</td>\n",
       "      <td>3</td>\n",
       "      <td>JFK</td>\n",
       "      <td>LAX</td>\n",
       "      <td>1,157.00</td>\n",
       "      <td>-3.00</td>\n",
       "      <td>1,523.00</td>\n",
       "      <td>13.00</td>\n",
       "      <td>0.00</td>\n",
       "      <td>2014-01-01 15:23:00</td>\n",
       "      <td>2014-01-01 11:57:00</td>\n",
       "    </tr>\n",
       "    <tr>\n",
       "      <th>2</th>\n",
       "      <td>2014-01-01</td>\n",
       "      <td>AA</td>\n",
       "      <td>19805</td>\n",
       "      <td>N327AA</td>\n",
       "      <td>21</td>\n",
       "      <td>JFK</td>\n",
       "      <td>LAX</td>\n",
       "      <td>1,902.00</td>\n",
       "      <td>2.00</td>\n",
       "      <td>2,224.00</td>\n",
       "      <td>9.00</td>\n",
       "      <td>0.00</td>\n",
       "      <td>2014-01-01 22:24:00</td>\n",
       "      <td>2014-01-01 19:02:00</td>\n",
       "    </tr>\n",
       "    <tr>\n",
       "      <th>3</th>\n",
       "      <td>2014-01-01</td>\n",
       "      <td>AA</td>\n",
       "      <td>19805</td>\n",
       "      <td>N3EHAA</td>\n",
       "      <td>29</td>\n",
       "      <td>LGA</td>\n",
       "      <td>PBI</td>\n",
       "      <td>722.00</td>\n",
       "      <td>-8.00</td>\n",
       "      <td>1,014.00</td>\n",
       "      <td>-26.00</td>\n",
       "      <td>0.00</td>\n",
       "      <td>2014-01-01 10:14:00</td>\n",
       "      <td>2014-01-01 07:22:00</td>\n",
       "    </tr>\n",
       "    <tr>\n",
       "      <th>4</th>\n",
       "      <td>2014-01-01</td>\n",
       "      <td>AA</td>\n",
       "      <td>19805</td>\n",
       "      <td>N319AA</td>\n",
       "      <td>117</td>\n",
       "      <td>JFK</td>\n",
       "      <td>LAX</td>\n",
       "      <td>1,347.00</td>\n",
       "      <td>2.00</td>\n",
       "      <td>1,706.00</td>\n",
       "      <td>1.00</td>\n",
       "      <td>0.00</td>\n",
       "      <td>2014-01-01 17:06:00</td>\n",
       "      <td>2014-01-01 13:47:00</td>\n",
       "    </tr>\n",
       "    <tr>\n",
       "      <th>...</th>\n",
       "      <td>...</td>\n",
       "      <td>...</td>\n",
       "      <td>...</td>\n",
       "      <td>...</td>\n",
       "      <td>...</td>\n",
       "      <td>...</td>\n",
       "      <td>...</td>\n",
       "      <td>...</td>\n",
       "      <td>...</td>\n",
       "      <td>...</td>\n",
       "      <td>...</td>\n",
       "      <td>...</td>\n",
       "      <td>...</td>\n",
       "      <td>...</td>\n",
       "    </tr>\n",
       "    <tr>\n",
       "      <th>20812</th>\n",
       "      <td>2014-01-31</td>\n",
       "      <td>UA</td>\n",
       "      <td>19977</td>\n",
       "      <td>N54711</td>\n",
       "      <td>1253</td>\n",
       "      <td>ROC</td>\n",
       "      <td>ORD</td>\n",
       "      <td>801.00</td>\n",
       "      <td>-4.00</td>\n",
       "      <td>908.00</td>\n",
       "      <td>4.00</td>\n",
       "      <td>0.00</td>\n",
       "      <td>2014-01-31 09:08:00</td>\n",
       "      <td>2014-01-31 08:01:00</td>\n",
       "    </tr>\n",
       "    <tr>\n",
       "      <th>20813</th>\n",
       "      <td>2014-01-31</td>\n",
       "      <td>UA</td>\n",
       "      <td>19977</td>\n",
       "      <td>N77525</td>\n",
       "      <td>1429</td>\n",
       "      <td>LGA</td>\n",
       "      <td>CLE</td>\n",
       "      <td>1,522.00</td>\n",
       "      <td>-10.00</td>\n",
       "      <td>1,649.00</td>\n",
       "      <td>-31.00</td>\n",
       "      <td>0.00</td>\n",
       "      <td>2014-01-31 16:49:00</td>\n",
       "      <td>2014-01-31 15:22:00</td>\n",
       "    </tr>\n",
       "    <tr>\n",
       "      <th>20814</th>\n",
       "      <td>2014-01-31</td>\n",
       "      <td>UA</td>\n",
       "      <td>19977</td>\n",
       "      <td>N37293</td>\n",
       "      <td>1456</td>\n",
       "      <td>LGA</td>\n",
       "      <td>IAH</td>\n",
       "      <td>719.00</td>\n",
       "      <td>-6.00</td>\n",
       "      <td>1,006.00</td>\n",
       "      <td>-20.00</td>\n",
       "      <td>0.00</td>\n",
       "      <td>2014-01-31 10:06:00</td>\n",
       "      <td>2014-01-31 07:19:00</td>\n",
       "    </tr>\n",
       "    <tr>\n",
       "      <th>20815</th>\n",
       "      <td>2014-01-31</td>\n",
       "      <td>UA</td>\n",
       "      <td>19977</td>\n",
       "      <td>N24729</td>\n",
       "      <td>1457</td>\n",
       "      <td>LGA</td>\n",
       "      <td>IAH</td>\n",
       "      <td>852.00</td>\n",
       "      <td>7.00</td>\n",
       "      <td>1,156.00</td>\n",
       "      <td>-6.00</td>\n",
       "      <td>0.00</td>\n",
       "      <td>2014-01-31 11:56:00</td>\n",
       "      <td>2014-01-31 08:52:00</td>\n",
       "    </tr>\n",
       "    <tr>\n",
       "      <th>20816</th>\n",
       "      <td>2014-01-31</td>\n",
       "      <td>MQ</td>\n",
       "      <td>20398</td>\n",
       "      <td>N609MQ</td>\n",
       "      <td>3699</td>\n",
       "      <td>BUF</td>\n",
       "      <td>ORD</td>\n",
       "      <td>1,208.00</td>\n",
       "      <td>-12.00</td>\n",
       "      <td>1,251.00</td>\n",
       "      <td>-19.00</td>\n",
       "      <td>0.00</td>\n",
       "      <td>2014-01-31 12:51:00</td>\n",
       "      <td>2014-01-31 12:08:00</td>\n",
       "    </tr>\n",
       "  </tbody>\n",
       "</table>\n",
       "<p>20817 rows × 14 columns</p>\n",
       "</div>"
      ],
      "text/plain": [
       "         fl_date unique_carrier  airline_id tail_num  fl_num origin dest  \\\n",
       "0     2014-01-01             AA       19805   N338AA       1    JFK  LAX   \n",
       "1     2014-01-01             AA       19805   N335AA       3    JFK  LAX   \n",
       "2     2014-01-01             AA       19805   N327AA      21    JFK  LAX   \n",
       "3     2014-01-01             AA       19805   N3EHAA      29    LGA  PBI   \n",
       "4     2014-01-01             AA       19805   N319AA     117    JFK  LAX   \n",
       "...          ...            ...         ...      ...     ...    ...  ...   \n",
       "20812 2014-01-31             UA       19977   N54711    1253    ROC  ORD   \n",
       "20813 2014-01-31             UA       19977   N77525    1429    LGA  CLE   \n",
       "20814 2014-01-31             UA       19977   N37293    1456    LGA  IAH   \n",
       "20815 2014-01-31             UA       19977   N24729    1457    LGA  IAH   \n",
       "20816 2014-01-31             MQ       20398   N609MQ    3699    BUF  ORD   \n",
       "\n",
       "       dep_time  dep_delay  arr_time  arr_delay  cancelled  \\\n",
       "0        914.00      14.00  1,238.00      13.00       0.00   \n",
       "1      1,157.00      -3.00  1,523.00      13.00       0.00   \n",
       "2      1,902.00       2.00  2,224.00       9.00       0.00   \n",
       "3        722.00      -8.00  1,014.00     -26.00       0.00   \n",
       "4      1,347.00       2.00  1,706.00       1.00       0.00   \n",
       "...         ...        ...       ...        ...        ...   \n",
       "20812    801.00      -4.00    908.00       4.00       0.00   \n",
       "20813  1,522.00     -10.00  1,649.00     -31.00       0.00   \n",
       "20814    719.00      -6.00  1,006.00     -20.00       0.00   \n",
       "20815    852.00       7.00  1,156.00      -6.00       0.00   \n",
       "20816  1,208.00     -12.00  1,251.00     -19.00       0.00   \n",
       "\n",
       "                      arr                 dep  \n",
       "0     2014-01-01 12:38:00 2014-01-01 09:14:00  \n",
       "1     2014-01-01 15:23:00 2014-01-01 11:57:00  \n",
       "2     2014-01-01 22:24:00 2014-01-01 19:02:00  \n",
       "3     2014-01-01 10:14:00 2014-01-01 07:22:00  \n",
       "4     2014-01-01 17:06:00 2014-01-01 13:47:00  \n",
       "...                   ...                 ...  \n",
       "20812 2014-01-31 09:08:00 2014-01-31 08:01:00  \n",
       "20813 2014-01-31 16:49:00 2014-01-31 15:22:00  \n",
       "20814 2014-01-31 10:06:00 2014-01-31 07:19:00  \n",
       "20815 2014-01-31 11:56:00 2014-01-31 08:52:00  \n",
       "20816 2014-01-31 12:51:00 2014-01-31 12:08:00  \n",
       "\n",
       "[20817 rows x 14 columns]"
      ]
     },
     "execution_count": 4,
     "metadata": {},
     "output_type": "execute_result"
    }
   ],
   "source": [
    "flights = pd.read_parquet(\"data/ny-flights.parq\")\n",
    "flights"
   ]
  },
  {
   "cell_type": "markdown",
   "metadata": {},
   "source": [
    "`read_parquet` returned a `DataFrame`, which is somewhat similar to a spreadsheet or database table.\n",
    "`pd.DataFrame` is the data container you'll work most with, and consists of a few components:"
   ]
  },
  {
   "cell_type": "markdown",
   "metadata": {},
   "source": [
    "## DataFrame Components\n",
    "\n",
    "\n",
    "![A dataframe is made up of data, row labels, and column labels](figures/dataframe-diagram.png)"
   ]
  },
  {
   "cell_type": "markdown",
   "metadata": {},
   "source": [
    "The data are in the middle of the table.\n",
    "Each column of the data is a `pd.Series`, kind of like a 1-dimensional version of a DataFrame. Each row is also a `pd.Series`."
   ]
  },
  {
   "cell_type": "code",
   "execution_count": 5,
   "metadata": {},
   "outputs": [
    {
     "data": {
      "text/plain": [
       "0        14.00\n",
       "1        -3.00\n",
       "2         2.00\n",
       "3        -8.00\n",
       "4         2.00\n",
       "         ...  \n",
       "20812    -4.00\n",
       "20813   -10.00\n",
       "20814    -6.00\n",
       "20815     7.00\n",
       "20816   -12.00\n",
       "Name: dep_delay, Length: 20817, dtype: float64"
      ]
     },
     "execution_count": 5,
     "metadata": {},
     "output_type": "execute_result"
    }
   ],
   "source": [
    "flights['dep_delay']"
   ]
  },
  {
   "cell_type": "code",
   "execution_count": 6,
   "metadata": {},
   "outputs": [
    {
     "data": {
      "text/plain": [
       "fl_date           2014-01-01 00:00:00\n",
       "unique_carrier                     AA\n",
       "airline_id                      19805\n",
       "tail_num                       N338AA\n",
       "fl_num                              1\n",
       "                         ...         \n",
       "arr_time                     1,238.00\n",
       "arr_delay                       13.00\n",
       "cancelled                        0.00\n",
       "arr               2014-01-01 12:38:00\n",
       "dep               2014-01-01 09:14:00\n",
       "Name: 0, Length: 14, dtype: object"
      ]
     },
     "execution_count": 6,
     "metadata": {},
     "output_type": "execute_result"
    }
   ],
   "source": [
    "flights.iloc[0]"
   ]
  },
  {
   "cell_type": "markdown",
   "metadata": {},
   "source": [
    "To contrast, the following returns a `pd.DataFrame` with one column dep_delay. See how `pandas` *reduces dimensionality* below."
   ]
  },
  {
   "cell_type": "code",
   "execution_count": 7,
   "metadata": {},
   "outputs": [
    {
     "data": {
      "text/html": [
       "<div>\n",
       "<style scoped>\n",
       "    .dataframe tbody tr th:only-of-type {\n",
       "        vertical-align: middle;\n",
       "    }\n",
       "\n",
       "    .dataframe tbody tr th {\n",
       "        vertical-align: top;\n",
       "    }\n",
       "\n",
       "    .dataframe thead th {\n",
       "        text-align: right;\n",
       "    }\n",
       "</style>\n",
       "<table border=\"1\" class=\"dataframe\">\n",
       "  <thead>\n",
       "    <tr style=\"text-align: right;\">\n",
       "      <th></th>\n",
       "      <th>dep_delay</th>\n",
       "    </tr>\n",
       "  </thead>\n",
       "  <tbody>\n",
       "    <tr>\n",
       "      <th>0</th>\n",
       "      <td>14.00</td>\n",
       "    </tr>\n",
       "    <tr>\n",
       "      <th>1</th>\n",
       "      <td>-3.00</td>\n",
       "    </tr>\n",
       "    <tr>\n",
       "      <th>2</th>\n",
       "      <td>2.00</td>\n",
       "    </tr>\n",
       "    <tr>\n",
       "      <th>3</th>\n",
       "      <td>-8.00</td>\n",
       "    </tr>\n",
       "    <tr>\n",
       "      <th>4</th>\n",
       "      <td>2.00</td>\n",
       "    </tr>\n",
       "    <tr>\n",
       "      <th>...</th>\n",
       "      <td>...</td>\n",
       "    </tr>\n",
       "    <tr>\n",
       "      <th>20812</th>\n",
       "      <td>-4.00</td>\n",
       "    </tr>\n",
       "    <tr>\n",
       "      <th>20813</th>\n",
       "      <td>-10.00</td>\n",
       "    </tr>\n",
       "    <tr>\n",
       "      <th>20814</th>\n",
       "      <td>-6.00</td>\n",
       "    </tr>\n",
       "    <tr>\n",
       "      <th>20815</th>\n",
       "      <td>7.00</td>\n",
       "    </tr>\n",
       "    <tr>\n",
       "      <th>20816</th>\n",
       "      <td>-12.00</td>\n",
       "    </tr>\n",
       "  </tbody>\n",
       "</table>\n",
       "<p>20817 rows × 1 columns</p>\n",
       "</div>"
      ],
      "text/plain": [
       "       dep_delay\n",
       "0          14.00\n",
       "1          -3.00\n",
       "2           2.00\n",
       "3          -8.00\n",
       "4           2.00\n",
       "...          ...\n",
       "20812      -4.00\n",
       "20813     -10.00\n",
       "20814      -6.00\n",
       "20815       7.00\n",
       "20816     -12.00\n",
       "\n",
       "[20817 rows x 1 columns]"
      ]
     },
     "execution_count": 7,
     "metadata": {},
     "output_type": "execute_result"
    }
   ],
   "source": [
    "flights[['dep_delay']]"
   ]
  },
  {
   "cell_type": "markdown",
   "metadata": {},
   "source": [
    "Both `pd.DataFrame`s and `pd.Series` have *row labels*, which can be accessed with the `.index` attribute:"
   ]
  },
  {
   "cell_type": "code",
   "execution_count": 8,
   "metadata": {},
   "outputs": [
    {
     "data": {
      "text/plain": [
       "Int64Index([    0,     1,     2,     3,     4,     5,     6,     7,     8,\n",
       "                9,\n",
       "            ...\n",
       "            20807, 20808, 20809, 20810, 20811, 20812, 20813, 20814, 20815,\n",
       "            20816],\n",
       "           dtype='int64', length=20817)"
      ]
     },
     "execution_count": 8,
     "metadata": {},
     "output_type": "execute_result"
    }
   ],
   "source": [
    "flights.index"
   ]
  },
  {
   "cell_type": "markdown",
   "metadata": {},
   "source": [
    "`flights.index` is a `pd.Index` (there are many specialized index types, like `pd.RangeIndex`, but we'll talk about those later).\n",
    "\n",
    "DataFrames store their column labels in a `.columns` attribute, which is also a `pd.Index`:"
   ]
  },
  {
   "cell_type": "code",
   "execution_count": 9,
   "metadata": {},
   "outputs": [
    {
     "data": {
      "text/plain": [
       "Index(['fl_date', 'unique_carrier', 'airline_id', 'tail_num', 'fl_num',\n",
       "       'origin', 'dest', 'dep_time', 'dep_delay', 'arr_time', 'arr_delay',\n",
       "       'cancelled', 'arr', 'dep'],\n",
       "      dtype='object')"
      ]
     },
     "execution_count": 9,
     "metadata": {},
     "output_type": "execute_result"
    }
   ],
   "source": [
    "flights.columns"
   ]
  },
  {
   "cell_type": "markdown",
   "metadata": {},
   "source": [
    "The row and column labels help out with indexing and alignemnt, our first two topics."
   ]
  },
  {
   "cell_type": "markdown",
   "metadata": {},
   "source": [
    "## Data Types\n",
    "\n",
    "DataFrames are a **columnar** data structure, which mean they're a container for *heterogenous* data. Each column can have it's own data type:"
   ]
  },
  {
   "cell_type": "code",
   "execution_count": 10,
   "metadata": {},
   "outputs": [
    {
     "data": {
      "text/plain": [
       "fl_date           datetime64[ns]\n",
       "unique_carrier            object\n",
       "airline_id                 int64\n",
       "tail_num                  object\n",
       "fl_num                     int64\n",
       "                       ...      \n",
       "arr_time                 float64\n",
       "arr_delay                float64\n",
       "cancelled                float64\n",
       "arr               datetime64[ns]\n",
       "dep               datetime64[ns]\n",
       "Length: 14, dtype: object"
      ]
     },
     "execution_count": 10,
     "metadata": {},
     "output_type": "execute_result"
    }
   ],
   "source": [
    "flights.dtypes"
   ]
  },
  {
   "cell_type": "markdown",
   "metadata": {},
   "source": [
    "This differs from a NumPy array, which are *homogenous*, i.e. the whole Numpy array contains homogenous data."
   ]
  },
  {
   "cell_type": "markdown",
   "metadata": {},
   "source": [
    "<div class=\"alert alert-success\" data-title=\"Data Containers\">\n",
    "  <h1><i class=\"fa fa-tasks\" aria-hidden=\"true\"></i> Exercise: Pandas to NumPy</h1>\n",
    "</div>\n",
    "\n",
    "You can get a NumPy array from a pandas `DataFrame` with the `.values` attribute. If the original dataframe contains heterogenous types, the `dtype` of the values NumPy array will be object: `dtype('O')`."
   ]
  },
  {
   "cell_type": "code",
   "execution_count": 11,
   "metadata": {},
   "outputs": [
    {
     "data": {
      "text/plain": [
       "array([[Timestamp('2014-01-01 00:00:00'), 'AA', 19805, ..., 0.0,\n",
       "        Timestamp('2014-01-01 12:38:00'), Timestamp('2014-01-01 09:14:00')],\n",
       "       [Timestamp('2014-01-01 00:00:00'), 'AA', 19805, ..., 0.0,\n",
       "        Timestamp('2014-01-01 15:23:00'), Timestamp('2014-01-01 11:57:00')],\n",
       "       [Timestamp('2014-01-01 00:00:00'), 'AA', 19805, ..., 0.0,\n",
       "        Timestamp('2014-01-01 22:24:00'), Timestamp('2014-01-01 19:02:00')],\n",
       "       ..., \n",
       "       [Timestamp('2014-01-31 00:00:00'), 'UA', 19977, ..., 0.0,\n",
       "        Timestamp('2014-01-31 10:06:00'), Timestamp('2014-01-31 07:19:00')],\n",
       "       [Timestamp('2014-01-31 00:00:00'), 'UA', 19977, ..., 0.0,\n",
       "        Timestamp('2014-01-31 11:56:00'), Timestamp('2014-01-31 08:52:00')],\n",
       "       [Timestamp('2014-01-31 00:00:00'), 'MQ', 20398, ..., 0.0,\n",
       "        Timestamp('2014-01-31 12:51:00'), Timestamp('2014-01-31 12:08:00')]], dtype=object)"
      ]
     },
     "execution_count": 11,
     "metadata": {},
     "output_type": "execute_result"
    }
   ],
   "source": [
    "flights.values"
   ]
  },
  {
   "cell_type": "markdown",
   "metadata": {},
   "source": [
    "## Preview\n",
    "\n",
    "To get a bit of intuition about the data we're working with, let's to a brief bit of exploratory analysis.\n",
    "We'll see all this in more detail later, but I wanted to demonstrate some of the capabilities of pandas upfront."
   ]
  },
  {
   "cell_type": "code",
   "execution_count": 12,
   "metadata": {},
   "outputs": [
    {
     "data": {
      "image/png": "[encoded data removed]",
      "text/plain": [
       "<matplotlib.figure.Figure at 0x7f5aab2c46a0>"
      ]
     },
     "metadata": {},
     "output_type": "display_data"
    }
   ],
   "source": [
    "(flights['dep']\n",
    "    .value_counts()           # value_counts returns the counts of unique values per index in the Series, so this is flights per second\n",
    "    .resample('H').sum()      # Resample to flights per hour\n",
    "    .rolling(8).mean()        # 8 hour rolling mean\n",
    "    .plot (figsize=(12, 6),    # plot\n",
    "          title=\"Number of Flights (8H Rolling Mean)\"))\n",
    "sns.despine()"
   ]
  },
  {
   "cell_type": "markdown",
   "metadata": {},
   "source": [
    "And the joint distribution of departure and arrival delays:"
   ]
  },
  {
   "cell_type": "code",
   "execution_count": 13,
   "metadata": {},
   "outputs": [
    {
     "data": {
      "image/png": "[encoded data removed]",
      "text/plain": [
       "<matplotlib.figure.Figure at 0x7f5aaaf9c748>"
      ]
     },
     "metadata": {},
     "output_type": "display_data"
    }
   ],
   "source": [
    "sns.jointplot('dep_delay', 'arr_delay',\n",
    "              flights.loc[(flights['dep_delay'] > 1) &      # This notebook!\n",
    "                          (flights['dep_delay'] < 500)],\n",
    "              alpha=.25, marker='.', size=8);"
   ]
  },
  {
   "cell_type": "markdown",
   "metadata": {},
   "source": [
    "We'll explore some of those methods and visualization techniques later.\n",
    "For now we'll turn to the more fundamental operation of indexing.\n",
    "\n",
    "By indexing, we mean selecting subsets of your data.\n",
    "It's a good starting point, because it comes up in so many other places;\n",
    "It's a terrible starting point because it's somewhat complicated, and somewhat boring."
   ]
  },
  {
   "cell_type": "markdown",
   "metadata": {},
   "source": [
    "## Goal of Indexing: subset the data\n",
    "\n",
    "There are many ways you might want to specify which subset you want to select:\n",
    "\n",
    "- Like lists, you can index by integer position.\n",
    "- Like dictionaries, you can index by label.\n",
    "- Like NumPy arrays, you can index by boolean masks.\n",
    "- You can index with a scalar, `slice`, or array\n",
    "- Any of these should work on the index (row labels), or columns of a DataFrame, or both\n",
    "- And any of these should work on hierarchical indexes."
   ]
  },
  {
   "cell_type": "markdown",
   "metadata": {},
   "source": [
    "## The Basic Rules\n",
    "\n",
    "1. Use `__getitem__` (square brackets) to select columns of a `DataFrame`\n",
    "\n",
    "    ```python\n",
    "    >>> df[['a', 'b', 'c']]\n",
    "    ```\n",
    "\n",
    "2. Use `.loc` for label-based indexing (rows and columns)\n",
    "\n",
    "    ```python\n",
    "    >>> df.loc[row_labels, column_labels]\n",
    "    ```\n",
    "\n",
    "3. Use `.iloc` for position-based indexing (rows and columns)\n",
    "\n",
    "    ```python\n",
    "    >>> df.iloc[row_positions, column_positions]\n",
    "    ```"
   ]
  },
  {
   "cell_type": "markdown",
   "metadata": {},
   "source": [
    "---\n",
    "\n",
    "The arguments to `.loc` and `.iloc` are `.loc[row_indexer, column_indexer]`. An indexer can be one of\n",
    "\n",
    "- A scalar or array (of labels or integer positions)\n",
    "- A `slice` object (including `:` for everything)\n",
    "- A boolean mask\n",
    "\n",
    "The column indexer is optional.\n",
    "We'll walk through all the combinations below."
   ]
  },
  {
   "cell_type": "markdown",
   "metadata": {},
   "source": [
    "Let's get a DataFrame with a labeled index by selecting the\n",
    "first flight for each carrier. We'll talk about `groupby` later."
   ]
  },
  {
   "cell_type": "code",
   "execution_count": 14,
   "metadata": {},
   "outputs": [
    {
     "data": {
      "text/html": [
       "<div>\n",
       "<style scoped>\n",
       "    .dataframe tbody tr th:only-of-type {\n",
       "        vertical-align: middle;\n",
       "    }\n",
       "\n",
       "    .dataframe tbody tr th {\n",
       "        vertical-align: top;\n",
       "    }\n",
       "\n",
       "    .dataframe thead th {\n",
       "        text-align: right;\n",
       "    }\n",
       "</style>\n",
       "<table border=\"1\" class=\"dataframe\">\n",
       "  <thead>\n",
       "    <tr style=\"text-align: right;\">\n",
       "      <th></th>\n",
       "      <th>fl_date</th>\n",
       "      <th>airline_id</th>\n",
       "      <th>tail_num</th>\n",
       "      <th>fl_num</th>\n",
       "      <th>origin</th>\n",
       "      <th>dest</th>\n",
       "      <th>dep_time</th>\n",
       "      <th>dep_delay</th>\n",
       "      <th>arr_time</th>\n",
       "      <th>arr_delay</th>\n",
       "      <th>cancelled</th>\n",
       "      <th>arr</th>\n",
       "      <th>dep</th>\n",
       "    </tr>\n",
       "    <tr>\n",
       "      <th>unique_carrier</th>\n",
       "      <th></th>\n",
       "      <th></th>\n",
       "      <th></th>\n",
       "      <th></th>\n",
       "      <th></th>\n",
       "      <th></th>\n",
       "      <th></th>\n",
       "      <th></th>\n",
       "      <th></th>\n",
       "      <th></th>\n",
       "      <th></th>\n",
       "      <th></th>\n",
       "      <th></th>\n",
       "    </tr>\n",
       "  </thead>\n",
       "  <tbody>\n",
       "    <tr>\n",
       "      <th>AA</th>\n",
       "      <td>2014-01-01</td>\n",
       "      <td>19805</td>\n",
       "      <td>N338AA</td>\n",
       "      <td>1</td>\n",
       "      <td>JFK</td>\n",
       "      <td>LAX</td>\n",
       "      <td>914.00</td>\n",
       "      <td>14.00</td>\n",
       "      <td>1,238.00</td>\n",
       "      <td>13.00</td>\n",
       "      <td>0.00</td>\n",
       "      <td>2014-01-01 12:38:00</td>\n",
       "      <td>2014-01-01 09:14:00</td>\n",
       "    </tr>\n",
       "    <tr>\n",
       "      <th>B6</th>\n",
       "      <td>2014-01-01</td>\n",
       "      <td>20409</td>\n",
       "      <td>N318JB</td>\n",
       "      <td>115</td>\n",
       "      <td>SYR</td>\n",
       "      <td>JFK</td>\n",
       "      <td>720.00</td>\n",
       "      <td>90.00</td>\n",
       "      <td>808.00</td>\n",
       "      <td>55.00</td>\n",
       "      <td>0.00</td>\n",
       "      <td>2014-01-01 08:08:00</td>\n",
       "      <td>2014-01-01 07:20:00</td>\n",
       "    </tr>\n",
       "    <tr>\n",
       "      <th>DL</th>\n",
       "      <td>2014-01-01</td>\n",
       "      <td>19790</td>\n",
       "      <td>N930DL</td>\n",
       "      <td>61</td>\n",
       "      <td>LGA</td>\n",
       "      <td>ATL</td>\n",
       "      <td>1,810.00</td>\n",
       "      <td>10.00</td>\n",
       "      <td>2,054.00</td>\n",
       "      <td>10.00</td>\n",
       "      <td>0.00</td>\n",
       "      <td>2014-01-01 20:54:00</td>\n",
       "      <td>2014-01-01 18:10:00</td>\n",
       "    </tr>\n",
       "    <tr>\n",
       "      <th>EV</th>\n",
       "      <td>2014-01-01</td>\n",
       "      <td>20366</td>\n",
       "      <td>N14977</td>\n",
       "      <td>3259</td>\n",
       "      <td>HPN</td>\n",
       "      <td>ORD</td>\n",
       "      <td>731.00</td>\n",
       "      <td>-5.00</td>\n",
       "      <td>940.00</td>\n",
       "      <td>31.00</td>\n",
       "      <td>0.00</td>\n",
       "      <td>2014-01-01 09:40:00</td>\n",
       "      <td>2014-01-01 07:31:00</td>\n",
       "    </tr>\n",
       "    <tr>\n",
       "      <th>F9</th>\n",
       "      <td>2014-01-01</td>\n",
       "      <td>20436</td>\n",
       "      <td>N209FR</td>\n",
       "      <td>507</td>\n",
       "      <td>LGA</td>\n",
       "      <td>DEN</td>\n",
       "      <td>1,804.00</td>\n",
       "      <td>35.00</td>\n",
       "      <td>2,047.00</td>\n",
       "      <td>47.00</td>\n",
       "      <td>0.00</td>\n",
       "      <td>2014-01-01 20:47:00</td>\n",
       "      <td>2014-01-01 18:04:00</td>\n",
       "    </tr>\n",
       "    <tr>\n",
       "      <th>...</th>\n",
       "      <td>...</td>\n",
       "      <td>...</td>\n",
       "      <td>...</td>\n",
       "      <td>...</td>\n",
       "      <td>...</td>\n",
       "      <td>...</td>\n",
       "      <td>...</td>\n",
       "      <td>...</td>\n",
       "      <td>...</td>\n",
       "      <td>...</td>\n",
       "      <td>...</td>\n",
       "      <td>...</td>\n",
       "      <td>...</td>\n",
       "    </tr>\n",
       "    <tr>\n",
       "      <th>OO</th>\n",
       "      <td>2014-01-07</td>\n",
       "      <td>20304</td>\n",
       "      <td>N732SK</td>\n",
       "      <td>6258</td>\n",
       "      <td>SYR</td>\n",
       "      <td>ORD</td>\n",
       "      <td>1,721.00</td>\n",
       "      <td>49.00</td>\n",
       "      <td>1,834.00</td>\n",
       "      <td>47.00</td>\n",
       "      <td>1.00</td>\n",
       "      <td>2014-01-08 18:34:00</td>\n",
       "      <td>2014-01-08 17:21:00</td>\n",
       "    </tr>\n",
       "    <tr>\n",
       "      <th>UA</th>\n",
       "      <td>2014-01-01</td>\n",
       "      <td>19977</td>\n",
       "      <td>N413UA</td>\n",
       "      <td>255</td>\n",
       "      <td>LGA</td>\n",
       "      <td>ORD</td>\n",
       "      <td>824.00</td>\n",
       "      <td>0.00</td>\n",
       "      <td>1,006.00</td>\n",
       "      <td>8.00</td>\n",
       "      <td>0.00</td>\n",
       "      <td>2014-01-01 10:06:00</td>\n",
       "      <td>2014-01-01 08:24:00</td>\n",
       "    </tr>\n",
       "    <tr>\n",
       "      <th>US</th>\n",
       "      <td>2014-01-01</td>\n",
       "      <td>20355</td>\n",
       "      <td>N546UW</td>\n",
       "      <td>629</td>\n",
       "      <td>JFK</td>\n",
       "      <td>PHX</td>\n",
       "      <td>1,624.00</td>\n",
       "      <td>-6.00</td>\n",
       "      <td>1,932.00</td>\n",
       "      <td>-39.00</td>\n",
       "      <td>0.00</td>\n",
       "      <td>2014-01-01 19:32:00</td>\n",
       "      <td>2014-01-01 16:24:00</td>\n",
       "    </tr>\n",
       "    <tr>\n",
       "      <th>VX</th>\n",
       "      <td>2014-01-01</td>\n",
       "      <td>21171</td>\n",
       "      <td>N361VA</td>\n",
       "      <td>11</td>\n",
       "      <td>JFK</td>\n",
       "      <td>SFO</td>\n",
       "      <td>730.00</td>\n",
       "      <td>0.00</td>\n",
       "      <td>1,056.00</td>\n",
       "      <td>-14.00</td>\n",
       "      <td>0.00</td>\n",
       "      <td>2014-01-01 10:56:00</td>\n",
       "      <td>2014-01-01 07:30:00</td>\n",
       "    </tr>\n",
       "    <tr>\n",
       "      <th>WN</th>\n",
       "      <td>2014-01-01</td>\n",
       "      <td>19393</td>\n",
       "      <td>N625SW</td>\n",
       "      <td>613</td>\n",
       "      <td>ALB</td>\n",
       "      <td>BWI</td>\n",
       "      <td>1,502.00</td>\n",
       "      <td>17.00</td>\n",
       "      <td>1,615.00</td>\n",
       "      <td>15.00</td>\n",
       "      <td>0.00</td>\n",
       "      <td>2014-01-01 16:15:00</td>\n",
       "      <td>2014-01-01 15:02:00</td>\n",
       "    </tr>\n",
       "  </tbody>\n",
       "</table>\n",
       "<p>13 rows × 13 columns</p>\n",
       "</div>"
      ],
      "text/plain": [
       "                  fl_date  airline_id tail_num  fl_num origin dest  dep_time  \\\n",
       "unique_carrier                                                                 \n",
       "AA             2014-01-01       19805   N338AA       1    JFK  LAX    914.00   \n",
       "B6             2014-01-01       20409   N318JB     115    SYR  JFK    720.00   \n",
       "DL             2014-01-01       19790   N930DL      61    LGA  ATL  1,810.00   \n",
       "EV             2014-01-01       20366   N14977    3259    HPN  ORD    731.00   \n",
       "F9             2014-01-01       20436   N209FR     507    LGA  DEN  1,804.00   \n",
       "...                   ...         ...      ...     ...    ...  ...       ...   \n",
       "OO             2014-01-07       20304   N732SK    6258    SYR  ORD  1,721.00   \n",
       "UA             2014-01-01       19977   N413UA     255    LGA  ORD    824.00   \n",
       "US             2014-01-01       20355   N546UW     629    JFK  PHX  1,624.00   \n",
       "VX             2014-01-01       21171   N361VA      11    JFK  SFO    730.00   \n",
       "WN             2014-01-01       19393   N625SW     613    ALB  BWI  1,502.00   \n",
       "\n",
       "                dep_delay  arr_time  arr_delay  cancelled                 arr  \\\n",
       "unique_carrier                                                                  \n",
       "AA                  14.00  1,238.00      13.00       0.00 2014-01-01 12:38:00   \n",
       "B6                  90.00    808.00      55.00       0.00 2014-01-01 08:08:00   \n",
       "DL                  10.00  2,054.00      10.00       0.00 2014-01-01 20:54:00   \n",
       "EV                  -5.00    940.00      31.00       0.00 2014-01-01 09:40:00   \n",
       "F9                  35.00  2,047.00      47.00       0.00 2014-01-01 20:47:00   \n",
       "...                   ...       ...        ...        ...                 ...   \n",
       "OO                  49.00  1,834.00      47.00       1.00 2014-01-08 18:34:00   \n",
       "UA                   0.00  1,006.00       8.00       0.00 2014-01-01 10:06:00   \n",
       "US                  -6.00  1,932.00     -39.00       0.00 2014-01-01 19:32:00   \n",
       "VX                   0.00  1,056.00     -14.00       0.00 2014-01-01 10:56:00   \n",
       "WN                  17.00  1,615.00      15.00       0.00 2014-01-01 16:15:00   \n",
       "\n",
       "                               dep  \n",
       "unique_carrier                      \n",
       "AA             2014-01-01 09:14:00  \n",
       "B6             2014-01-01 07:20:00  \n",
       "DL             2014-01-01 18:10:00  \n",
       "EV             2014-01-01 07:31:00  \n",
       "F9             2014-01-01 18:04:00  \n",
       "...                            ...  \n",
       "OO             2014-01-08 17:21:00  \n",
       "UA             2014-01-01 08:24:00  \n",
       "US             2014-01-01 16:24:00  \n",
       "VX             2014-01-01 07:30:00  \n",
       "WN             2014-01-01 15:02:00  \n",
       "\n",
       "[13 rows x 13 columns]"
      ]
     },
     "execution_count": 14,
     "metadata": {},
     "output_type": "execute_result"
    }
   ],
   "source": [
    "first = flights.groupby(\"unique_carrier\").first()\n",
    "first"
   ]
  },
  {
   "cell_type": "markdown",
   "metadata": {},
   "source": [
    "## 1. Selecting Columns with `__getitem__`\n",
    "\n",
    "Let's select the two delay columns. Since we're *only* filtering the columns (not rows), we can use dictionary-like `[]` to do the slicing."
   ]
  },
  {
   "cell_type": "code",
   "execution_count": 15,
   "metadata": {},
   "outputs": [
    {
     "data": {
      "text/html": [
       "<div>\n",
       "<style scoped>\n",
       "    .dataframe tbody tr th:only-of-type {\n",
       "        vertical-align: middle;\n",
       "    }\n",
       "\n",
       "    .dataframe tbody tr th {\n",
       "        vertical-align: top;\n",
       "    }\n",
       "\n",
       "    .dataframe thead th {\n",
       "        text-align: right;\n",
       "    }\n",
       "</style>\n",
       "<table border=\"1\" class=\"dataframe\">\n",
       "  <thead>\n",
       "    <tr style=\"text-align: right;\">\n",
       "      <th></th>\n",
       "      <th>dep_delay</th>\n",
       "      <th>arr_delay</th>\n",
       "    </tr>\n",
       "    <tr>\n",
       "      <th>unique_carrier</th>\n",
       "      <th></th>\n",
       "      <th></th>\n",
       "    </tr>\n",
       "  </thead>\n",
       "  <tbody>\n",
       "    <tr>\n",
       "      <th>AA</th>\n",
       "      <td>14.00</td>\n",
       "      <td>13.00</td>\n",
       "    </tr>\n",
       "    <tr>\n",
       "      <th>B6</th>\n",
       "      <td>90.00</td>\n",
       "      <td>55.00</td>\n",
       "    </tr>\n",
       "    <tr>\n",
       "      <th>DL</th>\n",
       "      <td>10.00</td>\n",
       "      <td>10.00</td>\n",
       "    </tr>\n",
       "    <tr>\n",
       "      <th>EV</th>\n",
       "      <td>-5.00</td>\n",
       "      <td>31.00</td>\n",
       "    </tr>\n",
       "    <tr>\n",
       "      <th>F9</th>\n",
       "      <td>35.00</td>\n",
       "      <td>47.00</td>\n",
       "    </tr>\n",
       "    <tr>\n",
       "      <th>...</th>\n",
       "      <td>...</td>\n",
       "      <td>...</td>\n",
       "    </tr>\n",
       "    <tr>\n",
       "      <th>OO</th>\n",
       "      <td>49.00</td>\n",
       "      <td>47.00</td>\n",
       "    </tr>\n",
       "    <tr>\n",
       "      <th>UA</th>\n",
       "      <td>0.00</td>\n",
       "      <td>8.00</td>\n",
       "    </tr>\n",
       "    <tr>\n",
       "      <th>US</th>\n",
       "      <td>-6.00</td>\n",
       "      <td>-39.00</td>\n",
       "    </tr>\n",
       "    <tr>\n",
       "      <th>VX</th>\n",
       "      <td>0.00</td>\n",
       "      <td>-14.00</td>\n",
       "    </tr>\n",
       "    <tr>\n",
       "      <th>WN</th>\n",
       "      <td>17.00</td>\n",
       "      <td>15.00</td>\n",
       "    </tr>\n",
       "  </tbody>\n",
       "</table>\n",
       "<p>13 rows × 2 columns</p>\n",
       "</div>"
      ],
      "text/plain": [
       "                dep_delay  arr_delay\n",
       "unique_carrier                      \n",
       "AA                  14.00      13.00\n",
       "B6                  90.00      55.00\n",
       "DL                  10.00      10.00\n",
       "EV                  -5.00      31.00\n",
       "F9                  35.00      47.00\n",
       "...                   ...        ...\n",
       "OO                  49.00      47.00\n",
       "UA                   0.00       8.00\n",
       "US                  -6.00     -39.00\n",
       "VX                   0.00     -14.00\n",
       "WN                  17.00      15.00\n",
       "\n",
       "[13 rows x 2 columns]"
      ]
     },
     "execution_count": 15,
     "metadata": {},
     "output_type": "execute_result"
    }
   ],
   "source": [
    "first[['dep_delay', 'arr_delay']]"
   ]
  },
  {
   "cell_type": "markdown",
   "metadata": {},
   "source": [
    "One potential source of confusion: python uses `[]` for two purposes\n",
    "\n",
    "1. building a list\n",
    "2. slicing with `__getitem__`"
   ]
  },
  {
   "cell_type": "code",
   "execution_count": 16,
   "metadata": {},
   "outputs": [
    {
     "data": {
      "text/html": [
       "<div>\n",
       "<style scoped>\n",
       "    .dataframe tbody tr th:only-of-type {\n",
       "        vertical-align: middle;\n",
       "    }\n",
       "\n",
       "    .dataframe tbody tr th {\n",
       "        vertical-align: top;\n",
       "    }\n",
       "\n",
       "    .dataframe thead th {\n",
       "        text-align: right;\n",
       "    }\n",
       "</style>\n",
       "<table border=\"1\" class=\"dataframe\">\n",
       "  <thead>\n",
       "    <tr style=\"text-align: right;\">\n",
       "      <th></th>\n",
       "      <th>dep_delay</th>\n",
       "      <th>arr_delay</th>\n",
       "    </tr>\n",
       "    <tr>\n",
       "      <th>unique_carrier</th>\n",
       "      <th></th>\n",
       "      <th></th>\n",
       "    </tr>\n",
       "  </thead>\n",
       "  <tbody>\n",
       "    <tr>\n",
       "      <th>AA</th>\n",
       "      <td>14.00</td>\n",
       "      <td>13.00</td>\n",
       "    </tr>\n",
       "    <tr>\n",
       "      <th>B6</th>\n",
       "      <td>90.00</td>\n",
       "      <td>55.00</td>\n",
       "    </tr>\n",
       "    <tr>\n",
       "      <th>DL</th>\n",
       "      <td>10.00</td>\n",
       "      <td>10.00</td>\n",
       "    </tr>\n",
       "    <tr>\n",
       "      <th>EV</th>\n",
       "      <td>-5.00</td>\n",
       "      <td>31.00</td>\n",
       "    </tr>\n",
       "    <tr>\n",
       "      <th>F9</th>\n",
       "      <td>35.00</td>\n",
       "      <td>47.00</td>\n",
       "    </tr>\n",
       "    <tr>\n",
       "      <th>...</th>\n",
       "      <td>...</td>\n",
       "      <td>...</td>\n",
       "    </tr>\n",
       "    <tr>\n",
       "      <th>OO</th>\n",
       "      <td>49.00</td>\n",
       "      <td>47.00</td>\n",
       "    </tr>\n",
       "    <tr>\n",
       "      <th>UA</th>\n",
       "      <td>0.00</td>\n",
       "      <td>8.00</td>\n",
       "    </tr>\n",
       "    <tr>\n",
       "      <th>US</th>\n",
       "      <td>-6.00</td>\n",
       "      <td>-39.00</td>\n",
       "    </tr>\n",
       "    <tr>\n",
       "      <th>VX</th>\n",
       "      <td>0.00</td>\n",
       "      <td>-14.00</td>\n",
       "    </tr>\n",
       "    <tr>\n",
       "      <th>WN</th>\n",
       "      <td>17.00</td>\n",
       "      <td>15.00</td>\n",
       "    </tr>\n",
       "  </tbody>\n",
       "</table>\n",
       "<p>13 rows × 2 columns</p>\n",
       "</div>"
      ],
      "text/plain": [
       "                dep_delay  arr_delay\n",
       "unique_carrier                      \n",
       "AA                  14.00      13.00\n",
       "B6                  90.00      55.00\n",
       "DL                  10.00      10.00\n",
       "EV                  -5.00      31.00\n",
       "F9                  35.00      47.00\n",
       "...                   ...        ...\n",
       "OO                  49.00      47.00\n",
       "UA                   0.00       8.00\n",
       "US                  -6.00     -39.00\n",
       "VX                   0.00     -14.00\n",
       "WN                  17.00      15.00\n",
       "\n",
       "[13 rows x 2 columns]"
      ]
     },
     "execution_count": 16,
     "metadata": {},
     "output_type": "execute_result"
    }
   ],
   "source": [
    "# 1. build the list cols\n",
    "cols = ['dep_delay', 'arr_delay']\n",
    "# 2. slice, with cols as the argument to `__getitem__`\n",
    "first[cols]"
   ]
  },
  {
   "cell_type": "markdown",
   "metadata": {},
   "source": [
    "<div class=\"alert alert-success\" data-title=\"Select Columns by Name\">\n",
    "  <h1><i class=\"fa fa-tasks\" aria-hidden=\"true\"></i> Exercise: Select Columns by Name</h1>\n",
    "</div>\n",
    "<p>Select the two airport-name columns, `'origin'` and `'dest'`, from `first`</p>"
   ]
  },
  {
   "cell_type": "code",
   "execution_count": 17,
   "metadata": {
    "tags": [
     "solution"
    ]
   },
   "outputs": [
    {
     "data": {
      "text/html": [
       "<div>\n",
       "<style scoped>\n",
       "    .dataframe tbody tr th:only-of-type {\n",
       "        vertical-align: middle;\n",
       "    }\n",
       "\n",
       "    .dataframe tbody tr th {\n",
       "        vertical-align: top;\n",
       "    }\n",
       "\n",
       "    .dataframe thead th {\n",
       "        text-align: right;\n",
       "    }\n",
       "</style>\n",
       "<table border=\"1\" class=\"dataframe\">\n",
       "  <thead>\n",
       "    <tr style=\"text-align: right;\">\n",
       "      <th></th>\n",
       "      <th>origin</th>\n",
       "      <th>dest</th>\n",
       "    </tr>\n",
       "    <tr>\n",
       "      <th>unique_carrier</th>\n",
       "      <th></th>\n",
       "      <th></th>\n",
       "    </tr>\n",
       "  </thead>\n",
       "  <tbody>\n",
       "    <tr>\n",
       "      <th>AA</th>\n",
       "      <td>JFK</td>\n",
       "      <td>LAX</td>\n",
       "    </tr>\n",
       "    <tr>\n",
       "      <th>B6</th>\n",
       "      <td>SYR</td>\n",
       "      <td>JFK</td>\n",
       "    </tr>\n",
       "    <tr>\n",
       "      <th>DL</th>\n",
       "      <td>LGA</td>\n",
       "      <td>ATL</td>\n",
       "    </tr>\n",
       "    <tr>\n",
       "      <th>EV</th>\n",
       "      <td>HPN</td>\n",
       "      <td>ORD</td>\n",
       "    </tr>\n",
       "    <tr>\n",
       "      <th>F9</th>\n",
       "      <td>LGA</td>\n",
       "      <td>DEN</td>\n",
       "    </tr>\n",
       "    <tr>\n",
       "      <th>...</th>\n",
       "      <td>...</td>\n",
       "      <td>...</td>\n",
       "    </tr>\n",
       "    <tr>\n",
       "      <th>OO</th>\n",
       "      <td>SYR</td>\n",
       "      <td>ORD</td>\n",
       "    </tr>\n",
       "    <tr>\n",
       "      <th>UA</th>\n",
       "      <td>LGA</td>\n",
       "      <td>ORD</td>\n",
       "    </tr>\n",
       "    <tr>\n",
       "      <th>US</th>\n",
       "      <td>JFK</td>\n",
       "      <td>PHX</td>\n",
       "    </tr>\n",
       "    <tr>\n",
       "      <th>VX</th>\n",
       "      <td>JFK</td>\n",
       "      <td>SFO</td>\n",
       "    </tr>\n",
       "    <tr>\n",
       "      <th>WN</th>\n",
       "      <td>ALB</td>\n",
       "      <td>BWI</td>\n",
       "    </tr>\n",
       "  </tbody>\n",
       "</table>\n",
       "<p>13 rows × 2 columns</p>\n",
       "</div>"
      ],
      "text/plain": [
       "               origin dest\n",
       "unique_carrier            \n",
       "AA                JFK  LAX\n",
       "B6                SYR  JFK\n",
       "DL                LGA  ATL\n",
       "EV                HPN  ORD\n",
       "F9                LGA  DEN\n",
       "...               ...  ...\n",
       "OO                SYR  ORD\n",
       "UA                LGA  ORD\n",
       "US                JFK  PHX\n",
       "VX                JFK  SFO\n",
       "WN                ALB  BWI\n",
       "\n",
       "[13 rows x 2 columns]"
      ]
     },
     "execution_count": 17,
     "metadata": {},
     "output_type": "execute_result"
    }
   ],
   "source": [
    "# Your code here...\n",
    "first[['origin', 'dest']]"
   ]
  },
  {
   "cell_type": "markdown",
   "metadata": {},
   "source": [
    "## Column `.` lookup\n",
    "\n",
    "As a convenience, pandas attaches the column names to your `DataFrame` when they're valid [python identifiers](https://docs.python.org/3/reference/lexical_analysis.html), and don't override one of the ([many](http://pandas.pydata.org/pandas-docs/stable/api.html#dataframe)) methods on `DataFrame`"
   ]
  },
  {
   "cell_type": "code",
   "execution_count": 18,
   "metadata": {},
   "outputs": [
    {
     "data": {
      "text/plain": [
       "N292JB    76\n",
       "N258JB    69\n",
       "N306JB    68\n",
       "N523MQ    59\n",
       "N324JB    58\n",
       "          ..\n",
       "N935DN     1\n",
       "N619SW     1\n",
       "N45440     1\n",
       "N11181     1\n",
       "N468WN     1\n",
       "Name: tail_num, Length: 2734, dtype: int64"
      ]
     },
     "execution_count": 18,
     "metadata": {},
     "output_type": "execute_result"
    }
   ],
   "source": [
    "# Same as flights['tail_num'].value_counts()\n",
    "flights.tail_num.value_counts()"
   ]
  },
  {
   "cell_type": "markdown",
   "metadata": {},
   "source": [
    "This is nice when working interactively, especially as tab completion works with `flights.tail_num.<TAB>`, but doesn't with `flights['tail_num'].<TAB>`.\n",
    "**Still, since pandas could add methods in the future that clash with your column names, it's recommended to stick with `__getitem__` for production code.**\n",
    "This will always work, even when you shadow a DataFrame method"
   ]
  },
  {
   "cell_type": "code",
   "execution_count": 19,
   "metadata": {},
   "outputs": [
    {
     "data": {
      "text/html": [
       "<div>\n",
       "<style scoped>\n",
       "    .dataframe tbody tr th:only-of-type {\n",
       "        vertical-align: middle;\n",
       "    }\n",
       "\n",
       "    .dataframe tbody tr th {\n",
       "        vertical-align: top;\n",
       "    }\n",
       "\n",
       "    .dataframe thead th {\n",
       "        text-align: right;\n",
       "    }\n",
       "</style>\n",
       "<table border=\"1\" class=\"dataframe\">\n",
       "  <thead>\n",
       "    <tr style=\"text-align: right;\">\n",
       "      <th></th>\n",
       "      <th>mean</th>\n",
       "    </tr>\n",
       "  </thead>\n",
       "  <tbody>\n",
       "    <tr>\n",
       "      <th>0</th>\n",
       "      <td>1</td>\n",
       "    </tr>\n",
       "    <tr>\n",
       "      <th>1</th>\n",
       "      <td>2</td>\n",
       "    </tr>\n",
       "    <tr>\n",
       "      <th>2</th>\n",
       "      <td>3</td>\n",
       "    </tr>\n",
       "  </tbody>\n",
       "</table>\n",
       "</div>"
      ],
      "text/plain": [
       "   mean\n",
       "0     1\n",
       "1     2\n",
       "2     3"
      ]
     },
     "execution_count": 19,
     "metadata": {},
     "output_type": "execute_result"
    }
   ],
   "source": [
    "x = pd.DataFrame({\"mean\": [1, 2, 3]})\n",
    "x"
   ]
  },
  {
   "cell_type": "code",
   "execution_count": 20,
   "metadata": {},
   "outputs": [
    {
     "data": {
      "text/plain": [
       "<bound method DataFrame.mean of    mean\n",
       "0     1\n",
       "1     2\n",
       "2     3>"
      ]
     },
     "execution_count": 20,
     "metadata": {},
     "output_type": "execute_result"
    }
   ],
   "source": [
    "# returns the method, not the column\n",
    "x.mean"
   ]
  },
  {
   "cell_type": "markdown",
   "metadata": {},
   "source": [
    "Finally, you can't *assign* with `.`, while you can with `__setitem__` (square brackets on the left-hand side of an `=`):"
   ]
  },
  {
   "cell_type": "code",
   "execution_count": 21,
   "metadata": {},
   "outputs": [
    {
     "name": "stderr",
     "output_type": "stream",
     "text": [
      "/home/yixian/anaconda3/envs/ph2t/lib/python3.6/site-packages/ipykernel_launcher.py:1: UserWarning: Pandas doesn't allow columns to be created via a new attribute name - see https://pandas.pydata.org/pandas-docs/stable/indexing.html#attribute-access\n",
      "  \"\"\"Entry point for launching an IPython kernel.\n"
     ]
    },
    {
     "data": {
      "text/html": [
       "<div>\n",
       "<style scoped>\n",
       "    .dataframe tbody tr th:only-of-type {\n",
       "        vertical-align: middle;\n",
       "    }\n",
       "\n",
       "    .dataframe tbody tr th {\n",
       "        vertical-align: top;\n",
       "    }\n",
       "\n",
       "    .dataframe thead th {\n",
       "        text-align: right;\n",
       "    }\n",
       "</style>\n",
       "<table border=\"1\" class=\"dataframe\">\n",
       "  <thead>\n",
       "    <tr style=\"text-align: right;\">\n",
       "      <th></th>\n",
       "      <th>mean</th>\n",
       "      <th>right</th>\n",
       "    </tr>\n",
       "  </thead>\n",
       "  <tbody>\n",
       "    <tr>\n",
       "      <th>0</th>\n",
       "      <td>1</td>\n",
       "      <td>a</td>\n",
       "    </tr>\n",
       "    <tr>\n",
       "      <th>1</th>\n",
       "      <td>2</td>\n",
       "      <td>b</td>\n",
       "    </tr>\n",
       "    <tr>\n",
       "      <th>2</th>\n",
       "      <td>3</td>\n",
       "      <td>c</td>\n",
       "    </tr>\n",
       "  </tbody>\n",
       "</table>\n",
       "</div>"
      ],
      "text/plain": [
       "   mean right\n",
       "0     1     a\n",
       "1     2     b\n",
       "2     3     c"
      ]
     },
     "execution_count": 21,
     "metadata": {},
     "output_type": "execute_result"
    }
   ],
   "source": [
    "x.wrong = ['a', 'b', 'c']\n",
    "x['right'] = ['a', 'b', 'c']\n",
    "x"
   ]
  },
  {
   "cell_type": "code",
   "execution_count": 22,
   "metadata": {},
   "outputs": [
    {
     "data": {
      "text/plain": [
       "['a', 'b', 'c']"
      ]
     },
     "execution_count": 22,
     "metadata": {},
     "output_type": "execute_result"
    }
   ],
   "source": [
    "x.wrong"
   ]
  },
  {
   "cell_type": "markdown",
   "metadata": {},
   "source": [
    "`DataFrame`s, like most python objects, allow you to attach arbitrary attributes to any instance.\n",
    "This means `x.wrong = ...` attaches the thing on the right-hand side to the object on the left. But it will still check the assignment makes sense - for instance, `x['wrong']=['x', 'a']` would not have worked since Length of values does not match length of index."
   ]
  },
  {
   "cell_type": "markdown",
   "metadata": {},
   "source": [
    "## Label-Based Indexing with `.loc`\n",
    "\n",
    "You can slice rows by label (and optionally the columns too) with `.loc`.\n",
    "Let's select the rows for the carriers 'AA', 'DL', 'US', and 'WN'."
   ]
  },
  {
   "cell_type": "code",
   "execution_count": 23,
   "metadata": {},
   "outputs": [
    {
     "data": {
      "text/html": [
       "<div>\n",
       "<style scoped>\n",
       "    .dataframe tbody tr th:only-of-type {\n",
       "        vertical-align: middle;\n",
       "    }\n",
       "\n",
       "    .dataframe tbody tr th {\n",
       "        vertical-align: top;\n",
       "    }\n",
       "\n",
       "    .dataframe thead th {\n",
       "        text-align: right;\n",
       "    }\n",
       "</style>\n",
       "<table border=\"1\" class=\"dataframe\">\n",
       "  <thead>\n",
       "    <tr style=\"text-align: right;\">\n",
       "      <th></th>\n",
       "      <th>fl_date</th>\n",
       "      <th>airline_id</th>\n",
       "      <th>tail_num</th>\n",
       "      <th>fl_num</th>\n",
       "      <th>origin</th>\n",
       "      <th>dest</th>\n",
       "      <th>dep_time</th>\n",
       "      <th>dep_delay</th>\n",
       "      <th>arr_time</th>\n",
       "      <th>arr_delay</th>\n",
       "      <th>cancelled</th>\n",
       "      <th>arr</th>\n",
       "      <th>dep</th>\n",
       "    </tr>\n",
       "    <tr>\n",
       "      <th>unique_carrier</th>\n",
       "      <th></th>\n",
       "      <th></th>\n",
       "      <th></th>\n",
       "      <th></th>\n",
       "      <th></th>\n",
       "      <th></th>\n",
       "      <th></th>\n",
       "      <th></th>\n",
       "      <th></th>\n",
       "      <th></th>\n",
       "      <th></th>\n",
       "      <th></th>\n",
       "      <th></th>\n",
       "    </tr>\n",
       "  </thead>\n",
       "  <tbody>\n",
       "    <tr>\n",
       "      <th>AA</th>\n",
       "      <td>2014-01-01</td>\n",
       "      <td>19805</td>\n",
       "      <td>N338AA</td>\n",
       "      <td>1</td>\n",
       "      <td>JFK</td>\n",
       "      <td>LAX</td>\n",
       "      <td>914.00</td>\n",
       "      <td>14.00</td>\n",
       "      <td>1,238.00</td>\n",
       "      <td>13.00</td>\n",
       "      <td>0.00</td>\n",
       "      <td>2014-01-01 12:38:00</td>\n",
       "      <td>2014-01-01 09:14:00</td>\n",
       "    </tr>\n",
       "    <tr>\n",
       "      <th>DL</th>\n",
       "      <td>2014-01-01</td>\n",
       "      <td>19790</td>\n",
       "      <td>N930DL</td>\n",
       "      <td>61</td>\n",
       "      <td>LGA</td>\n",
       "      <td>ATL</td>\n",
       "      <td>1,810.00</td>\n",
       "      <td>10.00</td>\n",
       "      <td>2,054.00</td>\n",
       "      <td>10.00</td>\n",
       "      <td>0.00</td>\n",
       "      <td>2014-01-01 20:54:00</td>\n",
       "      <td>2014-01-01 18:10:00</td>\n",
       "    </tr>\n",
       "    <tr>\n",
       "      <th>US</th>\n",
       "      <td>2014-01-01</td>\n",
       "      <td>20355</td>\n",
       "      <td>N546UW</td>\n",
       "      <td>629</td>\n",
       "      <td>JFK</td>\n",
       "      <td>PHX</td>\n",
       "      <td>1,624.00</td>\n",
       "      <td>-6.00</td>\n",
       "      <td>1,932.00</td>\n",
       "      <td>-39.00</td>\n",
       "      <td>0.00</td>\n",
       "      <td>2014-01-01 19:32:00</td>\n",
       "      <td>2014-01-01 16:24:00</td>\n",
       "    </tr>\n",
       "    <tr>\n",
       "      <th>WN</th>\n",
       "      <td>2014-01-01</td>\n",
       "      <td>19393</td>\n",
       "      <td>N625SW</td>\n",
       "      <td>613</td>\n",
       "      <td>ALB</td>\n",
       "      <td>BWI</td>\n",
       "      <td>1,502.00</td>\n",
       "      <td>17.00</td>\n",
       "      <td>1,615.00</td>\n",
       "      <td>15.00</td>\n",
       "      <td>0.00</td>\n",
       "      <td>2014-01-01 16:15:00</td>\n",
       "      <td>2014-01-01 15:02:00</td>\n",
       "    </tr>\n",
       "  </tbody>\n",
       "</table>\n",
       "</div>"
      ],
      "text/plain": [
       "                  fl_date  airline_id tail_num  fl_num origin dest  dep_time  \\\n",
       "unique_carrier                                                                 \n",
       "AA             2014-01-01       19805   N338AA       1    JFK  LAX    914.00   \n",
       "DL             2014-01-01       19790   N930DL      61    LGA  ATL  1,810.00   \n",
       "US             2014-01-01       20355   N546UW     629    JFK  PHX  1,624.00   \n",
       "WN             2014-01-01       19393   N625SW     613    ALB  BWI  1,502.00   \n",
       "\n",
       "                dep_delay  arr_time  arr_delay  cancelled                 arr  \\\n",
       "unique_carrier                                                                  \n",
       "AA                  14.00  1,238.00      13.00       0.00 2014-01-01 12:38:00   \n",
       "DL                  10.00  2,054.00      10.00       0.00 2014-01-01 20:54:00   \n",
       "US                  -6.00  1,932.00     -39.00       0.00 2014-01-01 19:32:00   \n",
       "WN                  17.00  1,615.00      15.00       0.00 2014-01-01 16:15:00   \n",
       "\n",
       "                               dep  \n",
       "unique_carrier                      \n",
       "AA             2014-01-01 09:14:00  \n",
       "DL             2014-01-01 18:10:00  \n",
       "US             2014-01-01 16:24:00  \n",
       "WN             2014-01-01 15:02:00  "
      ]
     },
     "execution_count": 23,
     "metadata": {},
     "output_type": "execute_result"
    }
   ],
   "source": [
    "carriers = ['AA', 'DL', 'US', 'WN']\n",
    "# Select those carriers by label\n",
    "first.loc[carriers]  # no column indexer. When there is only one list, it is defaulted to be the row indexer."
   ]
  },
  {
   "cell_type": "markdown",
   "metadata": {},
   "source": [
    "Indexing both rows and columns:"
   ]
  },
  {
   "cell_type": "code",
   "execution_count": 24,
   "metadata": {},
   "outputs": [
    {
     "data": {
      "text/html": [
       "<div>\n",
       "<style scoped>\n",
       "    .dataframe tbody tr th:only-of-type {\n",
       "        vertical-align: middle;\n",
       "    }\n",
       "\n",
       "    .dataframe tbody tr th {\n",
       "        vertical-align: top;\n",
       "    }\n",
       "\n",
       "    .dataframe thead th {\n",
       "        text-align: right;\n",
       "    }\n",
       "</style>\n",
       "<table border=\"1\" class=\"dataframe\">\n",
       "  <thead>\n",
       "    <tr style=\"text-align: right;\">\n",
       "      <th></th>\n",
       "      <th>origin</th>\n",
       "      <th>dest</th>\n",
       "      <th>dep_delay</th>\n",
       "    </tr>\n",
       "    <tr>\n",
       "      <th>unique_carrier</th>\n",
       "      <th></th>\n",
       "      <th></th>\n",
       "      <th></th>\n",
       "    </tr>\n",
       "  </thead>\n",
       "  <tbody>\n",
       "    <tr>\n",
       "      <th>AA</th>\n",
       "      <td>JFK</td>\n",
       "      <td>LAX</td>\n",
       "      <td>14.00</td>\n",
       "    </tr>\n",
       "    <tr>\n",
       "      <th>DL</th>\n",
       "      <td>LGA</td>\n",
       "      <td>ATL</td>\n",
       "      <td>10.00</td>\n",
       "    </tr>\n",
       "    <tr>\n",
       "      <th>US</th>\n",
       "      <td>JFK</td>\n",
       "      <td>PHX</td>\n",
       "      <td>-6.00</td>\n",
       "    </tr>\n",
       "    <tr>\n",
       "      <th>WN</th>\n",
       "      <td>ALB</td>\n",
       "      <td>BWI</td>\n",
       "      <td>17.00</td>\n",
       "    </tr>\n",
       "  </tbody>\n",
       "</table>\n",
       "</div>"
      ],
      "text/plain": [
       "               origin dest  dep_delay\n",
       "unique_carrier                       \n",
       "AA                JFK  LAX      14.00\n",
       "DL                LGA  ATL      10.00\n",
       "US                JFK  PHX      -6.00\n",
       "WN                ALB  BWI      17.00"
      ]
     },
     "execution_count": 24,
     "metadata": {},
     "output_type": "execute_result"
    }
   ],
   "source": [
    "# select just `carriers` and origin, dest, and dep_delay\n",
    "first.loc[carriers, ['origin', 'dest', 'dep_delay']]"
   ]
  },
  {
   "cell_type": "markdown",
   "metadata": {},
   "source": [
    "Pandas will *reduce dimensionality* when possible, so slicing with a scalar on either axis will return a `Series`. On the other hand, `['tail_num']` would have yielded a `DataFrame`."
   ]
  },
  {
   "cell_type": "code",
   "execution_count": 25,
   "metadata": {},
   "outputs": [
    {
     "data": {
      "text/plain": [
       "unique_carrier\n",
       "AA    N338AA\n",
       "DL    N930DL\n",
       "US    N546UW\n",
       "WN    N625SW\n",
       "Name: tail_num, dtype: object"
      ]
     },
     "execution_count": 25,
     "metadata": {},
     "output_type": "execute_result"
    }
   ],
   "source": [
    "# select just tail_num for those `carriers`\n",
    "first.loc[carriers, 'tail_num']"
   ]
  },
  {
   "cell_type": "markdown",
   "metadata": {},
   "source": [
    "And scalars on both axes will return a scalar."
   ]
  },
  {
   "cell_type": "code",
   "execution_count": 26,
   "metadata": {},
   "outputs": [
    {
     "data": {
      "text/plain": [
       "'N338AA'"
      ]
     },
     "execution_count": 26,
     "metadata": {},
     "output_type": "execute_result"
    }
   ],
   "source": [
    "first.loc['AA', 'tail_num']"
   ]
  },
  {
   "cell_type": "markdown",
   "metadata": {},
   "source": [
    "## `slice` objects\n",
    "\n",
    "You can pass a `slice` object (made with a `:`). **They make sense when your index is sorted**, which ours is."
   ]
  },
  {
   "cell_type": "code",
   "execution_count": 27,
   "metadata": {},
   "outputs": [
    {
     "data": {
      "text/html": [
       "<div>\n",
       "<style scoped>\n",
       "    .dataframe tbody tr th:only-of-type {\n",
       "        vertical-align: middle;\n",
       "    }\n",
       "\n",
       "    .dataframe tbody tr th {\n",
       "        vertical-align: top;\n",
       "    }\n",
       "\n",
       "    .dataframe thead th {\n",
       "        text-align: right;\n",
       "    }\n",
       "</style>\n",
       "<table border=\"1\" class=\"dataframe\">\n",
       "  <thead>\n",
       "    <tr style=\"text-align: right;\">\n",
       "      <th></th>\n",
       "      <th>fl_date</th>\n",
       "      <th>airline_id</th>\n",
       "      <th>tail_num</th>\n",
       "      <th>fl_num</th>\n",
       "      <th>origin</th>\n",
       "      <th>dest</th>\n",
       "      <th>dep_time</th>\n",
       "      <th>dep_delay</th>\n",
       "      <th>arr_time</th>\n",
       "      <th>arr_delay</th>\n",
       "      <th>cancelled</th>\n",
       "      <th>arr</th>\n",
       "      <th>dep</th>\n",
       "    </tr>\n",
       "    <tr>\n",
       "      <th>unique_carrier</th>\n",
       "      <th></th>\n",
       "      <th></th>\n",
       "      <th></th>\n",
       "      <th></th>\n",
       "      <th></th>\n",
       "      <th></th>\n",
       "      <th></th>\n",
       "      <th></th>\n",
       "      <th></th>\n",
       "      <th></th>\n",
       "      <th></th>\n",
       "      <th></th>\n",
       "      <th></th>\n",
       "    </tr>\n",
       "  </thead>\n",
       "  <tbody>\n",
       "    <tr>\n",
       "      <th>AA</th>\n",
       "      <td>2014-01-01</td>\n",
       "      <td>19805</td>\n",
       "      <td>N338AA</td>\n",
       "      <td>1</td>\n",
       "      <td>JFK</td>\n",
       "      <td>LAX</td>\n",
       "      <td>914.00</td>\n",
       "      <td>14.00</td>\n",
       "      <td>1,238.00</td>\n",
       "      <td>13.00</td>\n",
       "      <td>0.00</td>\n",
       "      <td>2014-01-01 12:38:00</td>\n",
       "      <td>2014-01-01 09:14:00</td>\n",
       "    </tr>\n",
       "    <tr>\n",
       "      <th>B6</th>\n",
       "      <td>2014-01-01</td>\n",
       "      <td>20409</td>\n",
       "      <td>N318JB</td>\n",
       "      <td>115</td>\n",
       "      <td>SYR</td>\n",
       "      <td>JFK</td>\n",
       "      <td>720.00</td>\n",
       "      <td>90.00</td>\n",
       "      <td>808.00</td>\n",
       "      <td>55.00</td>\n",
       "      <td>0.00</td>\n",
       "      <td>2014-01-01 08:08:00</td>\n",
       "      <td>2014-01-01 07:20:00</td>\n",
       "    </tr>\n",
       "    <tr>\n",
       "      <th>DL</th>\n",
       "      <td>2014-01-01</td>\n",
       "      <td>19790</td>\n",
       "      <td>N930DL</td>\n",
       "      <td>61</td>\n",
       "      <td>LGA</td>\n",
       "      <td>ATL</td>\n",
       "      <td>1,810.00</td>\n",
       "      <td>10.00</td>\n",
       "      <td>2,054.00</td>\n",
       "      <td>10.00</td>\n",
       "      <td>0.00</td>\n",
       "      <td>2014-01-01 20:54:00</td>\n",
       "      <td>2014-01-01 18:10:00</td>\n",
       "    </tr>\n",
       "  </tbody>\n",
       "</table>\n",
       "</div>"
      ],
      "text/plain": [
       "                  fl_date  airline_id tail_num  fl_num origin dest  dep_time  \\\n",
       "unique_carrier                                                                 \n",
       "AA             2014-01-01       19805   N338AA       1    JFK  LAX    914.00   \n",
       "B6             2014-01-01       20409   N318JB     115    SYR  JFK    720.00   \n",
       "DL             2014-01-01       19790   N930DL      61    LGA  ATL  1,810.00   \n",
       "\n",
       "                dep_delay  arr_time  arr_delay  cancelled                 arr  \\\n",
       "unique_carrier                                                                  \n",
       "AA                  14.00  1,238.00      13.00       0.00 2014-01-01 12:38:00   \n",
       "B6                  90.00    808.00      55.00       0.00 2014-01-01 08:08:00   \n",
       "DL                  10.00  2,054.00      10.00       0.00 2014-01-01 20:54:00   \n",
       "\n",
       "                               dep  \n",
       "unique_carrier                      \n",
       "AA             2014-01-01 09:14:00  \n",
       "B6             2014-01-01 07:20:00  \n",
       "DL             2014-01-01 18:10:00  "
      ]
     },
     "execution_count": 27,
     "metadata": {},
     "output_type": "execute_result"
    }
   ],
   "source": [
    "# slice from AA to DL - note that this works even when the index are NOT sorted!\n",
    "first.loc['AA':'DL']"
   ]
  },
  {
   "cell_type": "markdown",
   "metadata": {},
   "source": [
    "Notice that the slice is inclusive on *both* sides *when using* `.loc` (`.iloc` follows the usual python semantics of closed on the left, open on the right)."
   ]
  },
  {
   "cell_type": "markdown",
   "metadata": {},
   "source": [
    "<div class=\"alert alert-success\" data-title=\"Index Rows and Columns\">\n",
    "  <h1><i class=\"fa fa-tasks\" aria-hidden=\"true\"></i> Exercise: Index Rows and Columns</h1>\n",
    "</div>\n",
    "<p>\n",
    "Select the columns `tail_num`, `origin`, and `dest` for the carriers `US`, `VX`, and `WN` from `first`.</p>"
   ]
  },
  {
   "cell_type": "code",
   "execution_count": 28,
   "metadata": {
    "tags": [
     "solution"
    ]
   },
   "outputs": [
    {
     "data": {
      "text/html": [
       "<div>\n",
       "<style scoped>\n",
       "    .dataframe tbody tr th:only-of-type {\n",
       "        vertical-align: middle;\n",
       "    }\n",
       "\n",
       "    .dataframe tbody tr th {\n",
       "        vertical-align: top;\n",
       "    }\n",
       "\n",
       "    .dataframe thead th {\n",
       "        text-align: right;\n",
       "    }\n",
       "</style>\n",
       "<table border=\"1\" class=\"dataframe\">\n",
       "  <thead>\n",
       "    <tr style=\"text-align: right;\">\n",
       "      <th></th>\n",
       "      <th>tail_num</th>\n",
       "      <th>origin</th>\n",
       "      <th>dest</th>\n",
       "    </tr>\n",
       "    <tr>\n",
       "      <th>unique_carrier</th>\n",
       "      <th></th>\n",
       "      <th></th>\n",
       "      <th></th>\n",
       "    </tr>\n",
       "  </thead>\n",
       "  <tbody>\n",
       "    <tr>\n",
       "      <th>US</th>\n",
       "      <td>N546UW</td>\n",
       "      <td>JFK</td>\n",
       "      <td>PHX</td>\n",
       "    </tr>\n",
       "    <tr>\n",
       "      <th>VX</th>\n",
       "      <td>N361VA</td>\n",
       "      <td>JFK</td>\n",
       "      <td>SFO</td>\n",
       "    </tr>\n",
       "    <tr>\n",
       "      <th>WN</th>\n",
       "      <td>N625SW</td>\n",
       "      <td>ALB</td>\n",
       "      <td>BWI</td>\n",
       "    </tr>\n",
       "  </tbody>\n",
       "</table>\n",
       "</div>"
      ],
      "text/plain": [
       "               tail_num origin dest\n",
       "unique_carrier                     \n",
       "US               N546UW    JFK  PHX\n",
       "VX               N361VA    JFK  SFO\n",
       "WN               N625SW    ALB  BWI"
      ]
     },
     "execution_count": 28,
     "metadata": {},
     "output_type": "execute_result"
    }
   ],
   "source": [
    "# Your code here...\n",
    "first.loc[['US', 'VX', 'WN'], ['tail_num', 'origin', 'dest']]"
   ]
  },
  {
   "cell_type": "markdown",
   "metadata": {},
   "source": [
    "## Boolean Indexing\n",
    "\n",
    "Filter using a *1-dimensional* boolean array with the same length.\n",
    "This is esstentially a SQL `WHERE` clause.\n",
    "For example,\n",
    "\n",
    "```sql\n",
    "select * from flights\n",
    "where dep_delay > 10\n",
    "```"
   ]
  },
  {
   "cell_type": "code",
   "execution_count": 29,
   "metadata": {},
   "outputs": [
    {
     "data": {
      "text/html": [
       "<div>\n",
       "<style scoped>\n",
       "    .dataframe tbody tr th:only-of-type {\n",
       "        vertical-align: middle;\n",
       "    }\n",
       "\n",
       "    .dataframe tbody tr th {\n",
       "        vertical-align: top;\n",
       "    }\n",
       "\n",
       "    .dataframe thead th {\n",
       "        text-align: right;\n",
       "    }\n",
       "</style>\n",
       "<table border=\"1\" class=\"dataframe\">\n",
       "  <thead>\n",
       "    <tr style=\"text-align: right;\">\n",
       "      <th></th>\n",
       "      <th>fl_date</th>\n",
       "      <th>unique_carrier</th>\n",
       "      <th>airline_id</th>\n",
       "      <th>tail_num</th>\n",
       "      <th>fl_num</th>\n",
       "      <th>origin</th>\n",
       "      <th>dest</th>\n",
       "      <th>dep_time</th>\n",
       "      <th>dep_delay</th>\n",
       "      <th>arr_time</th>\n",
       "      <th>arr_delay</th>\n",
       "      <th>cancelled</th>\n",
       "      <th>arr</th>\n",
       "      <th>dep</th>\n",
       "    </tr>\n",
       "  </thead>\n",
       "  <tbody>\n",
       "    <tr>\n",
       "      <th>0</th>\n",
       "      <td>2014-01-01</td>\n",
       "      <td>AA</td>\n",
       "      <td>19805</td>\n",
       "      <td>N338AA</td>\n",
       "      <td>1</td>\n",
       "      <td>JFK</td>\n",
       "      <td>LAX</td>\n",
       "      <td>914.00</td>\n",
       "      <td>14.00</td>\n",
       "      <td>1,238.00</td>\n",
       "      <td>13.00</td>\n",
       "      <td>0.00</td>\n",
       "      <td>2014-01-01 12:38:00</td>\n",
       "      <td>2014-01-01 09:14:00</td>\n",
       "    </tr>\n",
       "    <tr>\n",
       "      <th>11</th>\n",
       "      <td>2014-01-01</td>\n",
       "      <td>AA</td>\n",
       "      <td>19805</td>\n",
       "      <td>N336AA</td>\n",
       "      <td>181</td>\n",
       "      <td>JFK</td>\n",
       "      <td>LAX</td>\n",
       "      <td>1,907.00</td>\n",
       "      <td>142.00</td>\n",
       "      <td>2,223.00</td>\n",
       "      <td>133.00</td>\n",
       "      <td>0.00</td>\n",
       "      <td>2014-01-01 22:23:00</td>\n",
       "      <td>2014-01-01 19:07:00</td>\n",
       "    </tr>\n",
       "    <tr>\n",
       "      <th>13</th>\n",
       "      <td>2014-01-01</td>\n",
       "      <td>AA</td>\n",
       "      <td>19805</td>\n",
       "      <td>N3HPAA</td>\n",
       "      <td>199</td>\n",
       "      <td>JFK</td>\n",
       "      <td>ORD</td>\n",
       "      <td>1,733.00</td>\n",
       "      <td>18.00</td>\n",
       "      <td>2,024.00</td>\n",
       "      <td>69.00</td>\n",
       "      <td>0.00</td>\n",
       "      <td>2014-01-01 20:24:00</td>\n",
       "      <td>2014-01-01 17:33:00</td>\n",
       "    </tr>\n",
       "    <tr>\n",
       "      <th>14</th>\n",
       "      <td>2014-01-01</td>\n",
       "      <td>AA</td>\n",
       "      <td>19805</td>\n",
       "      <td>N3HFAA</td>\n",
       "      <td>211</td>\n",
       "      <td>JFK</td>\n",
       "      <td>IAH</td>\n",
       "      <td>1,640.00</td>\n",
       "      <td>25.00</td>\n",
       "      <td>2,001.00</td>\n",
       "      <td>36.00</td>\n",
       "      <td>0.00</td>\n",
       "      <td>2014-01-01 20:01:00</td>\n",
       "      <td>2014-01-01 16:40:00</td>\n",
       "    </tr>\n",
       "    <tr>\n",
       "      <th>21</th>\n",
       "      <td>2014-01-01</td>\n",
       "      <td>AA</td>\n",
       "      <td>19805</td>\n",
       "      <td>N3KDAA</td>\n",
       "      <td>317</td>\n",
       "      <td>LGA</td>\n",
       "      <td>ORD</td>\n",
       "      <td>1,029.00</td>\n",
       "      <td>44.00</td>\n",
       "      <td>1,212.00</td>\n",
       "      <td>42.00</td>\n",
       "      <td>0.00</td>\n",
       "      <td>2014-01-01 12:12:00</td>\n",
       "      <td>2014-01-01 10:29:00</td>\n",
       "    </tr>\n",
       "    <tr>\n",
       "      <th>...</th>\n",
       "      <td>...</td>\n",
       "      <td>...</td>\n",
       "      <td>...</td>\n",
       "      <td>...</td>\n",
       "      <td>...</td>\n",
       "      <td>...</td>\n",
       "      <td>...</td>\n",
       "      <td>...</td>\n",
       "      <td>...</td>\n",
       "      <td>...</td>\n",
       "      <td>...</td>\n",
       "      <td>...</td>\n",
       "      <td>...</td>\n",
       "      <td>...</td>\n",
       "    </tr>\n",
       "    <tr>\n",
       "      <th>20779</th>\n",
       "      <td>2014-01-31</td>\n",
       "      <td>UA</td>\n",
       "      <td>19977</td>\n",
       "      <td>N597UA</td>\n",
       "      <td>303</td>\n",
       "      <td>JFK</td>\n",
       "      <td>SFO</td>\n",
       "      <td>624.00</td>\n",
       "      <td>20.00</td>\n",
       "      <td>1,026.00</td>\n",
       "      <td>40.00</td>\n",
       "      <td>0.00</td>\n",
       "      <td>2014-01-31 10:26:00</td>\n",
       "      <td>2014-01-31 06:24:00</td>\n",
       "    </tr>\n",
       "    <tr>\n",
       "      <th>20793</th>\n",
       "      <td>2014-01-31</td>\n",
       "      <td>UA</td>\n",
       "      <td>19977</td>\n",
       "      <td>N509UA</td>\n",
       "      <td>509</td>\n",
       "      <td>LGA</td>\n",
       "      <td>DEN</td>\n",
       "      <td>1,740.00</td>\n",
       "      <td>12.00</td>\n",
       "      <td>2,024.00</td>\n",
       "      <td>22.00</td>\n",
       "      <td>0.00</td>\n",
       "      <td>2014-01-31 20:24:00</td>\n",
       "      <td>2014-01-31 17:40:00</td>\n",
       "    </tr>\n",
       "    <tr>\n",
       "      <th>20795</th>\n",
       "      <td>2014-01-31</td>\n",
       "      <td>UA</td>\n",
       "      <td>19977</td>\n",
       "      <td>N558UA</td>\n",
       "      <td>518</td>\n",
       "      <td>LGA</td>\n",
       "      <td>DEN</td>\n",
       "      <td>1,518.00</td>\n",
       "      <td>16.00</td>\n",
       "      <td>1,753.00</td>\n",
       "      <td>17.00</td>\n",
       "      <td>0.00</td>\n",
       "      <td>2014-01-31 17:53:00</td>\n",
       "      <td>2014-01-31 15:18:00</td>\n",
       "    </tr>\n",
       "    <tr>\n",
       "      <th>20798</th>\n",
       "      <td>2014-01-31</td>\n",
       "      <td>MQ</td>\n",
       "      <td>20398</td>\n",
       "      <td>N544MQ</td>\n",
       "      <td>3199</td>\n",
       "      <td>LGA</td>\n",
       "      <td>CLT</td>\n",
       "      <td>1,513.00</td>\n",
       "      <td>23.00</td>\n",
       "      <td>1,702.00</td>\n",
       "      <td>12.00</td>\n",
       "      <td>0.00</td>\n",
       "      <td>2014-01-31 17:02:00</td>\n",
       "      <td>2014-01-31 15:13:00</td>\n",
       "    </tr>\n",
       "    <tr>\n",
       "      <th>20811</th>\n",
       "      <td>2014-01-31</td>\n",
       "      <td>UA</td>\n",
       "      <td>19977</td>\n",
       "      <td>N37255</td>\n",
       "      <td>1206</td>\n",
       "      <td>LGA</td>\n",
       "      <td>DEN</td>\n",
       "      <td>1,225.00</td>\n",
       "      <td>73.00</td>\n",
       "      <td>1,543.00</td>\n",
       "      <td>121.00</td>\n",
       "      <td>0.00</td>\n",
       "      <td>2014-01-31 15:43:00</td>\n",
       "      <td>2014-01-31 12:25:00</td>\n",
       "    </tr>\n",
       "  </tbody>\n",
       "</table>\n",
       "<p>6199 rows × 14 columns</p>\n",
       "</div>"
      ],
      "text/plain": [
       "         fl_date unique_carrier  airline_id tail_num  fl_num origin dest  \\\n",
       "0     2014-01-01             AA       19805   N338AA       1    JFK  LAX   \n",
       "11    2014-01-01             AA       19805   N336AA     181    JFK  LAX   \n",
       "13    2014-01-01             AA       19805   N3HPAA     199    JFK  ORD   \n",
       "14    2014-01-01             AA       19805   N3HFAA     211    JFK  IAH   \n",
       "21    2014-01-01             AA       19805   N3KDAA     317    LGA  ORD   \n",
       "...          ...            ...         ...      ...     ...    ...  ...   \n",
       "20779 2014-01-31             UA       19977   N597UA     303    JFK  SFO   \n",
       "20793 2014-01-31             UA       19977   N509UA     509    LGA  DEN   \n",
       "20795 2014-01-31             UA       19977   N558UA     518    LGA  DEN   \n",
       "20798 2014-01-31             MQ       20398   N544MQ    3199    LGA  CLT   \n",
       "20811 2014-01-31             UA       19977   N37255    1206    LGA  DEN   \n",
       "\n",
       "       dep_time  dep_delay  arr_time  arr_delay  cancelled  \\\n",
       "0        914.00      14.00  1,238.00      13.00       0.00   \n",
       "11     1,907.00     142.00  2,223.00     133.00       0.00   \n",
       "13     1,733.00      18.00  2,024.00      69.00       0.00   \n",
       "14     1,640.00      25.00  2,001.00      36.00       0.00   \n",
       "21     1,029.00      44.00  1,212.00      42.00       0.00   \n",
       "...         ...        ...       ...        ...        ...   \n",
       "20779    624.00      20.00  1,026.00      40.00       0.00   \n",
       "20793  1,740.00      12.00  2,024.00      22.00       0.00   \n",
       "20795  1,518.00      16.00  1,753.00      17.00       0.00   \n",
       "20798  1,513.00      23.00  1,702.00      12.00       0.00   \n",
       "20811  1,225.00      73.00  1,543.00     121.00       0.00   \n",
       "\n",
       "                      arr                 dep  \n",
       "0     2014-01-01 12:38:00 2014-01-01 09:14:00  \n",
       "11    2014-01-01 22:23:00 2014-01-01 19:07:00  \n",
       "13    2014-01-01 20:24:00 2014-01-01 17:33:00  \n",
       "14    2014-01-01 20:01:00 2014-01-01 16:40:00  \n",
       "21    2014-01-01 12:12:00 2014-01-01 10:29:00  \n",
       "...                   ...                 ...  \n",
       "20779 2014-01-31 10:26:00 2014-01-31 06:24:00  \n",
       "20793 2014-01-31 20:24:00 2014-01-31 17:40:00  \n",
       "20795 2014-01-31 17:53:00 2014-01-31 15:18:00  \n",
       "20798 2014-01-31 17:02:00 2014-01-31 15:13:00  \n",
       "20811 2014-01-31 15:43:00 2014-01-31 12:25:00  \n",
       "\n",
       "[6199 rows x 14 columns]"
      ]
     },
     "execution_count": 29,
     "metadata": {},
     "output_type": "execute_result"
    }
   ],
   "source": [
    "flights[flights.dep_delay > 10]"
   ]
  },
  {
   "cell_type": "code",
   "execution_count": 30,
   "metadata": {},
   "outputs": [
    {
     "data": {
      "text/plain": [
       "0     True\n",
       "1    False\n",
       "2    False\n",
       "3    False\n",
       "4    False\n",
       "Name: dep_delay, dtype: bool"
      ]
     },
     "execution_count": 30,
     "metadata": {},
     "output_type": "execute_result"
    }
   ],
   "source": [
    "mask = flights.dep_delay > 10\n",
    "mask.head()"
   ]
  },
  {
   "cell_type": "markdown",
   "metadata": {},
   "source": [
    "It is also possible to use boolean indexing with `.loc`."
   ]
  },
  {
   "cell_type": "code",
   "execution_count": 32,
   "metadata": {},
   "outputs": [
    {
     "data": {
      "text/plain": [
       "0       2014-01-01\n",
       "11      2014-01-01\n",
       "13      2014-01-01\n",
       "14      2014-01-01\n",
       "21      2014-01-01\n",
       "           ...    \n",
       "20779   2014-01-31\n",
       "20793   2014-01-31\n",
       "20795   2014-01-31\n",
       "20798   2014-01-31\n",
       "20811   2014-01-31\n",
       "Name: fl_date, Length: 6199, dtype: datetime64[ns]"
      ]
     },
     "execution_count": 32,
     "metadata": {},
     "output_type": "execute_result"
    }
   ],
   "source": [
    "flights.loc[flights.dep_delay > 10, 'fl_date']"
   ]
  },
  {
   "cell_type": "markdown",
   "metadata": {},
   "source": [
    "<div class=\"alert alert-success\" data-title=\"Top Airports\">\n",
    "  <h1><i class=\"fa fa-tasks\" aria-hidden=\"true\"></i> Exercise: Top Airports</h1>\n",
    "</div>\n",
    "<p>\n",
    "Select all the flights departing from the 5 busiest airports</p>"
   ]
  },
  {
   "cell_type": "code",
   "execution_count": null,
   "metadata": {},
   "outputs": [],
   "source": [
    "# Get the counts for `flights.origin`\n",
    "origin_counts = flights.origin.value_counts()\n",
    "origin_counts "
   ]
  },
  {
   "cell_type": "markdown",
   "metadata": {},
   "source": [
    "[`Series.value_counts`](http://pandas.pydata.org/pandas-docs/stable/generated/pandas.Series.value_counts.html) will return a Series where the index is the set of unique values, and the values are the number of occurrances of that value.\n",
    "It's sorted in descending order, so we can get the 5 most common labels with:"
   ]
  },
  {
   "cell_type": "code",
   "execution_count": null,
   "metadata": {},
   "outputs": [],
   "source": [
    "# Get a boolean mask for whether `counts` is in the top 5.\n",
    "top5 = origin_counts.index[:5]  # how to get the first 5? How would you do it for a list?\n",
    "top5"
   ]
  },
  {
   "cell_type": "markdown",
   "metadata": {},
   "source": [
    "We'll test whether any given row from `filghts` is in the top 5 using the `.isin` method:"
   ]
  },
  {
   "cell_type": "code",
   "execution_count": null,
   "metadata": {},
   "outputs": [],
   "source": [
    "mask = flights.origin.isin(top5)\n",
    "mask"
   ]
  },
  {
   "cell_type": "markdown",
   "metadata": {},
   "source": [
    "This is a *boolean mask*, which can be passed into `.loc` (and it makes no difference when passed into `[]`?).\n",
    "We want to select the rows where `mask` is true (in the top 5) and the columns `['origin', 'dest']`.\n",
    "Do we want to use `.loc` or `.iloc`? Remember, both accept boolean masks."
   ]
  },
  {
   "cell_type": "code",
   "execution_count": null,
   "metadata": {},
   "outputs": [],
   "source": [
    "flights.loc[mask, ['origin', 'dest']] #iloc does not seem to work since the index of the DataFrame is of integar type?"
   ]
  },
  {
   "cell_type": "markdown",
   "metadata": {},
   "source": [
    "Boolean indexers are useful because so many operations can produce an array of booleans.\n",
    "\n",
    "- missing data checks (`.isna`, `.notna`)\n",
    "- container checks (`.isin`)\n",
    "- boolean aggregations (`.any`, `.all`)\n",
    "- comparisions (`.gt`, `.lt`, etc.)"
   ]
  },
  {
   "cell_type": "code",
   "execution_count": null,
   "metadata": {},
   "outputs": [],
   "source": [
    "# Select rows where `dep` is null\n",
    "flights.loc[flights.dep.isnull()]"
   ]
  },
  {
   "cell_type": "markdown",
   "metadata": {},
   "source": [
    "<div class=\"alert alert-success\" data-title=\"Boolean Indexing\">\n",
    "  <h1><i class=\"fa fa-tasks\" aria-hidden=\"true\"></i> Exercise: Boolean Indexing</h1>\n",
    "</div>\n",
    "\n",
    "<p>Select the rows of `flights` where the flight was cancelled (`cancelled == 1`)</p>"
   ]
  },
  {
   "cell_type": "code",
   "execution_count": null,
   "metadata": {
    "tags": [
     "solution"
    ]
   },
   "outputs": [],
   "source": [
    "# Your code here\n",
    "flights[flights['cancelled']==1]"
   ]
  },
  {
   "cell_type": "markdown",
   "metadata": {},
   "source": [
    "<div class=\"alert alert-success\" data-title=\"Boolean Indexing (2)\">\n",
    "  <h1><i class=\"fa fa-tasks\" aria-hidden=\"true\"></i> Exercise: Boolean Indexing (2)</h1>\n",
    "</div>\n",
    "\n",
    "<p>Filter down to rows where the departure **`hour`** is before 6:00 or after 18:00.</p>\n",
    "\n",
    "- Hint: Use the `flights.dep.dt` namespace. See the attributes [here](http://pandas.pydata.org/pandas-docs/stable/generated/pandas.DatetimeIndex.html) or use tab-completion on `flights.dep.dt.<tab>` to find an attribute giving the hour component\n",
    "- Hint: NumPy and pandas use `|` for elementwise `or`, and `&` for elementwise `and` between two boolean arrays\n",
    "- Hint: Be careful with [Python's order of operations](https://docs.python.org/3/reference/expressions.html#operator-precedence) between comparison operators (`<`, `>`) and NumPy's logical operators `|` and `&`. If your first attempt raises a `TypeError`, try including some parenthesis. (This has caused a lot of headaches!)"
   ]
  },
  {
   "cell_type": "code",
   "execution_count": null,
   "metadata": {
    "tags": [
     "solution"
    ]
   },
   "outputs": [],
   "source": [
    "# Your code here...\n",
    "flights[(flights.dep.dt.hour <= 6) | (flights.dep.dt.hour <= 18)] "
   ]
  },
  {
   "cell_type": "markdown",
   "metadata": {},
   "source": [
    "## Position-Based Indexing with `.iloc`\n",
    "\n",
    "This takes the same basic forms as `.loc`, except you use integers to designate *positions* instead of labels."
   ]
  },
  {
   "cell_type": "code",
   "execution_count": null,
   "metadata": {},
   "outputs": [],
   "source": [
    "first.iloc[[0, 1, 2], [1, 2]]"
   ]
  },
  {
   "cell_type": "markdown",
   "metadata": {},
   "source": [
    "You can use scalars, arrays, boolean masks, or slices.\n",
    "You can also use negative indicies to slice from the end like regular python lists or numpy arrays.\n",
    "\n",
    "The one notable difference compared to label-based indexing is with `slice` objects.\n",
    "Recall that **`.loc` included both ends of the slice.\n",
    "`.iloc` uses the usual python behavior of slicing up to, but not including, the end point**:"
   ]
  },
  {
   "cell_type": "code",
   "execution_count": null,
   "metadata": {},
   "outputs": [],
   "source": [
    "# select the first two rows, and the 3rd, 4th, and 5th columns\n",
    "first.iloc[:2, 3:6]"
   ]
  },
  {
   "cell_type": "markdown",
   "metadata": {},
   "source": [
    "## Dropping rows or columns\n",
    "\n",
    "What if you want all items *except* for some?\n",
    "\n",
    "```\n",
    "DataFrame.drop(labels, axis=0, ...)\n",
    "\n",
    "Parameters\n",
    "----------\n",
    "labels : single label or list-like\n",
    "axis : int or axis name\n",
    "    - 0 / 'index', look in the index.\n",
    "    - 1 / 'columns', look in the columns\n",
    "```"
   ]
  },
  {
   "cell_type": "markdown",
   "metadata": {},
   "source": [
    "<div class=\"alert alert-success\" data-title=\"Dropping Row Labels\">\n",
    "  <h1><i class=\"fa fa-tasks\" aria-hidden=\"true\"></i> Exercise: Dropping Row Labels</h1>\n",
    "</div>\n",
    "<p>Use `first.drop` to select all the rows *except* `EV` and `F9`.</p>"
   ]
  },
  {
   "cell_type": "code",
   "execution_count": null,
   "metadata": {
    "tags": [
     "solution"
    ]
   },
   "outputs": [],
   "source": [
    "# Your code here\n",
    "first.drop(['EV', 'F9'])"
   ]
  },
  {
   "cell_type": "markdown",
   "metadata": {},
   "source": [
    "<div class=\"alert alert-success\" data-title=\"Drop a column\">\n",
    "  <h1><i class=\"fa fa-tasks\" aria-hidden=\"true\"></i> Exercise: Drop a column</h1>\n",
    "</div>\n",
    "<p>`flights.airline_id` is redundent with `unique_carrier`. Drop `airline_id`.</p>"
   ]
  },
  {
   "cell_type": "code",
   "execution_count": null,
   "metadata": {
    "tags": [
     "solution"
    ]
   },
   "outputs": [],
   "source": [
    "# your code here\n",
    "flights.drop('airline_id', axis=1)"
   ]
  },
  {
   "cell_type": "markdown",
   "metadata": {},
   "source": [
    "This is our first time seeing the `axis` keyword argument.\n",
    "It comes up a lot in pandas and NumPy. People would say `axis='index'` (or 0) means\n",
    "operate on the index (e.g. drop labels from the index).\n",
    "`axis='columns'` (or 1) means operate on the columns. But I always get confused about which way it is - the best way is to test its behavior before using."
   ]
  },
  {
   "cell_type": "markdown",
   "metadata": {},
   "source": [
    "## Special Case: `DateTimeIndex`\n",
    "\n",
    "> Easier slicing with strings"
   ]
  },
  {
   "cell_type": "markdown",
   "metadata": {},
   "source": [
    "Pandas has really good support for time series data, including a few conveniences to make indexing easier.\n",
    "First let's get a DataFrame with a `DatetimeIndex`, another specialied index type like we saw with `RangeIndex`."
   ]
  },
  {
   "cell_type": "code",
   "execution_count": null,
   "metadata": {},
   "outputs": [],
   "source": [
    "flights.resample(\"H\", on=\"arr\")[['dep_delay', 'arr_delay']]"
   ]
  },
  {
   "cell_type": "code",
   "execution_count": null,
   "metadata": {},
   "outputs": [],
   "source": [
    "# We'll talk about resample later\n",
    "# This gets the average delays per hour\n",
    "delays = flights.resample(\"H\", on=\"arr\")[['dep_delay', 'arr_delay']].mean()\n",
    "delays.head()"
   ]
  },
  {
   "cell_type": "markdown",
   "metadata": {},
   "source": [
    "`delays` has a `DatetimeIndex`:"
   ]
  },
  {
   "cell_type": "code",
   "execution_count": null,
   "metadata": {},
   "outputs": [],
   "source": [
    "delays.index"
   ]
  },
  {
   "cell_type": "code",
   "execution_count": null,
   "metadata": {},
   "outputs": [],
   "source": [
    "delays.plot();"
   ]
  },
  {
   "cell_type": "markdown",
   "metadata": {},
   "source": [
    "Since `delays.index` is a `DatetimeIndex`, we can use [partial string indexing](http://pandas.pydata.org/pandas-docs/stable/timeseries.html#datetimeindex-partial-string-indexing) to easily select subsets of the data.\n",
    "The basic idea is to specify the datetime up to whatever resolution you care about.\n",
    "For example, to select all the flights on the 12th (a daily resolution):"
   ]
  },
  {
   "cell_type": "code",
   "execution_count": null,
   "metadata": {},
   "outputs": [],
   "source": [
    "delays.loc['2014-01-12']"
   ]
  },
  {
   "cell_type": "markdown",
   "metadata": {},
   "source": [
    "Without parital string indexing, you'd need to do something like"
   ]
  },
  {
   "cell_type": "code",
   "execution_count": null,
   "metadata": {},
   "outputs": [],
   "source": [
    "delays[(delays.index.year == 2014) & (delays.index.month == 1) & (delays.index.day == 12)]"
   ]
  },
  {
   "cell_type": "markdown",
   "metadata": {},
   "source": [
    "Which isn't very fun."
   ]
  },
  {
   "cell_type": "markdown",
   "metadata": {},
   "source": [
    "<div class=\"alert alert-success\" data-title=\"Datetime Indexing\">\n",
    "  <h1><i class=\"fa fa-tasks\" aria-hidden=\"true\"></i> Exercise: Datetime Indexing</h1>\n",
    "</div>\n",
    "<p>\n",
    "Slice `delays` to select all rows from 12:00 on January 3rd, to 12:00 on the 10th.</p>"
   ]
  },
  {
   "cell_type": "code",
   "execution_count": null,
   "metadata": {
    "tags": [
     "solution"
    ]
   },
   "outputs": [],
   "source": [
    "# Your code\n",
    "# delays.loc[\"2014-01-03 12:00:00\":\"2014-01-10 12:00:00\"]\n",
    "delays.loc['2014-01-03T12':'2014-01-10T12']"
   ]
  },
  {
   "cell_type": "markdown",
   "metadata": {},
   "source": [
    "<div class=\"alert alert-success\" data-title=\"Thought Exercise\">\n",
    "  <h1><i class=\"fa fa-lightbulb-o\" aria-hidden=\"true\"></i> Thought Exercise</h1>\n",
    "</div>\n",
    "<p>\n",
    "Why does pandas use a property like `.loc[..., ...]`, rather than a method like `.loc(..., ...)`?</p>\n",
    "\n",
    "- Hint: Where in the language can you use `foo.loc[...]`, but not `foo.loc(...)`?"
   ]
  },
  {
   "cell_type": "code",
   "execution_count": null,
   "metadata": {
    "tags": [
     "solution"
    ]
   },
   "outputs": [],
   "source": [
    "# Answer: when we are trying to do assigning.\n",
    "first.loc['AA', 'fl_num'] = -1\n",
    "first.head()"
   ]
  },
  {
   "cell_type": "markdown",
   "metadata": {},
   "source": [
    "## Summary\n",
    "\n",
    "- Introducted to `DataFrame` (2-D tabel) and `Series` (1-D array)\n",
    "- Both have *row labels*, `DataFrame` also has `column labels`\n",
    "- Saw `.loc` for labeled indexing and `.iloc` for positional indexing\n",
    "- `.loc`, `.iloc`, and `__getitem__` all accept boolean masks too"
   ]
  },
  {
   "cell_type": "markdown",
   "metadata": {},
   "source": [
    "## Additional Exercises\n",
    "\n",
    "Some additional exercises focused on indexing:"
   ]
  },
  {
   "cell_type": "code",
   "execution_count": null,
   "metadata": {},
   "outputs": [],
   "source": [
    "from IPython.display import IFrame\n",
    "\n",
    "IFrame(\"http://vincentarelbundock.github.io/Rdatasets/doc/ISLR/Auto.html\", 750, 900)"
   ]
  },
  {
   "cell_type": "code",
   "execution_count": null,
   "metadata": {},
   "outputs": [],
   "source": [
    "url = \"http://vincentarelbundock.github.io/Rdatasets/csv/ISLR/Auto.csv\"\n",
    "cars = pd.read_csv(url, index_col=0)"
   ]
  },
  {
   "cell_type": "code",
   "execution_count": null,
   "metadata": {},
   "outputs": [],
   "source": [
    "cars.head()"
   ]
  },
  {
   "cell_type": "code",
   "execution_count": null,
   "metadata": {},
   "outputs": [],
   "source": [
    "yearly = cars.groupby(\"year\").mean()\n",
    "yearly.head()"
   ]
  },
  {
   "cell_type": "markdown",
   "metadata": {},
   "source": [
    " <div class=\"alert alert-success\" data-title=\"\">\n",
    "  <h1><i class=\"fa fa-tasks\" aria-hidden=\"true\"></i> Exercise</h1>\n",
    "</div>\n",
    "<p>\n",
    "Select the engine-related columns (cylinders, displacement, horsepower) from `cars`.\n",
    "</p>"
   ]
  },
  {
   "cell_type": "code",
   "execution_count": null,
   "metadata": {},
   "outputs": [],
   "source": [
    "cars[['cylinders', 'displacement', 'horsepower']]"
   ]
  },
  {
   "cell_type": "markdown",
   "metadata": {},
   "source": [
    " <div class=\"alert alert-success\" data-title=\"\">\n",
    "  <h1><i class=\"fa fa-tasks\" aria-hidden=\"true\"></i> Exercise</h1>\n",
    "</div>\n",
    "<p>\n",
    "Select every 5th row of `cars`.\n",
    "</p>\n",
    "\n",
    "Hint: See [here](http://stackoverflow.com/a/509295) for all the options on slicing."
   ]
  },
  {
   "cell_type": "code",
   "execution_count": null,
   "metadata": {},
   "outputs": [],
   "source": [
    "cars.iloc[::5]"
   ]
  },
  {
   "cell_type": "markdown",
   "metadata": {},
   "source": [
    " <div class=\"alert alert-success\" data-title=\"\">\n",
    "  <h1><i class=\"fa fa-tasks\" aria-hidden=\"true\"></i> Exercise</h1>\n",
    "</div>\n",
    "\n",
    "<p>Select years `70`, `75`, `80`, and `82` and columns `horsepower` and `weight` from `yearly`.</p>"
   ]
  },
  {
   "cell_type": "code",
   "execution_count": null,
   "metadata": {},
   "outputs": [],
   "source": [
    "yearly.loc[[70, 75, 80, 82], ['horsepower', 'weight']]"
   ]
  },
  {
   "cell_type": "markdown",
   "metadata": {},
   "source": [
    " <div class=\"alert alert-success\" data-title=\"\">\n",
    "  <h1><i class=\"fa fa-tasks\" aria-hidden=\"true\"></i> Exercise</h1>\n",
    "</div>\n",
    "\n",
    "<p>Select rows in `cars` with at least 30 MPG.</p>"
   ]
  },
  {
   "cell_type": "code",
   "execution_count": null,
   "metadata": {},
   "outputs": [],
   "source": [
    "cars[cars[\"mpg\"] > 30]"
   ]
  },
  {
   "cell_type": "markdown",
   "metadata": {},
   "source": [
    " <div class=\"alert alert-success\" data-title=\"\">\n",
    "  <h1><i class=\"fa fa-tasks\" aria-hidden=\"true\"></i> Exercise</h1>\n",
    "</div>\n",
    "\n",
    "<p>How many cars have at least 30 MPG and at least 5 cylinders?</p>"
   ]
  },
  {
   "cell_type": "code",
   "execution_count": null,
   "metadata": {},
   "outputs": [],
   "source": [
    "len(cars[(cars.mpg >= 30) & (cars.cylinders >= 5)])"
   ]
  }
 ],
 "metadata": {
  "kernelspec": {
   "display_name": "Python 3",
   "language": "python",
   "name": "python3"
  },
  "language_info": {
   "codemirror_mode": {
    "name": "ipython",
    "version": 3
   },
   "file_extension": ".py",
   "mimetype": "text/x-python",
   "name": "python",
   "nbconvert_exporter": "python",
   "pygments_lexer": "ipython3",
   "version": "3.6.2"
  }
 },
 "nbformat": 4,
 "nbformat_minor": 2
}
