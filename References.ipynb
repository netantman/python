{
 "cells": [
  {
   "cell_type": "markdown",
   "metadata": {},
   "source": [
    "# References to pure python:\n",
    "\n",
    "<ul>\n",
    "    <li> [Jupyter Notebook Markdown Cheatsheet](https://github.com/adam-p/markdown-here/wiki/Markdown-Cheatsheet#code)\n",
    "    <li> [Conda Cheatsheet](https://conda.io/docs/_downloads/conda-cheatsheet.pdf)\n",
    "    <li> [Python Modules for the Week](https://pymotw.com/3/) (you may also want to look at 2 sometimes)\n",
    "    <li> [Python Document and Tutorial](https://docs.python.org/3/contents.html)\n",
    "    <li> [Dive into Python 3](http://www.diveintopython3.net/)\n",
    "    <li> David Beazley's pydata 2016 talk: [Built-in Super Heroes](https://www.youtube.com/watch?v=lyDLAutA88s)\n",
    "    <li> [Why Python is slow](https://jakevdp.github.io/blog/2014/05/09/why-python-is-slow/)\n",
    "</ul>"
   ]
  },
  {
   "cell_type": "markdown",
   "metadata": {},
   "source": [
    "# References to numby:\n",
    "\n",
    "<ul>\n",
    "    <li> [From python to numpy](http://www.labri.fr/perso/nrougier/from-python-to-numpy/)\n",
    "</ul>"
   ]
  },
  {
   "cell_type": "markdown",
   "metadata": {},
   "source": [
    "# References to pandas:\n",
    "\n",
    "<ul>\n",
    "    <li> [pandas documentation](http://pandas.pydata.org/pandas-docs/stable/index.html)\n",
    "    <li> Ted Petreu's [How to learn pandas](https://medium.com/dunder-data/how-to-learn-pandas-108905ab4955)\n",
    "</ul>"
   ]
  }
 ],
 "metadata": {
  "kernelspec": {
   "display_name": "Python 3",
   "language": "python",
   "name": "python3"
  },
  "language_info": {
   "codemirror_mode": {
    "name": "ipython",
    "version": 3
   },
   "file_extension": ".py",
   "mimetype": "text/x-python",
   "name": "python",
   "nbconvert_exporter": "python",
   "pygments_lexer": "ipython3",
   "version": "3.6.1"
  }
 },
 "nbformat": 4,
 "nbformat_minor": 2
}
