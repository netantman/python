{
 "cells": [
  {
   "cell_type": "markdown",
   "metadata": {},
   "source": [
    "## Basic Datatypes"
   ]
  },
  {
   "cell_type": "markdown",
   "metadata": {},
   "source": [
    "### List\n",
    "\n",
    "- [8 Levels of Using List Comprehensions](https://www.evernote.com/shard/s191/nl/21353936/4b03c738-f077-45f7-9014-98a698e4da83)\n",
    "- [60 Questions to Test Your Knowledge of Python Lists](https://www.evernote.com/shard/s191/nl/21353936/df26af72-edca-41d9-811d-08b261297d29)"
   ]
  },
  {
   "cell_type": "markdown",
   "metadata": {},
   "source": [
    "### Tuple"
   ]
  },
  {
   "cell_type": "markdown",
   "metadata": {},
   "source": [
    "- [10 Things You Should Know About Tuples in Python](https://www.evernote.com/shard/s191/nl/21353936/8daa5762-7e0f-4295-83d7-fb9a1776eb24)"
   ]
  },
  {
   "cell_type": "markdown",
   "metadata": {},
   "source": [
    "### Dictionary\n",
    "\n",
    "- Dictionary Comprehensions: `{key : val for x in iterable if condition}` \n",
    "- [Do You Know That dict.keys() Is a Dynamic View Object?](https://www.evernote.com/shard/s191/nl/21353936/2cf91413-8992-4471-9599-f2985a1e59c9) "
   ]
  },
  {
   "cell_type": "markdown",
   "metadata": {},
   "source": [
    "### Set\n",
    "\n",
    "- Set Comprehensions: `{key for x in iterable if condition}` \n",
    "- [35 Questions To Test Your Knowledge of Python Sets](https://www.evernote.com/shard/s191/nl/21353936/d47edfb7-a63a-4050-b267-b2239dd2c944)"
   ]
  },
  {
   "cell_type": "markdown",
   "metadata": {},
   "source": [
    "### String"
   ]
  },
  {
   "cell_type": "markdown",
   "metadata": {},
   "source": [
    "- Count the number of words: `.count(\\w)`\n",
    "- [41 Questions to Test your Knowledge of Python Strings](https://www.evernote.com/shard/s191/nl/21353936/97f196ef-0273-4ea8-bda9-4cc3532b6d08)"
   ]
  },
  {
   "cell_type": "markdown",
   "metadata": {},
   "source": [
    "<h2 style='color:midnightblue'> Nidbits </h2>"
   ]
  },
  {
   "cell_type": "markdown",
   "metadata": {},
   "source": [
    "- Naming from PEP8: variables and functions are all lower-cases with underscores, classes with first cap letter, modules with all lower-case letters\n",
    "- GC in Python is via RefCount. You can do sys.getrefcount to see the refcount of any object in a session.\n",
    "- In python there is no function overloading. You can do operator overloading in classes, and by inheritance you may get to chain methods that is similar to function overloading, but it is really not.\n",
    "- Scoping in Python: LEGB: local, enclosing, module and built-in (the concept was introduced in Python 2.2). There is no class scope.\n",
    "- `a++` does not work in Python, and `++a` is just a chain of uninary `+`.\n",
    "- The difference between `a == b` (concerns the value of the object - behind the hood it calls `__eq__`) and `a is b` (concerns whether the object that a and b are binding are the same - more precisely, whether the two objects have the same id, or whether it comes from the same memory space).\n",
    "- Triple double quotes for function docstring (available in __doc__) - as a convention.\n",
    "- Note that `&`, `|`, `~` mean the usual things for Boolean, but they are bitwise operations for integars!\n",
    "- You can add booleans in python: True + True = 2\n",
    "- Using [PyFormat](https://pyformat.info/) for formatting\n",
    "- `*` and `**` operators\n",
    "    - [Understanding *args and ** kwargs in Python](https://www.evernote.com/shard/s191/nl/21353936/5fd9e09f-f30f-4223-a3cd-618db0545101)\n",
    "    - [Unpacking Operators in Python](https://www.evernote.com/shard/s191/nl/21353936/74999968-2f73-452e-9012-d65072f9506e)    \n",
    "</ul>"
   ]
  },
  {
   "cell_type": "markdown",
   "metadata": {},
   "source": [
    "## Interview Oriented Posts"
   ]
  },
  {
   "cell_type": "markdown",
   "metadata": {},
   "source": [
    "- [30 Python Interview Questions that Worth Reading](https://www.evernote.com/shard/s191/nl/21353936/14b1523d-29cd-4961-b93c-ec38cb37846a)\n",
    "- [Python 面试中 8 个必考问题](https://www.evernote.com/shard/s191/nl/21353936/ae66047c-729c-41c4-a1f9-6da47debde5b)\n",
    "- [不吹不擂，你想要的Python面试都在这里了【315+道题】](https://www.evernote.com/shard/s191/nl/21353936/a2c2ebf1-a775-4000-ac36-6b73f260e7be)\n",
    "- [53 Python Interview Questions and Answers](https://www.evernote.com/shard/s191/nl/21353936/2258d997-49f4-4573-9ded-98a7a92e0c7a)\n",
    "- [The 10 Most Common Mistakes That Python Developers Make](https://www.evernote.com/shard/s191/nl/21353936/06c8859d-90c6-4688-a5a9-ef37f71e38f2)"
   ]
  }
 ],
 "metadata": {
  "anaconda-cloud": {},
  "kernelspec": {
   "display_name": "Python 3",
   "language": "python",
   "name": "python3"
  },
  "language_info": {
   "codemirror_mode": {
    "name": "ipython",
    "version": 3
   },
   "file_extension": ".py",
   "mimetype": "text/x-python",
   "name": "python",
   "nbconvert_exporter": "python",
   "pygments_lexer": "ipython3",
   "version": "3.6.5"
  }
 },
 "nbformat": 4,
 "nbformat_minor": 1
}
