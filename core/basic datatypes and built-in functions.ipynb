{
 "cells": [
  {
   "cell_type": "markdown",
   "metadata": {},
   "source": [
    "<h2 style='color:midnightblue'> Nidbits </h2>"
   ]
  },
  {
   "cell_type": "markdown",
   "metadata": {},
   "source": [
    "- Naming from PEP8: variables and functions are all lower-cases with underscores, classes with first cap letter, modules with all lower-case letters\n",
    "- GC in Python is via RefCount. You can do sys.getrefcount to see the refcount of any object in a session.\n",
    "- In python there is no function overloading. You can do operator overloading in classes, and by inheritance you may get to chain methods that is similar to function overloading, but it is really not.\n",
    "- `a++` does not work in Python, and `++a` is just a chain of uninary `+`.\n",
    "- The difference between `a == b` (concerns the value of the object - behind the hood it calls `__eq__`) and `a is b` (concerns whether the object that a and b are binding are the same - more precisely, whether the two objects have the same id, or whether it comes from the same memory space).\n",
    "- Triple double quotes for function docstring (available in __doc__) - as a convention.\n",
    "- Note that `&`, `|`, `~` mean the usual things for Boolean, but they are bitwise operations for integars!\n",
    "- You can add booleans in python: True + True = 2\n",
    "- Using [PyFormat](https://pyformat.info/) for formatting\n",
    "- `*` and `**` operators\n",
    "    - [Understanding *args and ** kwargs in Python](https://www.evernote.com/shard/s191/nl/21353936/5fd9e09f-f30f-4223-a3cd-618db0545101)\n",
    "    - [Unpacking Operators in Python](https://www.evernote.com/shard/s191/nl/21353936/74999968-2f73-452e-9012-d65072f9506e)    \n",
    "</ul>\n",
    "- What is Namespace in `python`? \n",
    "    - Name is an identifier given to an object in `python`. Every object in `python` is associated with a particular name. For example, when we assign the value 9 to a variable name `number` , the object that holds the `number` is associated with the name number.\n",
    "    - `Namespace` is a collection of names associated with every object in Python. The namespace contains all the isolated names and created when we executing the program. As the namespace contains the useful keywords and methods, we can access the `.` methods easily. The namespace stack controls the scope of variables in python."
   ]
  },
  {
   "cell_type": "markdown",
   "metadata": {},
   "source": [
    "## Interview Oriented Posts"
   ]
  },
  {
   "cell_type": "markdown",
   "metadata": {},
   "source": [
    "- [30 Python Interview Questions that Worth Reading](https://www.evernote.com/shard/s191/nl/21353936/14b1523d-29cd-4961-b93c-ec38cb37846a)\n",
    "- [Python 面试中 8 个必考问题](https://www.evernote.com/shard/s191/nl/21353936/ae66047c-729c-41c4-a1f9-6da47debde5b)\n",
    "- [不吹不擂，你想要的Python面试都在这里了【315+道题】](https://www.evernote.com/shard/s191/nl/21353936/a2c2ebf1-a775-4000-ac36-6b73f260e7be)\n",
    "- [53 Python Interview Questions and Answers](https://www.evernote.com/shard/s191/nl/21353936/2258d997-49f4-4573-9ded-98a7a92e0c7a)\n",
    "- [The 10 Most Common Mistakes That Python Developers Make](https://www.evernote.com/shard/s191/nl/21353936/06c8859d-90c6-4688-a5a9-ef37f71e38f2)"
   ]
  }
 ],
 "metadata": {
  "anaconda-cloud": {},
  "kernelspec": {
   "display_name": "Python 3 (ipykernel)",
   "language": "python",
   "name": "python3"
  },
  "language_info": {
   "codemirror_mode": {
    "name": "ipython",
    "version": 3
   },
   "file_extension": ".py",
   "mimetype": "text/x-python",
   "name": "python",
   "nbconvert_exporter": "python",
   "pygments_lexer": "ipython3",
   "version": "3.9.7"
  }
 },
 "nbformat": 4,
 "nbformat_minor": 1
}
