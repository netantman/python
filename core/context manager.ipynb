{
 "cells": [
  {
   "cell_type": "markdown",
   "metadata": {},
   "source": [
    "<h1 style='color:black'> Context Manager </h1>"
   ]
  },
  {
   "cell_type": "markdown",
   "metadata": {},
   "source": [
    "The main benefit of using context manager is to be on top of handling resources; see https://jeffknupp.com/blog/2016/03/07/python-with-context-managers/. Besides files, `with` is also useful in dealing with threads, DBs, sockets, etc. "
   ]
  },
  {
   "cell_type": "code",
   "execution_count": 1,
   "metadata": {
    "collapsed": false
   },
   "outputs": [
    {
     "ename": "AttributeError",
     "evalue": "__exit__",
     "output_type": "error",
     "traceback": [
      "\u001b[0;31m---------------------------------------------------------------------------\u001b[0m",
      "\u001b[0;31mAttributeError\u001b[0m                            Traceback (most recent call last)",
      "\u001b[0;32m<ipython-input-1-b1e9537e5cfa>\u001b[0m in \u001b[0;36m<module>\u001b[0;34m()\u001b[0m\n\u001b[1;32m     17\u001b[0m         \u001b[0mprint\u001b[0m\u001b[1;33m(\u001b[0m\u001b[1;34m'exit'\u001b[0m\u001b[1;33m)\u001b[0m\u001b[1;33m\u001b[0m\u001b[0m\n\u001b[1;32m     18\u001b[0m \u001b[1;33m\u001b[0m\u001b[0m\n\u001b[0;32m---> 19\u001b[0;31m \u001b[1;32mwith\u001b[0m \u001b[0mCtx_Mgr\u001b[0m \u001b[1;32mas\u001b[0m \u001b[0mval\u001b[0m\u001b[1;33m:\u001b[0m\u001b[1;33m\u001b[0m\u001b[0m\n\u001b[0m\u001b[1;32m     20\u001b[0m     \u001b[1;31m# The protocol of the context manager...\u001b[0m\u001b[1;33m\u001b[0m\u001b[1;33m\u001b[0m\u001b[0m\n\u001b[1;32m     21\u001b[0m     \u001b[1;31m# (1) Obj = Ctx_Mgr(): similar in open(file), which returns an object\u001b[0m\u001b[1;33m\u001b[0m\u001b[1;33m\u001b[0m\u001b[0m\n",
      "\u001b[0;31mAttributeError\u001b[0m: __exit__"
     ]
    }
   ],
   "source": [
    "# from __future__ import with_statement\n",
    "## This isn't required from Python 2.7 onwards.\n",
    "# \n",
    "#with open('hello.txt') as f: # f is the handle and it is optional\n",
    "#    for line in f:\n",
    "#        print line\n",
    "\n",
    "class Ctx_Mgr(object):\n",
    "    def __enter__(self):\n",
    "        print('enter')\n",
    "        return 42\n",
    "    \n",
    "    def __exit__(self, exc_type, exc_obj, exc_tb): # The last three variables are for exceptions handling - if there is no exceptions, exc variables will be None.\n",
    "        if exc_type is not None:\n",
    "            print('exception')\n",
    "            return True # This is the line needed for exceptions to be truly handled - by default, this exit function does not return True\n",
    "        print('exit')\n",
    "        \n",
    "with Ctx_Mgr as val:\n",
    "    # The protocol of the context manager...\n",
    "    # (1) Obj = Ctx_Mgr(): similar in open(file), which returns an object\n",
    "    # (2) obj.__enter__() and is given to the variable after 'as' (if any) and it is a global variable!\n",
    "    # (3) execute the body, as below\n",
    "    \n",
    "    # 10 / 0 if there is an exception in the body, control is haneded over to exit directly and all three exc variables will be non-trivially populated.\n",
    "    print(42)\n",
    "    print('in body')\n",
    "    \n",
    "    # (4) obj.__exit__()\n",
    "    \n"
   ]
  },
  {
   "cell_type": "markdown",
   "metadata": {},
   "source": [
    "Compare below for class solution vs. decorator solution to context manager to auto save."
   ]
  },
  {
   "cell_type": "code",
   "execution_count": null,
   "metadata": {
    "collapsed": true
   },
   "outputs": [],
   "source": [
    "\"\"\"Class solution\"\"\"\n",
    "\n",
    "import pickle\n",
    "\n",
    "class AutoSave(object):\n",
    "    def __init__(self, d):\n",
    "        self.d = d\n",
    "    def __enter__(self):\n",
    "        print('enter')\n",
    "        self.fo = open('data.out', 'w')\n",
    "        return self.d\n",
    "    def __exit__(self, exc_type, exc_obj, exc_tb):\n",
    "        if exc_type is not None:\n",
    "            print('Exception!')\n",
    "            return True\n",
    "        \n",
    "        pickle.dump(self.d, self.fo)\n",
    "        self.fo.close()\n",
    "        print('exit')\n",
    "        \n",
    "d = {}\n",
    "with AutoSave(d) as h:\n",
    "    d['usa'] = 1\n",
    "    d['uk'] = 44\n",
    "    # 10/ 0\n",
    "    \n",
    "for key, value in h.items(): #Again h is a global variable!\n",
    "    print(\"{}:{}\".format(key, value))\n",
    "    \n",
    "\"\"\"Function/decorator solution\"\"\"\n",
    "\n",
    "# But to understand this solution you need to understand the class solution first.\n",
    "\n",
    "import pickle\n",
    "from contextlib import contextmanager\n",
    "\n",
    "@contextmanager\n",
    "def autosave(d):\n",
    "    # No __init__ method needed\n",
    "    \n",
    "    # First the __enter__ part\n",
    "    print('enter')\n",
    "    fo = open('data.out', 'w')\n",
    "    \n",
    "    try:\n",
    "        yield # yielding control to the decorator\n",
    "    except Exception:\n",
    "        print('Exception!')\n",
    "        \n",
    "    # The the __exit__ part\n",
    "    pickle.dump(d, fo)\n",
    "    fo.close()\n",
    "    print('exit')\n",
    "    \n",
    "    "
   ]
  }
 ],
 "metadata": {
  "anaconda-cloud": {},
  "kernelspec": {
   "display_name": "Python [default]",
   "language": "python",
   "name": "python3"
  },
  "language_info": {
   "codemirror_mode": {
    "name": "ipython",
    "version": 3
   },
   "file_extension": ".py",
   "mimetype": "text/x-python",
   "name": "python",
   "nbconvert_exporter": "python",
   "pygments_lexer": "ipython3",
   "version": "3.5.2"
  }
 },
 "nbformat": 4,
 "nbformat_minor": 1
}
