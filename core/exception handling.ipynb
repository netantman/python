{
 "cells": [
  {
   "cell_type": "markdown",
   "metadata": {},
   "source": [
    "<h1 style='color:black'> Exception Handling </h1>"
   ]
  },
  {
   "cell_type": "markdown",
   "metadata": {},
   "source": [
    "Exceptions are the way that python handle control flows."
   ]
  },
  {
   "cell_type": "code",
   "execution_count": 4,
   "metadata": {},
   "outputs": [
    {
     "ename": "SyntaxError",
     "evalue": "Missing parentheses in call to 'print' (<ipython-input-4-a0efea8a3416>, line 31)",
     "output_type": "error",
     "traceback": [
      "\u001b[0;36m  File \u001b[0;32m\"<ipython-input-4-a0efea8a3416>\"\u001b[0;36m, line \u001b[0;32m31\u001b[0m\n\u001b[0;31m    print 'always done'.\u001b[0m\n\u001b[0m                      ^\u001b[0m\n\u001b[0;31mSyntaxError\u001b[0m\u001b[0;31m:\u001b[0m Missing parentheses in call to 'print'\n"
     ]
    }
   ],
   "source": [
    "import sys\n",
    "\n",
    "# User defined exception. Very often, exceptions are derived from Exception.\n",
    "class BloombergError(Exception):\n",
    "    pass\n",
    "\n",
    "li = []\n",
    "\n",
    "try:\n",
    "    raise BloombergError('server down')\n",
    "    li[0] = 67\n",
    "    10 / 0\n",
    "except BloombergError: # All exceptions are classes, but there is no parantheses in the class name after except.\n",
    "    exc_type, exc_obj, exc_tb = sys.exc_info() # Exception type, obj and traceback\n",
    "    sys.stderr.write( str(exc_obj) + '\\n' ) # Quite often in exception handling, the return type is an object, even though superficially it should be strings.\n",
    "    raise Exception( 'Some more useful information for the outer layer of code' ) # re-raise the exception\n",
    "    sys.exit(3)\n",
    "except (ZeroDivisionError, IndexError): # Specify a tuple to share common handling between different errors - it has to be a tuple!!\n",
    "    exc_type, exc_obj, exc_tb = sys.exc_info()\n",
    "    sys.exit(1)\n",
    "except Exception, value: # value provides object reference to the exception as well\n",
    "    \n",
    "    exc_type, exc_obj, exc_tb = sys.exc_info()\n",
    "    sys.stderr.write( str(exc_type) + '\\n' )\n",
    "    sys.stderr.write( 'unexpected exception\\n')\n",
    "    sys.exit(1)\n",
    "else: # The else block helps minimize the amount of code in try blocks and visually distinguish the success case from the try/except blocks\n",
    "    print('No exceptions raised')\n",
    "finally: # suitable for common cleanup, regardless of whether exceptions occur\n",
    "    print('always done')\n"
   ]
  },
  {
   "cell_type": "markdown",
   "metadata": {},
   "source": [
    "To catch multiple exceptions in one `except`, you will need to specify a `tuple`; see the 3rd mistake in [this post](https://www.evernote.com/shard/s191/nl/21353936/06c8859d-90c6-4688-a5a9-ef37f71e38f2?title=The%2010%20Most%20Common%20Mistakes%20That%20Python%20Developers%20Make%20%7C%20Toptal)."
   ]
  },
  {
   "cell_type": "markdown",
   "metadata": {},
   "source": [
    "The `try`-`except` statement has an optional `else` clause, which, when present, must follow all `except` clauses. It is useful for code that must be executed if the `try` **clause does not raise an exception**.\n",
    "\n",
    "The use of the `else` clause is better than adding additional code to the `try` clause because it avoids accidentally catching an exception that wasn’t explicitly handled by the `except` statement: if instead it was in the `else` block, it will propagate up. "
   ]
  },
  {
   "cell_type": "markdown",
   "metadata": {},
   "source": [
    "If a `finally` clause is present, the `finally` clause will execute **as the last task before the try statement completes**. The `finally` clause **runs whether or not the try statement produces an exception**. The following points discuss more complex cases when an exception occurs:\n",
    "\n",
    "- If an exception occurs during execution of the `try` clause, the exception may be handled by an `except` clause. If the exception is not handled by an `except` clause, **the exception is re-raised after** the `finally` clause has been executed.\n",
    "\n",
    "- An exception could occur during execution of an `except` or `else` clause. Again, **the exception is re-raised after the finally clause has been executed**.\n",
    "\n",
    "- If the `finally` clause executes a `break`, `continue` or `return` statement, **exceptions are not re-raised**.\n",
    "\n",
    "- If the try statement reaches a `break`, `continue` or `return` statement, the `finally` clause will **execute just prior to** the `break`, `continue` or `return` statement’s execution.\n",
    "\n",
    "- If a `finally` clause includes a return statement, the returned value will be the one from the `finally` clause’s return statement, not the value from the `try` clause’s return statement.\n",
    "\n",
    "Building on the first point above, when exception is raised in handler, original exception can get lost. The right way is to perform a cleanup in a finally block; compare the two versions of `myfunc` below. "
   ]
  },
  {
   "cell_type": "code",
   "execution_count": null,
   "metadata": {
    "collapsed": true
   },
   "outputs": [],
   "source": [
    "import traceback\n",
    "import logging\n",
    "\n",
    "def doit():\n",
    "    # some nested function encounters a problem\n",
    "    raise RuntimeError('original error')\n",
    "    \n",
    "def myfunc_v1():\n",
    "    try:\n",
    "        doit()\n",
    "    except:\n",
    "        # if errorCorrection() fails\n",
    "        # it will mask out the original exception\n",
    "        errorCorrection()\n",
    "        \n",
    "def myfunc_v2():\n",
    "    try:\n",
    "        doit()\n",
    "    except:\n",
    "        try: # re-raise the original error first\n",
    "            raise\n",
    "    finally:\n",
    "        # try handling the problem locally\n",
    "        try:\n",
    "            errorCorrection()\n",
    "        except: \n",
    "            traceback.print_exc() \n",
    "            # exactly mimics the behavior of the python interpreter when it prints a stack trace\n",
    "            # print_exc takes two optional variables: limit and file - prints limit entries in a stack tracce to a file.\n",
    "            # if omitted, the full trace is printed to the console.\n",
    "            logging.error(\"Some error occurs\")"
   ]
  },
  {
   "cell_type": "markdown",
   "metadata": {},
   "source": [
    "The above also touches on two good practices concerning exceptions: <font color='red'> **tracebacks** </font> and <font color='red'> **logging** </font>"
   ]
  },
  {
   "cell_type": "markdown",
   "metadata": {},
   "source": [
    "## References\n",
    "- Item 13. [< Effective Python >](https://www.evernote.com/shard/s191/nl/21353936/80774c17-012b-c7d8-e425-a9b3eb0d55f3?title=Effective%20Python)."
   ]
  }
 ],
 "metadata": {
  "anaconda-cloud": {},
  "kernelspec": {
   "display_name": "Python 3 (ipykernel)",
   "language": "python",
   "name": "python3"
  },
  "language_info": {
   "codemirror_mode": {
    "name": "ipython",
    "version": 3
   },
   "file_extension": ".py",
   "mimetype": "text/x-python",
   "name": "python",
   "nbconvert_exporter": "python",
   "pygments_lexer": "ipython3",
   "version": "3.9.7"
  }
 },
 "nbformat": 4,
 "nbformat_minor": 1
}
