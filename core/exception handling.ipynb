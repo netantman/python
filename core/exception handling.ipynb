{
 "cells": [
  {
   "cell_type": "markdown",
   "metadata": {},
   "source": [
    "<h1 style='color:black'> Exception Handling </h1>"
   ]
  },
  {
   "cell_type": "markdown",
   "metadata": {},
   "source": [
    "Exceptions are the way that python handle control flows."
   ]
  },
  {
   "cell_type": "code",
   "execution_count": 4,
   "metadata": {
    "collapsed": false
   },
   "outputs": [
    {
     "ename": "SyntaxError",
     "evalue": "Missing parentheses in call to 'print' (<ipython-input-4-a0efea8a3416>, line 31)",
     "output_type": "error",
     "traceback": [
      "\u001b[0;36m  File \u001b[0;32m\"<ipython-input-4-a0efea8a3416>\"\u001b[0;36m, line \u001b[0;32m31\u001b[0m\n\u001b[0;31m    print 'always done'.\u001b[0m\n\u001b[0m                      ^\u001b[0m\n\u001b[0;31mSyntaxError\u001b[0m\u001b[0;31m:\u001b[0m Missing parentheses in call to 'print'\n"
     ]
    }
   ],
   "source": [
    "import sys\n",
    "\n",
    "# User defined exception. Very often, exceptions are derived from Exception.\n",
    "class BloombergError(Exception):\n",
    "    pass\n",
    "\n",
    "li = []\n",
    "\n",
    "try:\n",
    "    raise BloombergError('server down')\n",
    "    li[0] = 67\n",
    "    10 / 0\n",
    "except BloombergError: # All exceptions are classes, but there is no parantheses in the class name after except.\n",
    "    exc_type, exc_obj, exc_tb = sys.exc_info() # Exception type, obj and traceback\n",
    "    sys.stderr.write( str(exc_obj) + '\\n' ) # Quite often in exception handling, the return type is an object, even though superficially it should be strings.\n",
    "    raise Exception( 'Some more useful information for the outer layer of code' ) # re-raise the exception\n",
    "    sys.exit(3)\n",
    "except (ZeroDivisionError, IndexError): # Specify a tuple to share common handling between different errors.\n",
    "    exc_type, exc_obj, exc_tb = sys.exc_info()\n",
    "    sys.exit(1)\n",
    "except Exception, value: # value provides object reference to the exception as well\n",
    "    \n",
    "    exc_type, exc_obj, exc_tb = sys.exc_info()\n",
    "    sys.stderr.write( str(exc_type) + '\\n' )\n",
    "    sys.stderr.write( 'unexpected exception\\n')\n",
    "    sys.exit(1)\n",
    "finally:\n",
    "    print('always done')\n"
   ]
  },
  {
   "cell_type": "markdown",
   "metadata": {},
   "source": [
    "A `finally` clause is always executed before leaving the try statement, whether an exception has occured or not.\n",
    "<ul>\n",
    "    <li> When an exception has occurred in the try clause and has not been handled by an except clause, or when it happens in an except or else clause, it is re-raised after the finally clause has been executed.\n",
    "    <li> The finally clause is also executed 'on the way out' when any other clause of the try statement is left via a break, continue or return statement.\n",
    "</ul>    \n",
    "Building on the first point above, when exception is raised in handler, original exception can get lost. The right way is to perform a cleanup in a finally block; compare the two versions of `myfunc` below. "
   ]
  },
  {
   "cell_type": "code",
   "execution_count": null,
   "metadata": {
    "collapsed": true
   },
   "outputs": [],
   "source": [
    "import traceback\n",
    "import logging\n",
    "\n",
    "def doit():\n",
    "    # some nested function encounters a problem\n",
    "    raise RuntimeError('original error')\n",
    "    \n",
    "def myfunc_v1():\n",
    "    try:\n",
    "        doit()\n",
    "    except:\n",
    "        # if errorCorrection() fails\n",
    "        # it will mask out the original exception\n",
    "        errorCorrection()\n",
    "        \n",
    "def myfunc_v2():\n",
    "    try:\n",
    "        doit()\n",
    "    except:\n",
    "        try: # re-raise the original error first\n",
    "            raise\n",
    "        finally:\n",
    "        # try handling the problem locally\n",
    "        try:\n",
    "            errorCorrection()\n",
    "        except: \n",
    "            traceback.print_exc() \n",
    "            # exactly mimics the behavior of the python interpreter when it prints a stack trace\n",
    "            # print_exc takes two optional variables: limit and file - prints limit entries in a stack tracce to a file.\n",
    "            # if omitted, the full trace is printed to the console.\n",
    "            logging.error(\"Some error occurs\")"
   ]
  },
  {
   "cell_type": "markdown",
   "metadata": {},
   "source": [
    "The above also touches on two good practices concerning exceptions: <font color='red'> **tracebacks** </font> and <font color='red'> **logging** </font>"
   ]
  }
 ],
 "metadata": {
  "anaconda-cloud": {},
  "kernelspec": {
   "display_name": "Python [default]",
   "language": "python",
   "name": "python3"
  },
  "language_info": {
   "codemirror_mode": {
    "name": "ipython",
    "version": 3
   },
   "file_extension": ".py",
   "mimetype": "text/x-python",
   "name": "python",
   "nbconvert_exporter": "python",
   "pygments_lexer": "ipython3",
   "version": "3.5.2"
  }
 },
 "nbformat": 4,
 "nbformat_minor": 1
}
