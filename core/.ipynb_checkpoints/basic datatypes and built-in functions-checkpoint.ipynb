{
 "cells": [
  {
   "cell_type": "markdown",
   "metadata": {},
   "source": [
    "<h1 style='color:black'> Basic Datatypes </h1>"
   ]
  },
  {
   "cell_type": "markdown",
   "metadata": {},
   "source": [
    "<h2 style='color:midnightblue'> Native Datatypes </h1>"
   ]
  },
  {
   "cell_type": "markdown",
   "metadata": {},
   "source": [
    "<h3 style='color:deepskyblue'> Lists </h3>"
   ]
  },
  {
   "cell_type": "markdown",
   "metadata": {},
   "source": [
    "<h3 style='color:deepskyblue'> Tuples </h3>"
   ]
  },
  {
   "cell_type": "markdown",
   "metadata": {},
   "source": [
    "<h3 style='color:deepskyblue'> Dictionaries </h3>"
   ]
  },
  {
   "cell_type": "markdown",
   "metadata": {},
   "source": [
    "<h2 style='color:midnightblue'> Nidbits </h2>"
   ]
  },
  {
   "cell_type": "markdown",
   "metadata": {},
   "source": [
    "<ul>\n",
    "    <li> Naming from PEP8: variables and functions are all lower-cases with underscores, classes with first cap letter, modules with all lower-case letters\n",
    "    <li> GC in Python is via RefCount. You can do sys.getrefcount to see the refcount of any object in a session.\n",
    "    <li> In python there is no function overloading. You can do operator overloading in classes, and by inheritance you may get to chain methods that is similar to function overloading, but it is really not.\n",
    "    <li> Scoping in Python: LEGB: local, enclosing, module and built-in (the concept was introduced in Python 2.2). There is no class scope.\n",
    "    <li> `a++` does not work in Python, and `++a` is just a chain of uninary `+`.\n",
    "    <li> The difference between a == b (concerns the value of the object - behind the hood it calls `__eq__`) and a is b (concerns whether the object that a and b are binding are the same - more precisely, whether the two objects have the same id, or whether it comes from the same memory space).\n",
    "    <li> Triple double quotes for function docstring (available in __doc__) - as a convention.\n",
    "    <li> Note that &, |, ~ mean the usual things for Boolean, but they are bitwise operations for integars!\n",
    "    <li> You can add booleans in python: True + True = 2\n",
    "</ul>"
   ]
  },
  {
   "cell_type": "markdown",
   "metadata": {},
   "source": [
    "<h3 style='color:deepskyblue'> Some Useful Built-in Functions </h3>\n",
    "\n",
    "<ul>\n",
    "    <li> `__builtins__`\n",
    "    <li> `isinstance`, `isdigit`\n",
    "    <li> `format`: string formatting similar to printf; also see `f` string since 3.6+\n",
    "    <li> `dir`: called on an instance of the class and returns a list of attributes for the user.\n",
    "    <li> `raw_input`\n",
    "</ul>"
   ]
  }
 ],
 "metadata": {
  "anaconda-cloud": {},
  "kernelspec": {
   "display_name": "Python 3",
   "language": "python",
   "name": "python3"
  },
  "language_info": {
   "codemirror_mode": {
    "name": "ipython",
    "version": 3
   },
   "file_extension": ".py",
   "mimetype": "text/x-python",
   "name": "python",
   "nbconvert_exporter": "python",
   "pygments_lexer": "ipython3",
   "version": "3.6.3"
  }
 },
 "nbformat": 4,
 "nbformat_minor": 1
}
