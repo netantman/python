{
 "cells": [
  {
   "cell_type": "markdown",
   "id": "d9231de5",
   "metadata": {},
   "source": [
    "The modules about to be described below should be viewed as a extension of `Python`’s built-in types and functions. In many cases, the **underlying implementation is highly efficient** and may be better suited to certain kinds of problems\n",
    "than what is available with the built-ins."
   ]
  },
  {
   "cell_type": "markdown",
   "id": "73983769",
   "metadata": {},
   "source": [
    "### `abc`\n",
    "\n",
    "See [g-classes-and-object-oriented-programming](g-classes-and-object-oriented-programming.ipynb)"
   ]
  },
  {
   "cell_type": "markdown",
   "id": "00a37dd9",
   "metadata": {},
   "source": [
    "### `array`\n",
    "\n",
    "- The `array` module defines a new object type, array, that works almost exactly like a `list`, except that its contents are constrained to a single type. The type of an array is determined at the time of creation, using one of the type codes shown on Page 259 of [< Python Essential References >](https://www.evernote.com/shard/s191/nl/21353936/3a76bfd7-5b40-de76-dc58-c1805f99d416?title=Python%20Essential%20References).\n",
    "\n",
    "- The `array` module is useful if you need to have **space-efficient storage for lists of data** and you know that **all items in the list are going to be the same type**\n",
    "\n",
    "- In performing calculations with arrays, you will want to be **careful with operations that create lists**. For instance, use a generator to initialize an array rather than using a list. \n",
    "\n",
    "- The arrays created by this module are not suitable for numeric work such as matrix or vector math. As such, the `numpy` module could be more useful, though its API are completely different.\n",
    "\n",
    "- The `+=` operator can be used to append the contents of another array.The `*=` operator can be used to repeat an array."
   ]
  },
  {
   "cell_type": "markdown",
   "id": "ba32cb25",
   "metadata": {},
   "source": [
    "### `bisect`\n",
    "\n",
    "Bisection sort. Probably always use the 'left' and 'right' versions, since its behavior is clearer.\n",
    "\n",
    "#### Finding the index (to insert)\n",
    "\n",
    "- `bisect(list, item [, low [, high]])`: if items is already in the list, the insertion point will always be **to the right of existing entries in the list**.\n",
    "\n",
    "- `bisect_left(list, item [, low [, high]])`: if items is already in the list, the insertion point will always be **to the left of existing entries in the list**.\n",
    "\n",
    "- `bisect_right(list, item [, low [, high]])`: same as `bisect`.\n",
    "\n",
    "#### To actually insert\n",
    "\n",
    "- `insort(list, item [, low [, high]])`:  if item is already in the list, the new entry is **inserted to the right of any existing entries**.\n",
    "\n",
    "- `insort_left(list, item [, low [, high]])`: if item is already in the list, **the new entry is inserted to the left of any existing entries**.\n",
    "\n",
    "- `insort_right(list, item [, low [, high]])`: same as `insort`."
   ]
  },
  {
   "cell_type": "markdown",
   "id": "e6ead235",
   "metadata": {},
   "source": [
    "### `collections`"
   ]
  },
  {
   "cell_type": "markdown",
   "id": "d76e709e",
   "metadata": {},
   "source": [
    "#### `deque([iterable [, maxlen]])`\n",
    "\n",
    "- A deque allows items to be inserted or removed from either end of the queue. The implementation has been **optimized so that\n",
    "the performance of these operations is approximately the same as `(O(1))`**. This is slightly different from a list where **operations at the front of the list may require shifting of all the elements that follow**.\n",
    "- If the optional `maxlen` argument is supplied, the resulting deque object becomes a circular buffer of that size.That is, if new items are added, but there is no more space, items are deleted from the opposite end to make room. Appending items at the end is only slightly slower than the built-in list type, whereas inserting items at the front is significantly faster. \n",
    "- Most APIs are the same as those in `list`. A peculiar one is `d.rotate(n)`, which rotates all the items n steps to the right. If `n` is negative, items are rotated to the left.\n",
    "\n",
    "\n"
   ]
  },
  {
   "cell_type": "markdown",
   "id": "39431213",
   "metadata": {},
   "source": [
    "#### `defaultdict([default_factory], ...)`\n",
    "\n",
    "- When a lookup occurs on a key that does not yet exist, **the function supplied as `default_factory` is called to provide a default value which is then saved as the value of the associated key, which can also just simply a build-in type**.\n",
    "\n",
    "- A defaultdict object is useful if you are trying to use a dictionary as a container for tracking data, without a `KeyError`."
   ]
  },
  {
   "cell_type": "markdown",
   "id": "6734a619",
   "metadata": {},
   "source": [
    "#### `namedtuple(typename, fieldnames [, verbose])`\n",
    "\n",
    "- The `collections` module contains a function `namedtuple()` that is used to create subclasses of tuple in which attribute names can be used to access tuple elements. The motivation is to avoid having to remember what all of the index values mean, which can be a problem when the size of the `tuple` gets large. A named tuple can be useful if **defining objects that really only serve as a data structures**.\n",
    "- The value returned by this function is a `class` whose name has been set to the value supplied in `typename`. You use this class to create instances of named tuples: if you do type check, you will see it is an instance of `tuple`.\n",
    "- `fieldnames` is a list of attribute names specified as strings. The names in this list must be valid Python identifiers, must not start with an underscore, and are specified in the same order as the items appearing in the `tuple`.\n",
    "- The underlying implementation is efficient — the class that is created **does not use an instance dictionary\n",
    "or add any additional memory overhead in a built-in `tuple`**.\n",
    "- **All of the normal tuple operations still work**, such as unpacking.\n",
    "- The downside to a named tuple is that **attribute access is not as efficient as with a class**. \n"
   ]
  },
  {
   "cell_type": "markdown",
   "id": "9d4bd6be",
   "metadata": {},
   "source": [
    "#### Abstract Base Classes\n",
    "\n",
    "The purpose of these classes is to **describe programming interfaces on various kinds of containers** such as lists, sets, and dictionaries. More specifically, there are two use cases. Python’s built-in types are already registered with all of these base classes as appropriate.\n",
    "- First, they can be used as a **base class for user-defined objects that want to emulate the functionality of built-in\n",
    "container types**.\n",
    "- Second, they can be **used for type checking**.\n",
    "\n",
    "Though not read in details, there is a list on Pages 265-266 in [< Python Essential References >](https://www.evernote.com/shard/s191/nl/21353936/3a76bfd7-5b40-de76-dc58-c1805f99d416?title=Python%20Essential%20References) that could provide a good reference sometime. For magic methods, see [g-classes-and-object-oriented-programming](g-classes-and-object-oriented-programming.ipynb)."
   ]
  },
  {
   "cell_type": "markdown",
   "id": "1edbd160",
   "metadata": {},
   "source": [
    "#### `Counter([iterable-or-mapping])`\n",
    "\n",
    "A `Counter` is a `dict` subclass for counting hashable objects. It is a collection where elements are stored as dictionary keys and their counts are stored as dictionary values. Counts are allowed to be any integer value including zero or negative counts."
   ]
  },
  {
   "cell_type": "markdown",
   "id": "b79e4999",
   "metadata": {},
   "source": [
    "### `contextlib`\n",
    "\n",
    "The `contextlib` module provides a decorator `@contextmanager` and utility functions for creating context managers used in conjunction with the with statement. See another example in [e-program-structure-control-flow-and-exception](e-program-structure-control-flow-and-exception.ipynb)."
   ]
  },
  {
   "cell_type": "code",
   "execution_count": null,
   "id": "9bef6b38",
   "metadata": {},
   "outputs": [],
   "source": [
    "@contextmanager\n",
    "def foo(args):\n",
    "    statements\n",
    "    try:\n",
    "        yield value\n",
    "    except Exception as e:\n",
    "        error handling (if any)\n",
    "    statements"
   ]
  },
  {
   "cell_type": "markdown",
   "id": "c35cdf03",
   "metadata": {},
   "source": [
    "- When the statement with `foo(args) as value` appears, the generator function is executed with the supplied arguments until the first yield statement is reached. The value returned by yield is placed into the variable value. At this point, the body of the with statement executes. Upon completion, the generator function resumes. \n",
    "- If any kind of exception is raised inside the with-body, that exception is raised inside the generator function where it can be handled as appropriate. If the error is to be propagated, the generator should use raise to re-raise the exception."
   ]
  },
  {
   "cell_type": "markdown",
   "id": "b3e22e79",
   "metadata": {},
   "source": [
    "### `functools`\n",
    "\n",
    "The `functools` module contains functions and decorators that are useful for creating higher-order functions, functional programming, and decorators."
   ]
  },
  {
   "cell_type": "markdown",
   "id": "ba74c1cd",
   "metadata": {},
   "source": [
    "#### `partial(function [, *args [, **kwargs]])`\n",
    "\n",
    "- Creates a function-like object, `partial`, that when called, calls function with positional arguments args, keyword arguments kwargs, and any additional positional or keyword arguments that are supplied.\n",
    "- Additional positional arguments are added to the end of `args`, and additional keyword arguments are merged into `kwargs`, **overwriting any previously defined values (if any)**.\n",
    "- A typical use of partial() is when making a large number of function calls **where many of the arguments are held fixed**.\n",
    "- An instance `p` created by `partial` has the following attributes\n",
    "    - `p.func`: function that is called when `p` is called.\n",
    "    - `p.args`: tuple containing the leftmost positional arguments supplied to `p.func` when called. Additional positional arguments are concatenated to the end of this value\n",
    "    - `p.keywords`: dictionary containing the keyword arguments supplied to `p.func` when called. Additional keyword arguments are merged into this dictionary.\n",
    "- Use caution when using a partial object as a stand-in for a regular function. **The result is not exactly the same as a normal function**. \n",
    "    - For instance, if you use `partial()` inside a class definition, it **behaves like a static method, not an instance method**."
   ]
  },
  {
   "cell_type": "markdown",
   "id": "e2056249",
   "metadata": {},
   "source": [
    "#### `reduce(func, items [, initial])`\n",
    "\n",
    "- Applies a function, `func`, cumulatively to the items in the iterable items and returns a single value. \n",
    "- `func` **must take two arguments** and is first applied to the first two items of items.\n",
    "- This result and subsequent elements of items are then combined one at a time in a similar manner, until all elements of items have been consumed.\n",
    "- `initial` is an optional starting value used in the first computation and when `items` is empty."
   ]
  },
  {
   "cell_type": "markdown",
   "id": "dda501d7",
   "metadata": {},
   "source": [
    "#### `wraps(function [, assigned [, updated ]])`\n",
    "\n",
    "- Useful in writing decorators; see an example in [f-functions-and-functional-programming](f-functions-and-functional-programming.ipynb).\n",
    "- `assigned` is a **tuple of attribute names to copy** and is set to `('_ _name_ _','_ _module_ _','_ _doc_ _')` by default.\n",
    "- `updated` is a **tuple containing the names of function attributes that are dictionaries and which you want\n",
    "values merged in the wrapper**. By default, it is a tuple `('_ _dict_ _',)`.\n",
    "- There is also a `update_wrapper` utility function, that performs the same functionality as `wraps` above, with the same signature."
   ]
  },
  {
   "cell_type": "markdown",
   "id": "dc73be56",
   "metadata": {},
   "source": [
    "#### `lru_cache(user_function)` or `lru_cache(maxsize=128, typed=False)`\n",
    "\n",
    "- Decorator to wrap a function with a **memoizing callable that saves up to the maxsize most recent calls**. It can save time when an expensive or I/O bound function is periodically called with the same arguments.\n",
    "\n",
    "- Since a dictionary is used to cache results, **the positional and keyword arguments to the function must be hashable**"
   ]
  },
  {
   "cell_type": "markdown",
   "id": "01567e8d",
   "metadata": {},
   "source": [
    "#### `singledispatch`\n",
    "- Allow to define overloading functions with a single argument: or to be more precise, the 'dispatch' is **determined by the type of the first argument of the function**\n",
    "- To define a generic function, decorate it with the `@singledispatch` decorator.\n",
    "- To add overloaded implementations to the function, use the `register()` attribute of the generic function, which can be used as a decorator. \n",
    "    - For functions annotated with types, the decorator will infer the type of the first argument automatically.\n",
    "    - For code which doesn’t use type annotations, the appropriate type argument can be passed explicitly to the decorator itself"
   ]
  },
  {
   "cell_type": "code",
   "execution_count": null,
   "id": "43c1896a",
   "metadata": {},
   "outputs": [],
   "source": [
    "from functools import singledispatch\n",
    "@singledispatch\n",
    "def func(arg, verbose=False):\n",
    "    if verbose:\n",
    "        print(\"Let me just say,\", end=\" \")\n",
    "    print(arg)\n",
    "\n",
    "@func.register\n",
    "def _(arg: int, verbose=False):\n",
    "    if verbose:\n",
    "        print(\"Strength in numbers, eh?\", end=\" \")\n",
    "    print(arg)\n",
    "\n",
    "@func.register(complex)\n",
    "def _(arg, verbose=False):\n",
    "    if verbose:\n",
    "        print(\"Better than complicated.\", end=\" \")\n",
    "    print(arg.real, arg.imag)"
   ]
  },
  {
   "cell_type": "markdown",
   "id": "1afb9f05",
   "metadata": {},
   "source": [
    "### `heapq`\n",
    "\n",
    "- The heapq module implements a priority queue using a `heap`. Heaps are simply lists of ordered items in which the heap condition has been imposed.\n",
    "- As compared to the priority queue built-in in `std` in C++, one annoyance is `heapq` does not allow custom specifying compare functions. Some APIs in `heapq` such as `nlargest` and `nsmallest` support a `key` argument, but not every API is able to; see below.\n",
    "- Some usual APIs:\n",
    "    - `heapq.heapify(x)`: transform list `x` into a heap, **in-place**, in **linear time**.\n",
    "    - `heapq.heappush(heap, item)`: push the value item onto the heap, maintaining the heap invariant. Note that it is in the namespace of `heapq`, not a method of the heap object even if after `heapify`\n",
    "    - `heapq.heappop(heap)`: pop and return the smallest item from the heap, maintaining the heap invariant. \n",
    "        - If the heap is empty, IndexError is raised. \n",
    "        - To access the smallest item without popping it, use `heap[0]`.\n",
    "    - `heapq.nlargest(n, iterable, key=None)`: return a list with the n largest elements from the dataset defined by iterable. \n",
    "        - `key`, if provided, specifies a function of one argument that is used to extract a comparison key from each element in iterable (for example, `key=str.lower`). \n",
    "        - Equivalent to: `sorted(iterable, key=key, reverse=True)[:n]`.\n",
    "    - `heapq.nsmallest(n, iterable, key=None)`: return a list with the n smallest elements from the dataset defined by iterable. \n",
    "        - `key`, if provided, specifies a function of one argument that is used to extract a comparison key from each element in iterable (for example, `key=str.lower`). \n",
    "        - Equivalent to: `sorted(iterable, key=key)[:n]`."
   ]
  },
  {
   "cell_type": "markdown",
   "id": "85a13023",
   "metadata": {},
   "source": [
    "### `itertools`\n",
    "\n",
    "The `itertools` module contains functions for **creating efficient iterators**, useful for looping over data in various ways.\n",
    "\n",
    "- `chain(iter1, iter2, ..., iterN)`: Given a group of iterators `(iter1, … , iterN)`, this function creates a new iterator that chains all the iterators together.\n",
    "- `chain.from_iterable(iterables)`: An alternative constructor for a chain where the `iterables` is an iterable that producesa sequence of iterable objects.\n",
    "- `accumulate(iter, func)`: Make an iterator that returns accumulated sums, or accumulated results of other binary functions (specified via the optional `func` argument).\n",
    "- `combinations(iterable, r)`: Creates an iterator that returns all r-length subsequences of items taken from `iterable`.\n",
    "- `pairwise(iterable)`: Creates an iterator of any pair of elements in `iterables`. Only available since `Python3.10`.\n",
    "- `count([n])`: Creates an iterator that produces consecutive integers starting with `n`. If `n` is omitted, counting starts at `0`.\n",
    "- `cycle(iterable)`: Creates an iterator that cycles over the elements in iterable over and over again.\n",
    "- `dropwhile(predicate, iterable)`: Creates an iterator that discards items from iterable as long as the function `predicate(item)` is `True`. Once predicate returns `False`, **that item and all subsequent items in iterable are produced**.\n",
    "- `groupby(iterable [, key])`\n",
    "    - Creates an iterator that groups consecutive items produced by `iterable`.\n",
    "    - By default without `key`, the grouping process **works by looking for duplicate items** (though this may not be that useful). \n",
    "    - The iterator returned by this function produces tuples `(key, group)`, where key is the key value for the group and group is an iterator that yields all the items that made up the group.\n",
    "- `filter(predicate, iterable)` \n",
    "    - Creates an iterator that only produces items from `iterable` for which `predicate(item)` is `True`.\n",
    "    - If `predicate` is `None`, all the items in iterable that evaluate as `True` are returned.\n",
    "    - It is advised to prefer list comprehension to this in Item 7 of [< Effective Python >](https://www.evernote.com/shard/s191/nl/21353936/80774c17-012b-c7d8-e425-a9b3eb0d55f3?title=Effective%20Python)\n",
    "- `filterfalse(predicate, iterable)`\n",
    "    - Creates an iterator that only produces items from `iterable` for which `predicate(item)` is `False`.\n",
    "    - If `predicate` is `None`, all the items in iterable that evaluate as `False` are returned.\n",
    "    - It is advised to prefer list comprehension to this in Item 7 of [< Effective Python >](https://www.evernote.com/shard/s191/nl/21353936/80774c17-012b-c7d8-e425-a9b3eb0d55f3?title=Effective%20Python)\n",
    "- `map(func, iter1, iter2, ..., iterN)`\n",
    "    - Creates an iterator that produces items `func(i1,i2, .. iN)`, where `i1, i2, …, iN` are items taken from the iterators `iter1, iter2, …, iterN`, respectively. \n",
    "    - If `func` is `None`, the tuples of the form `(i1, i2, ..., iN)` are returned. \n",
    "    - Iteration stops whenever one of the supplied iterators no longer produces any values.\n",
    "- `islice(iterable, [start,] stop [, step])`\n",
    "    - Creates an iterator that produces items in a manner similar to what would be returned by a slice, : `iterable[start:stop:step]`.\n",
    "    - Unlike slices, negative values may not be used for any of `start`, `stop`, or `step`. If `start` is omitted, iteration starts at `0`. If `step` is omitted, a step of `1` is used.\n",
    "- `zip_longest(iter1, iter2, ..., iterN [,fillvalue=None])`\n",
    "    - The same as `zip()` except that iteration continues until all of the input iterables `iter1`, `iter2`, and so on are exhausted.\n",
    "    - `None` is used to fill in values for the iterables that are already consumed unless a different value is specified with the `fillvalue` keyword argument.\n",
    "- `permutations(iterable [, r])`: Creates an iterator that returns all r-length permutations of items from iterable.\n",
    "- `product(iter1, iter2, ... iterN, [repeat=1])`\n",
    "    - Creates an iterator that produces tuples representing the **Cartesian product** of items in `item1`, `item2`, and so on.  \n",
    "    - `repeat` is a keyword argument that specifies the number of times to repeat the produced sequence.\n",
    "- `repeat(object [, times])`\n",
    "    - Creates an iterator that repeatedly produces `object`. \n",
    "    - `times`, if supplied, specifies a repeat count. Otherwise, the object is returned indefinitely.\n",
    "    - Not sure what the use case for this can be.\n",
    "- `starmap(func [, iterable])`\n",
    "    - Creates an iterator that produces the values `func(*item)`, where `item` is taken from iterable.\n",
    "    - Note the difference between `starmap` and `map`. `starmap` is used instead of `map()` when argument parameters are already grouped in tuples from a single iterable (the data has been “pre-zipped”). The difference between `map()` and `starmap()` parallels the distinction between `function(a,b)` and `function(*c)`.\n",
    "- `takewhile(predicate [, iterable])`\n",
    "    - Creates an iterator that produces items from `iterable` as long as `predicate(item)` is `True`. \n",
    "    - Iteration stops immediately once predicate evaluates as `False`.\n",
    "- `tee(iterable [, n])`\n",
    "    - Creates `n` independent iterators from iterable. \n",
    "    - The created iterators are returned as an `n-tuple`. The default value of `n` is `2`.\n",
    "    - In order to clone the original iterator, **the items produced are cached and used in all the newly created iterators**. Great care should be taken **not to use the original iterator iterable after `tee()` has been called**. Otherwise, the caching mechanism may not work correctly."
   ]
  },
  {
   "cell_type": "markdown",
   "id": "d819a01c",
   "metadata": {},
   "source": [
    "### `operator`\n",
    "\n",
    "- The `operator` module provides functions that access the built-in operators and special methods of the interpreter described in [c-types-and-objects](c-types-and-objects.ipynb). \n",
    "- Where these functions are useful is when working with code uses callback functions and where you might otherwise be defining an anonymous function with `lambda`. \n",
    "- The operator module also defines the following functions that create **hooks/callbacks around attribute access, item lookup, and method calls**. These hooks are oftentime **faster than `lambda`** because it avoids the overhead associated with `lambda`.\n",
    "    - `attrgetter(name [, name2 [, ... [, nameN]]])`\n",
    "        - Creates a callable object, `f`, where a call to `f(obj)` returns `obj.name`. \n",
    "        - If more than one `name` is given, a tuple of results is returned.\n",
    "        - `name` can also include additional dot lookups.\n",
    "    - `itemgetter(item [, item2 [, ... [, itemN]]])`\n",
    "        - Creates a callable object, `f`, where a call to `f(obj)` returns `obj[item]`.\n",
    "        - If more than one item is given as arguments, a call to `f(obj)` returns a tuple.\n",
    "    - `methodcaller(name [, *args [, **kwargs]])`\n",
    "        - Creates a callable object, `f`, where a call to `f(obj)` returns `obj.name(*args,**kwargs)`.\n",
    "- Compare the below"
   ]
  },
  {
   "cell_type": "code",
   "execution_count": null,
   "id": "9b60cdda",
   "metadata": {},
   "outputs": [],
   "source": [
    "sorted(rows, key=lambda r: r[2]) \n",
    "sorted(rows, key=itemgetter(2))"
   ]
  },
  {
   "cell_type": "markdown",
   "id": "2961bf45",
   "metadata": {},
   "source": [
    "## References\n",
    "- [< Python Essential References >](https://www.evernote.com/shard/s191/nl/21353936/3a76bfd7-5b40-de76-dc58-c1805f99d416?title=Python%20Essential%20References), Chapter 15.\n",
    "- Python [functools module document](https://docs.python.org/3/library/functools.html)\n",
    "- Python [itertools module document](https://docs.python.org/3/library/itertools.html)\n",
    "- Python [collections module document](https://docs.python.org/3/library/collections.html)"
   ]
  }
 ],
 "metadata": {
  "kernelspec": {
   "display_name": "Python 3 (ipykernel)",
   "language": "python",
   "name": "python3"
  },
  "language_info": {
   "codemirror_mode": {
    "name": "ipython",
    "version": 3
   },
   "file_extension": ".py",
   "mimetype": "text/x-python",
   "name": "python",
   "nbconvert_exporter": "python",
   "pygments_lexer": "ipython3",
   "version": "3.9.7"
  }
 },
 "nbformat": 4,
 "nbformat_minor": 5
}
