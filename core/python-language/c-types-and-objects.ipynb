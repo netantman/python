{
 "cells": [
  {
   "cell_type": "markdown",
   "id": "0f82520d",
   "metadata": {},
   "source": [
    "### Terminology\n",
    "\n",
    "- Every piece of data stored in a program is an **object**. Each object has an **identity**, a **type** (which is also known as its **class**), and a **value**.\n",
    "- An object that contains references to other objects is said to be a **container** or **collection**.\n",
    "- An **attribute** is a value associated with an object. A **method** is a function that performs some sort of operation on an object when the method is invoked as a function."
   ]
  },
  {
   "cell_type": "markdown",
   "id": "58f88d17",
   "metadata": {},
   "source": [
    "### Object Identity and Type\n",
    "- The built-in function **`id()`** returns the identity of an object as an integer. This integer usually corresponds to the object’s location in memory, although this is specific to the Python implementation and no such interpretation of the identity should be made.\n",
    "- The built-in function **type()** returns the type of an object.\n",
    "- Notes on **type checking**\n",
    "    - The **`is`** operator compares the identity of two objects: all type objects are assigned names that can be used to perform type checking.\n",
    "    - Because the `isinstance()` function is aware of inheritance, it is the preferred way to check the type of any Python object."
   ]
  },
  {
   "cell_type": "markdown",
   "id": "598f6857",
   "metadata": {},
   "source": [
    "### Reference Counting and Garbage Collection\n",
    "- All objects are **reference-counted (ref-count)**. \n",
    "    - An object’s reference count is increased whenever it’s assigned to a new name or placed in a container.\n",
    "    - An object’s reference count is decreased by the `del` statement or whenever a reference goes out of scope (or is reassigned).\n",
    "    - The current reference count of an object can be obtained using the `sys.getrefcount()` function. In many cases, the reference count **is much higher** than you might guess. For **immutable data** such as numbers and strings, the interpreter **aggressively shares objects** between different parts of the program in order to **conserve memory**.\n",
    "- The `gc` module provides an interface for controlling the garbage collector used to collect cycles in objects.\n",
    "    - As various types of container objects are created, they're placed on a **list that's internal to the interpreter**. Whenever container objects are deallocated, they’re removed from this list.\n",
    "    - If the **number of allocations exceeds the number of deallocations by a user-definable threshold value**, the garbage collector is invoked. The garbage collector works by scanning this list and identifying collections of objects that are no longer being used but haven't been deallocated due to circular dependencies.\n",
    "    - The garbage collector uses a **three-level generational scheme** in which objects that survive the initial garbage-collection step are placed onto lists of objects that are checked less frequently. This provides better performance for programs that have a large number of long-lived objects.\n",
    "    - In this [article](https://www.evernote.com/shard/s191/nl/21353936/00bf6b41-63fa-4e2e-afc8-b9243b8ae313?title=Python%20Garbage%20Collection:%20What%20It%20Is%20and%20How%20It%20Works), it is recommended not to tamper with the default setting of `gc` light-heartedly."
   ]
  },
  {
   "cell_type": "markdown",
   "id": "b29f6ae7",
   "metadata": {},
   "source": [
    "### References and Copies\n",
    "- A **shallow copy** creates a new object but populates it **with references to the items contained in the original object**. \n",
    "    - This is, for instance, if you copy a list of list and change the list element of the copy, the original will change.\n",
    "    - On the other hand, if you are just attaching new elements to the copy, the original is not affected.\n",
    "    - See an example on Page 36 of [< Python Essential References >](https://www.evernote.com/shard/s191/nl/21353936/3a76bfd7-5b40-de76-dc58-c1805f99d416?title=Python%20Essential%20References).\n",
    "    \n",
    "- A deep copy creates a new object and recursively copies all the objects it contains. There is no built-in operation to create deep copies of objects. However, the `copy.deepcopy()` function in the standard library can be used"
   ]
  },
  {
   "cell_type": "markdown",
   "id": "98de243e",
   "metadata": {},
   "source": [
    "### First-Class Objects\n",
    "- All objects in Python are said to be “first class.”\n",
    "    - This means that all objects that can be named by an identifier have equal status. \n",
    "    - It also means that all objects that can be named can be treated as data.\n",
    "    - In particular, an object can be invoked by its reference name directly (think functions, classes); see an example on Page 37 of [< Python Essential References >](https://www.evernote.com/shard/s191/nl/21353936/3a76bfd7-5b40-de76-dc58-c1805f99d416?title=Python%20Essential%20References)."
   ]
  },
  {
   "cell_type": "markdown",
   "id": "b82835b8",
   "metadata": {},
   "source": [
    "### Built-in Types for Representating Program Structure\n",
    "\n",
    "#### Callable Types\n",
    "\n",
    "- Callable types represent objects that support the function call operation.There are several flavors of objects with this property, including user-defined functions, built-in functions, instance methods, and classes. In particular, an instance of a class can emulate a function if it defines a special method, `__call__()`. If this method is defined for an instance, `x`, then\n",
    "`x(args)` invokes the method `x.__call__(args)`.\n",
    "\n",
    "- **User-defined functions** (`types.FunctionType`) are callable objects created at the module level by using the `def` statement or with the `lambda` operator, with the following attributes: `__doc__`, `__name__`, `__dict__`, `__code__`, `__defaults__`, `__globals__`, `__closure__` (for more discussions on `__globals__` and `__closure__`, see this [notebook](f-functions-and-functional-programming.ipynb)).\n",
    "\n",
    "- **Methods** (`types.MethodType`) are functions that are defined inside a class defintion. Besides `__doc__`, `__name__`, it also has these other aatributes: `__class__`, `__func__` and `__self__`.\n",
    "    - A **bound method** is a callable object that wraps both a function (the method) and an associated instance.\n",
    "    - An **unbound method** is a callable object that wraps the method function, but which expects an instance of the proper type to be passed as the first argument. It is **removed in Python3**.\n",
    "    \n",
    "- **Built-in Functions and Methods** (`types.BuiltinFunctionType`) is used to represent functions and methods implemented in `C` and `C++`.\n",
    "\n",
    "#### Classes, Types and Instances\n",
    "\n",
    "- When you define a `class`, the class definition normally produces an object of type `type`: as such, `class`es can be considered as user-defined types. Specific attributes that a `class` has are: `__bases__`, `__dict__`, `__module__`, `__abstractmethods__`\n",
    "\n",
    "- When an object instance is created, the type of the instance is the `class` that defined it. Specific attributes that a object instance has are `__class__` and `__dict__`.\n",
    "\n",
    "- While the `__dict__` of a `__class__` holds class methods and variables, `__dict__` of an instance is where the data associated with the instance is stored. However, if a user-defined class uses `__slots__`, a more efficient internal representation is used and instances will not have a `__dict__` attribute; see this [notebook](g-classes-and-object-oriented-programming.ipynb) for more details.\n",
    "\n",
    "#### Modules\n",
    "\n",
    "- The module type is a **container that holds objects loaded with the __import__ statement**.\n",
    "-  Modules define a namespace that is implemented using a dictionary accessible in the attribute `__dict__`. Whenever an attribute of a module is referenced (using the dot `.` operator), it’s translated into a dictionary lookup.\n",
    "\n",
    "    \n"
   ]
  },
  {
   "cell_type": "markdown",
   "id": "86aff8d3",
   "metadata": {},
   "source": [
    "## References\n",
    "- [< Python Essential References >](https://www.evernote.com/shard/s191/nl/21353936/3a76bfd7-5b40-de76-dc58-c1805f99d416?title=Python%20Essential%20References), Chapter 3, 13 (the `gc` modulo)."
   ]
  }
 ],
 "metadata": {
  "kernelspec": {
   "display_name": "Python 3 (ipykernel)",
   "language": "python",
   "name": "python3"
  },
  "language_info": {
   "codemirror_mode": {
    "name": "ipython",
    "version": 3
   },
   "file_extension": ".py",
   "mimetype": "text/x-python",
   "name": "python",
   "nbconvert_exporter": "python",
   "pygments_lexer": "ipython3",
   "version": "3.9.7"
  }
 },
 "nbformat": 4,
 "nbformat_minor": 5
}
