{
 "cells": [
  {
   "cell_type": "markdown",
   "id": "61ccf64b",
   "metadata": {},
   "source": [
    "This notebook describes modules that are related to the Python interpreter runtime."
   ]
  },
  {
   "cell_type": "markdown",
   "id": "1bf790b1",
   "metadata": {},
   "source": [
    "### `copy`\n",
    "\n",
    "- `copy(x)`: Makes a **shallow copy** of `x` by creating a new compound object and duplicating the members of `x` by reference. For built-in types, it is somewhat uncommon to use this function.\n",
    "- `deepcopy(x [, visit])`: Makes a **deep copy** of `x` by creating a new compound object and recursively duplicating all the members of `x`. `visit` is an optional dictionary that’s used to keep track of visited objects in order to detect and avoid cycles in recursively defined data structures.\n",
    "- Although it is not usually necessary, **a class can implement customized copy methods by implementing the methods `__copy__(self)` and `__deepcopy__(self, visit)`**, which implement the shallow and deep copy operations respectively.\n",
    "- The `copy` functions don’t work with modules, class objects, functions, methods, tracebacks, stack frames, files, sockets, and other similar types. When an object can’t be copied, the `copy.error` exception is raised."
   ]
  },
  {
   "cell_type": "markdown",
   "id": "612d889c",
   "metadata": {},
   "source": [
    "####  `gc`\n",
    "- `collect([generation])`\n",
    "    - Runs a full garbage collection. This function checks all generations and returns the number of unreachable objects found.\n",
    "    - `generation` is an optional integer in the range 0 - 2 that specifies the generation to collect.\n",
    "\n",
    "- `disable()`: disable garbage collection, not to be used lightheartedly\n",
    "\n",
    "- `enable()`: enable garbage collection.\n",
    "\n",
    "- `garbage`\n",
    "    - A variable containing a read-only list of user-defined instances that are no longer in use, but which cannot be garbage collected **because they are involved in a reference cycle and they define a `__del__()` method**.\n",
    "    - **Such objects cannot be garbage-collected because in order to break the reference cycle**, the interpreter must arbitrarily destroy one of the objects first. However, there is no way to know if the `__del__()` method of the remaining objects in the cycle needs to perform critical operations on the object that was just destroyed. By the description of this [post](https://www.evernote.com/shard/s191/nl/21353936/00bf6b41-63fa-4e2e-afc8-b9243b8ae313?title=Python%20Garbage%20Collection:%20What%20It%20Is%20and%20How%20It%20Works), these objects are probably moved into oldest generation list and stay there.\n",
    "\n",
    "- `get_count()`: Returns a tuple `(count0, count1, count2)` containing the number of objects currently in each generation.\n",
    "\n",
    "- `get_objects()`: Returns a list of all objects being tracked by the garbage collector. \n",
    "\n",
    "- `get_referrers(obj1, obj2, ...)`: \n",
    "    - Returns a list of all objects that directly refer to the objects `obj1`, `obj2`, and so on. \n",
    "    - Only apply to objects that support garbage collection. \n",
    "    - It is only intended for debugging.They should not be used for other purposes.\n",
    "\n",
    "- `get_referents(obj1, obj2, ...)`: \n",
    "    - Returns a list of objects that the objects `obj1`, `obj2`, and so on refer to. \n",
    "    - Only apply to objects that support garbage collection. \n",
    "    - It is only intended for debugging.They should not be used for other purposes.    "
   ]
  },
  {
   "cell_type": "markdown",
   "id": "43c0aff9",
   "metadata": {},
   "source": [
    "#### `sys`\n",
    "\n",
    "- `argv`: List of command-line options passed to a program. `argv[0]` is the name of the program.\n",
    "- `last_type`: last unhandled exception type\n",
    "- `last_value`: last unhandled exception value\n",
    "- `last_traceback`: last unhandled stack trace\n",
    "- `platform`: Platform identifier string, such as `linux-i386`\n",
    "- `stdin`, `stdout`, `stderr`\n",
    "    - File objects corresponding to standard input, standard output, and standard error. \n",
    "    - `stdin` is used for the `input()` function.\n",
    "    - `stdout` is used for `print` and the prompts of `input()`.\n",
    "    - `stderr` is used for the interpreter’s prompts and error messages.\n",
    "- `exc_info()`\n",
    "    - Returns a tuple `(type, value, traceback)` containing information about the exception that’s currently being handled. \n",
    "    - `type` is the exception type, `value` is the exception parameter passed to raise, and `traceback` is a traceback object containing the call stack at the point where the exception occurred. \n",
    "    - Returns None if no exception is currently being handled.\n",
    "    - `exc_info()` is thread safe and preferred than using `last_type`, `last_value` and `last_traceback`.\n",
    "- `exit([n])`\n",
    "    - Exits Python by raising the `SystemExit` exception. `n` is an integer exit code indicating a status code.\n",
    "    - A value of **`0` is considered normal (the default)**; **nonzero values are considered abnormal**. \n",
    "    - If a **noninteger value is given to `n`, it’s printed to `sys.stderr` and an exit code of 1 is used**.\n"
   ]
  },
  {
   "cell_type": "markdown",
   "id": "d1139d7a",
   "metadata": {},
   "source": [
    "#### `traceback`\n",
    "\n",
    "The traceback module is used to gather and print stack traces of a program after an exception has occurred. The functions in this module **operate on traceback objects such as the third item returned by the `sys.exc_info()` function**. The main use of this module is in code that needs to report errors in a non-standard way.\n",
    "\n",
    "- `print_tb(traceback [, limit [, file]])`\n",
    "    - Prints up to limit stack trace entries from traceback to the file file. \n",
    "    - If `limit` is omitted, all the entries are printed. \n",
    "    - If `file` is omitted, the output is sent to `sys.stderr`.\n",
    "\n",
    "- `print_exception(type, value, traceback [, limit [, file]])`\n",
    "    - Prints exception information and a stack trace to file. \n",
    "    - `type` is the exception type, and `value` is the exception value. `limit` and `file` are the same as in `print_tb()`.\n",
    "\n",
    "- `print_exc([limit [, file]])`: Same as `print_exception()` applied to the information returned by the `sys.exc_info()` function.\n",
    "\n",
    "\n"
   ]
  },
  {
   "cell_type": "markdown",
   "id": "0de9020a",
   "metadata": {},
   "source": [
    "## References\n",
    "- [< Python Essential References >](https://www.evernote.com/shard/s191/nl/21353936/3a76bfd7-5b40-de76-dc58-c1805f99d416?title=Python%20Essential%20References), Chapter 13."
   ]
  }
 ],
 "metadata": {
  "kernelspec": {
   "display_name": "Python 3 (ipykernel)",
   "language": "python",
   "name": "python3"
  },
  "language_info": {
   "codemirror_mode": {
    "name": "ipython",
    "version": 3
   },
   "file_extension": ".py",
   "mimetype": "text/x-python",
   "name": "python",
   "nbconvert_exporter": "python",
   "pygments_lexer": "ipython3",
   "version": "3.9.7"
  }
 },
 "nbformat": 4,
 "nbformat_minor": 5
}
