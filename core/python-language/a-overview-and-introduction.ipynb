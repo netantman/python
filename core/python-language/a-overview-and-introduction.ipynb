{
 "cells": [
  {
   "cell_type": "markdown",
   "id": "e169cc7e",
   "metadata": {},
   "source": [
    "### Running Python\n",
    "\n",
    "- Python programs are executed by an **interpreter**. Usually, the interpreter is started by simply typing `python` into a command shell. However, there are many different implementations of the interpreter and Python development environments (for example, Jython, IronPython, IDLE,ActivePython,Wing IDE, pydev, etc.), so you should consult the documentation for startup details.\n",
    "- Python’s **interactive mode** is one of its most useful features. In the interactive shell, you can type any valid statement or sequence of statements and immediately view the results. When you use Python interactively, the special variable `_` holds the result of the last operation.\n",
    "- To **execute the `py` file**, you provide the filename to the interpreter: there can be different versions if you have multiple `python` installed. On `UNIX`, you can use #! on the first line of the program, like this: \n",
    "\n",
    "    `#!/usr/bin/env python\n",
    "    print \"Hello World\"`"
   ]
  },
  {
   "cell_type": "markdown",
   "id": "5a988afe",
   "metadata": {},
   "source": [
    "### Variables and Arithmetic Expressions\n",
    "\n",
    "- The assignment `=` operator simply creates **an association between a name and a value**. \n",
    "    - Although each value has an associated type such as an integer or string, variable names are untyped and can be made to refer to any type of data during execution. To be precise, it is not the type that the variable has changed, but rather the value (object) to which the variable refers to has changed. \n",
    "    - This is different from `C`, for example, in which a name represents a fixed type, size, and location in memory into which a value is stored.\n",
    "\n",
    "- A newline terminates each statement. However, you can use a semicolon `;` to separate statements on the same line.\n",
    "\n",
    "- Writing complex test cases commonly results in statements that involve an annoyingly long line of code. To improve readability, you can continue any statement to the next line by using a backslash (`\\`) at the end of a line as shown. If you do this, the normal indentation rules don’t apply to the next line, so you are free to format the continued lines as you wish. But you don't need the line-continuation character when defining a triple-quoted `str`, `list`, `tuple` or `dict`: they can naturally span multiple lines."
   ]
  },
  {
   "cell_type": "markdown",
   "id": "3e3c6c7b",
   "metadata": {},
   "source": [
    "### File Input and Output\n",
    "- `open()`: returns a file object\n",
    "- `readline()`: reads a single line of input, including the terminating newline.\n",
    "- `print >>f, <content>`: to make the output of a program go to a file.\n",
    "- `input()`: print to standard output"
   ]
  },
  {
   "cell_type": "markdown",
   "id": "90b4f5b4",
   "metadata": {},
   "source": [
    "### Strings\n",
    "\n",
    "- Triple quoted strings capture all the text that appears prior to the terminating triple quote, as opposed to single- and double-quoted strings, which must be specified on one logical line. Triple-quoted strings are useful when the contents of a string literal span multiple lines of text.\n",
    "\n",
    "- Strings are stored as sequences of characters indexed by integers, starting at zero, which supports the usual index slicing.\n",
    "\n",
    "- Strings are concatenated with the plus (`+`) operator.\n",
    "\n",
    "- Non-string values can be converted into a string representation by using the `str()`, `repr()`, or `format()` function. Although `str()` and `repr()` both create strings, their output is usually slightly different. \n",
    "    - `str()` produces the output that you get when you use the `print` statement. \n",
    "    - `repr()` creates a string that you type into a program to exactly represent the value of an object.\n",
    "    - The `format()` function is used to convert a value to a string with a specific formatting applied. \n",
    "- Know the combination functions: `split()`, `join()`\n",
    "- Know the usual modifying functions: `capitalize()`, `title()`, and how they return new strings rather than modify the original in place, since `str` are immutable.\n",
    "- Know the usual search functions: `find()`, `index()`, `rfind()`, `rindex()`: `find` will return `-1` if not found, but `index` will raise a `ValueError` exception.\n",
    "- Know the usual check functions: `isalpha()`, `isalnum()`, `isdigit()`, `islower()`, `istitle()`\n",
    "- [41 Questions to Test your Knowledge of Python Strings](https://www.evernote.com/shard/s191/nl/21353936/97f196ef-0273-4ea8-bda9-4cc3532b6d08)"
   ]
  },
  {
   "cell_type": "markdown",
   "id": "f568b9c3",
   "metadata": {},
   "source": [
    "### `list`\n",
    "- Lists can be sequence of arbitrary objects. They do not constitute a constiguous memory though - `list` just saves the pointer to those objects.\n",
    "- Slicing of a `list` returns a deep copy of the portion specified: `b = a[1:3]`, unless it is on the left of an assignment, in which case the original `list` will change: `a[1:3] = [3, 6]`; see Item 5 of [< Effective Python >](https://www.evernote.com/shard/s191/nl/21353936/80774c17-012b-c7d8-e425-a9b3eb0d55f3?title=Effective%20Python).\n",
    "- Know the difference between three addition functions: `append`, `insert`, `extend`. \n",
    "- Know the difference between three delection functions: `del`, `pop`, `remove`.\n",
    "- There is a preference to use *list comprehensions* over `map` or `filter`, not because it is more efficient, but because the former is clearer in code without the extra `lambda` expresssions; see Item 7 of [< Effective Python >](https://www.evernote.com/shard/s191/nl/21353936/80774c17-012b-c7d8-e425-a9b3eb0d55f3?title=Effective%20Python).\n",
    "- The built-in function `list(s)` converts any iterable type `s` to a list. If `s` is already a list, this function constructs a new list that’s a shallow copy of `s`.\n",
    "- The `s.index(x)` method searches the list for the first occurrence of x; `s.count(x)` counts the occureences of `x` in `s`.\n",
    "- Both the `sort()` and `reverse()` methods operate on the list elements in place and return None - this in-place behavior may be the reason why `sort()` is faster than `sorted()`.\n",
    "- [8 Levels of Using List Comprehensions](https://www.evernote.com/shard/s191/nl/21353936/4b03c738-f077-45f7-9014-98a698e4da83)\n",
    "- [60 Questions to Test Your Knowledge of Python Lists](https://www.evernote.com/shard/s191/nl/21353936/df26af72-edca-41d9-811d-08b261297d29)"
   ]
  },
  {
   "cell_type": "markdown",
   "id": "ff4411e9",
   "metadata": {},
   "source": [
    "### `tuple`\n",
    "- Python often recognizes that a tuple is intended even if the parentheses are missing\n",
    "- For completeness, 0- and 1-element tuples can be defined, but have special syntax: `a = ()`, `b = (item,)`.\n",
    "- `list`s slightly overallocate memory to optimize the performance of operations that add new items, but since `tuple`s are immutable, they use a more compact representation where there is no extra space.\n",
    "- Python has specific rules for comparing tuples. It first compares items in index zero,\n",
    "then index one, then index two, and so on.\n",
    "- [10 Things You Should Know About Tuples in Python](https://www.evernote.com/shard/s191/nl/21353936/8daa5762-7e0f-4295-83d7-fb9a1776eb24)"
   ]
  },
  {
   "cell_type": "markdown",
   "id": "ec6cdbe3",
   "metadata": {},
   "source": [
    "### `set`\n",
    "- To create a set, use the `set()` function and supply a sequence of items, from which `set` populates by iterating over. Alternatively, you can create a `set` by putting all elements within `{}` separated by comma, but note that empty `{}` means an empty `dict`.\n",
    "- Sets support a standard collection of operations, including **union** `|`, **intersection** `&`, **difference** `-`, and **symmetric difference** `^`.\n",
    "- Know the element functions: `add`, `update`, `remove`, `pop` (returns an arbitrary element and remove from `set`).\n",
    "- Know the usual check functions: `issubset`, `issuperset`.\n",
    "- **Set Comprehensions**: `{key for x in iterable if condition}` \n",
    "- `frozenset` is the immutable twin of `set`.\n",
    "- [35 Questions To Test Your Knowledge of Python Sets](https://www.evernote.com/shard/s191/nl/21353936/d47edfb7-a63a-4050-b267-b2239dd2c944)"
   ]
  },
  {
   "cell_type": "markdown",
   "id": "db9b92ff",
   "metadata": {},
   "source": [
    "### `dict`\n",
    "- `dict` keys should be **hashable** (usually immutable).\n",
    "- `dict` are probably the most finely tuned data type in the Python interpreter. So, if you are merely trying to store and work with data in your program, you are almost always better off using a dictionary than trying to come up with some kind of custom data structure on your own.\n",
    "- **Dictionary Comprehensions**: `{key : val for x in iterable if condition}` \n",
    "- `keys()`, `values()` and `items()` are iterators: see this [article](https://www.evernote.com/shard/s191/nl/21353936/2cf91413-8992-4471-9599-f2985a1e59c9)."
   ]
  },
  {
   "cell_type": "markdown",
   "id": "73f9ae10",
   "metadata": {},
   "source": [
    "### `None`\n",
    "\n",
    "- `None` is returned by functions that don’t explicitly return a value.\n",
    "- `None` is frequently used as the default value of optional arguments, so that the function can detect whether the caller has actually passed a value for that argument. \n",
    "- `None` has no attributes and **evaluates to `False` in Boolean expressions**."
   ]
  },
  {
   "cell_type": "markdown",
   "id": "e0725670",
   "metadata": {},
   "source": [
    "### Iteration and Looping\n",
    "- `range()` in `Python3` is an iterator."
   ]
  },
  {
   "cell_type": "markdown",
   "id": "2d938065",
   "metadata": {},
   "source": [
    "### Functions\n",
    "\n",
    "- Functions interfere with variable scope in **LEGB**: \n",
    "    - local: the current function's scope, \n",
    "    - enclosing: any enclosing scopes (like other containing functions, or closures),\n",
    "    - global: the scope of the module that contains the code (also called the global scope) \n",
    "    - built-in. \n",
    "  \n",
    "  Variables that are **only referenced** inside a function are implicitly global. To constrast, a variable that is **created or assigned** a value anywhere within the function’s body, it’s assumed to be a local even before the actual assignment since the interpreter sees everything (so if you refer to it you will suffer an `UnboundedError`),  unless explicitly declared as global. But if the variable is an **associative type**, and we are adding or changing part of it, the change seems to stay even if the function is exited. For examples, see Item 15 in [< Effective Python >](https://www.evernote.com/shard/s191/nl/21353936/80774c17-012b-c7d8-e425-a9b3eb0d55f3?title=Effective%20Python).\n",
    "  \n",
    "- Most Python functions have documentation strings that describe their usage.To print the doc string, simply print the `__doc__` attribute."
   ]
  },
  {
   "cell_type": "markdown",
   "id": "1784ff9b",
   "metadata": {},
   "source": [
    "### Generators\n",
    "- Consider generators instead of returning `list`s, since it will the code significantly easier to read; see a case study in Item 16 of [< Effective Python >](https://www.evernote.com/shard/s191/nl/21353936/80774c17-012b-c7d8-e425-a9b3eb0d55f3?title=Effective%20Python)."
   ]
  },
  {
   "cell_type": "markdown",
   "id": "4efca04b",
   "metadata": {},
   "source": [
    "### Objects and Classes\n",
    "\n",
    "- The `dir()` function lists the methods available on an object and is a useful tool for interactive experimentation.\n",
    "- Always inherent from `object`.\n",
    "- Methods with leading and trailing double underscores are special methods or magic methods. "
   ]
  },
  {
   "cell_type": "markdown",
   "id": "11b22f97",
   "metadata": {},
   "source": [
    "## References\n",
    "- [< Python Essential References >](https://www.evernote.com/shard/s191/nl/21353936/3a76bfd7-5b40-de76-dc58-c1805f99d416?title=Python%20Essential%20References), Chapter 1, 3."
   ]
  }
 ],
 "metadata": {
  "kernelspec": {
   "display_name": "Python 3 (ipykernel)",
   "language": "python",
   "name": "python3"
  },
  "language_info": {
   "codemirror_mode": {
    "name": "ipython",
    "version": 3
   },
   "file_extension": ".py",
   "mimetype": "text/x-python",
   "name": "python",
   "nbconvert_exporter": "python",
   "pygments_lexer": "ipython3",
   "version": "3.9.7"
  }
 },
 "nbformat": 4,
 "nbformat_minor": 5
}
