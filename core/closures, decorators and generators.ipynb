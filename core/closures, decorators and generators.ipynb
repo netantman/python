{
 "cells": [
  {
   "cell_type": "markdown",
   "metadata": {},
   "source": [
    "<h1 style='color:black'> Aspects of Functional Programming </h1>"
   ]
  },
  {
   "cell_type": "markdown",
   "metadata": {},
   "source": [
    "This exposition is adapted from Bloomberg ENG Training 'Aspects of Functional Programming'.\n",
    "\n",
    "For a brief description of functional programming, the following is from [Wikipedia](https://en.wikipedia.org/wiki/Functional_programming):\n",
    "\n",
    "In computer science, functional programming is a programming paradigm where programs are constructed by applying and composing functions. It is a declarative programming paradigm in which function definitions are trees of expressions that map values to other values, rather than a sequence of imperative statements which update the running state of the program.\n",
    "\n",
    "In functional programming, functions are treated as first-class citizens, meaning that they can be bound to names (including local identifiers), passed as arguments, and returned from other functions, just as any other data type can. This allows programs to be written in a declarative and composable style, where small functions are combined in a modular manner.\n",
    "\n",
    "Functional programming is sometimes treated as synonymous with **purely functional programming**, a subset of functional programming which treats all functions as deterministic mathematical functions, or pure functions. When a pure function is called with some given arguments, it will always return the same result, and cannot be affected by any mutable state or other side effects. This is in contrast with impure procedures, common in imperative programming, which can have side effects (such as modifying the program's state or taking input from a user). Proponents of purely functional programming claim that by restricting side effects, programs can have fewer bugs, be easier to debug and test, and be more suited to formal verification."
   ]
  },
  {
   "cell_type": "markdown",
   "metadata": {},
   "source": [
    "**(You should find time to know about generator comprehension sometime.)**"
   ]
  },
  {
   "cell_type": "markdown",
   "metadata": {},
   "source": [
    "There are two ways to associate state (data) with functions. <font color='red'> **Closure** </font> is one way. Though in principle associating state or data with function may be the opposite of functional programming, the way of closure works shows python can accommodate the principle of 'functions are first-class citizens'"
   ]
  },
  {
   "cell_type": "code",
   "execution_count": null,
   "metadata": {
    "collapsed": true
   },
   "outputs": [],
   "source": [
    "'''\n",
    "Functions are objects.\n",
    "li = [foo, dir, help] # They can be in a list...\n",
    "li[1]() # ...and hence can be called using an index (don't forget the parantheses!)\n",
    "bar = foo # They can also have alias\n",
    "actions = { 7: foo, 11: dir} # They can be put in a dict, which can fulfill the functionality of the switch statement.\n",
    "'''\n",
    "\n",
    "# Enclosing a function inside a fuction can be a way to factory functions\n",
    "def foo(x): \n",
    "    mol = 422\n",
    "    def bar(): # A function enclosed in a function is not available in outside scope...\n",
    "        # Any data within the outside function scope (but not the global scope) \n",
    "        # and used in the inner function is enclosed in the closere (i.e. part of the closure)\n",
    "        print x, mol  \n",
    "        print 'bar'\n",
    "    return bar # ... unless it is returned. Call foo will return a functions which will otherwise be GC'ed.\n",
    "\n",
    "func1 = foo(42) # Note that func1 is *not* an alise of bar\n",
    "func2 = foo(666)\n",
    "# What actually happens...\n",
    "# func1 and func2 now are associated to an object, respectively, while both these objects point to bar().\n",
    "# The data (42 and 666) are stored in the aforementioned objects, which allows for functions to have different states.\n",
    "# The relation of func1 and func2 to bar are like two instances of the a class.\n",
    "# This mechanism of function associated with data is called closure.\n",
    "\n",
    "# So the following will return False\n",
    "print func1 is func2\n",
    "\n",
    "# The closured data can be assesse by\n",
    "func1.__closure__  # Note that no parantheses for func1\n",
    "\n"
   ]
  },
  {
   "cell_type": "markdown",
   "metadata": {},
   "source": [
    "There are two key points of <font color='red'> **decorators**</font>.\n",
    "<ul>\n",
    "    <li> Decorators are closures or wrappers of functions.\n",
    "    <li> Once wrapped, the wrapped function replace the original function for any call to the original.\n",
    "</ul>\n",
    "\n",
    "Definitely with decorators, performance is affected due to the overhang. Applications of decorators include **timing**, **logging** and **authetications**.\n",
    "\n",
    "The following block also talks about the usage of `*args` and `**kwargs` (the names of the arguments do not necessarily have to be `args` and `kwargs`)."
   ]
  },
  {
   "cell_type": "code",
   "execution_count": 1,
   "metadata": {},
   "outputs": [
    {
     "ename": "SyntaxError",
     "evalue": "Missing parentheses in call to 'print' (<ipython-input-1-eef94285f4da>, line 9)",
     "output_type": "error",
     "traceback": [
      "\u001b[0;36m  File \u001b[0;32m\"<ipython-input-1-eef94285f4da>\"\u001b[0;36m, line \u001b[0;32m9\u001b[0m\n\u001b[0;31m    print 'foo'\u001b[0m\n\u001b[0m              ^\u001b[0m\n\u001b[0;31mSyntaxError\u001b[0m\u001b[0;31m:\u001b[0m Missing parentheses in call to 'print'\n"
     ]
    }
   ],
   "source": [
    "from functools import wraps\n",
    "\n",
    "lower, upper = range(2)\n",
    "\n",
    "def foo(x, y, acme=2):\n",
    "    \"\"\"\n",
    "    x is an int, y is float, returns some stuff\n",
    "    \"\"\"\n",
    "    print('foo')\n",
    "    return 41\n",
    "\n",
    "# Mechanism of decorators...\n",
    "# Step 1: a wrapper of the original function - decorators (tracer in this case) can be put in a module for everyone to import.\n",
    "def tracer(func):\n",
    "    # Below is a parameterized decorator, that is, a decorator that takes an extra argument. See below on how it is achieved.\n",
    "    @wraps(func)\n",
    "    def ifunc(*args, **kwargs):\n",
    "        # *args takes any number of positional arguments - produces a tuple in function definition (hence order is important).\n",
    "        # **kwargs takes any number of keyword arguments - pruduces a dictionary. Keyword arguments should be behind positional arguments.\n",
    "        print(args)\n",
    "        print('calling', func.__name__)\n",
    "        # Unpack the tuples and dictionaries - use of asterisks similar to dereference.\n",
    "        rv = func(*args, **kwargs)\n",
    "        print('exiting')\n",
    "        return rv\n",
    "    # Also need to transport the meta data of function name and docstring before returning. \n",
    "    # But the following two lines have been fulfilled by @wraps(func)\n",
    "    '''\n",
    "    ifunc.__name__ = func.__name__\n",
    "    ifunc.__doc__ = func.__doc__\n",
    "    '''\n",
    "    \n",
    "    return ifunc\n",
    "\n",
    "# Step 2: bind it back to the original one\n",
    "foo = tracer(foo)\n",
    "\n",
    "foo(41, 42, acme=90)\n",
    "\n",
    "# The true syntax of decorators - by default decorator takes the function immediately below as the first parameter.\n",
    "'''\n",
    "@tracer\n",
    "def foo():\n",
    "    print 'foo'\n",
    "'''\n",
    "    \n",
    "# Now let's go back and talk about parametrized decorator - it can be achieved by wrapping up decorators.\n",
    "# Take tracer as an example which allows it to take the cases of lower and upper to return different messages.\n",
    "'''\n",
    "def tracer(case):\n",
    "    def idec(func):\n",
    "        def ifunc(*args, **kwargs):\n",
    "            print args\n",
    "            print 'calling' if case == lower else 'CALLING'\n",
    "            rv = func(*args, **kwargs)\n",
    "            print 'exiting'\n",
    "            return rv\n",
    "        return ifunc\n",
    "    return idec\n",
    "'''\n",
    "    "
   ]
  },
  {
   "cell_type": "markdown",
   "metadata": {},
   "source": [
    "The other way to associate state(data) with functions is by <font color='red'> **generators** </font>. In python, any function with yield is a generator. When a generator is called, an object is generated with the code in it - the code is not called but rather in a standby state. \n",
    "\n",
    "A function with `yield` is different from an ordinary function, in that whenever a generator is called, it is executed from the **last `yield` it was left off, with all the local variables and state reinstated**; while an ordinary function is always executed from top to bottom, each time define new local variables and states.\n",
    "\n",
    "Besides using `yield` in a function to make a generator, another way is to use __generator expression__, e.g. `gen = (x*x for x in range(5))`\n",
    "\n",
    "One application of generator is when we do not want the whole iteration to be read into memory. Another one concerns __YieldManager__ decorator (find out more about this)."
   ]
  },
  {
   "cell_type": "code",
   "execution_count": null,
   "metadata": {
    "collapsed": true
   },
   "outputs": [],
   "source": [
    "# For example\n",
    "def gen():\n",
    "    yield 1\n",
    "    yield 7\n",
    "    yield 11\n",
    "    yield 42\n",
    "    \n",
    "go = gen()\n",
    "next(go) # or go.next(). Yields are similar to breakpoints in debug...\n",
    "\n",
    "# ... until we hit the end and we get a StopIteration. So we can also do:\n",
    "for item in gen():\n",
    "    print item\n",
    "    \n",
    "# Another example: even number generator. (\n",
    "# This is a function solution. To compare, a class solution must have __iter__ and next defined \n",
    "# (recall that the next method must raise StopIteration when appropriate.)\n",
    "def gen(limit):\n",
    "    val = 0\n",
    "    while val < limit:\n",
    "        yield val\n",
    "        val += 2\n",
    "        \n",
    "# Another way to get a generator object besides yield - applying functions on a list\n",
    "\n",
    "ps = [1,7,11,42]\n",
    "\n",
    "def with_tax(p):\n",
    "    return p * 1.2\n",
    "\n",
    "a = map(with_tax, ps) # not efficient on large list\n",
    "b = map(lambda p: p*1.2, ps) # lambda function\n",
    "c = [ p * 1.2 for p in ps ] # list comprehension - still takes up a lot of memory by producing the whole list\n",
    "d = [ p * 1.2 for p in ps if p > 10 ] # We can do filtering as well.\n",
    "g = ( p * 1.2 for p in ps if p > 10 ) # It is not a tuple! We have created a generator object and we can calculate on the fly."
   ]
  }
 ],
 "metadata": {
  "anaconda-cloud": {},
  "kernelspec": {
   "display_name": "Python 3",
   "language": "python",
   "name": "python3"
  },
  "language_info": {
   "codemirror_mode": {
    "name": "ipython",
    "version": 3
   },
   "file_extension": ".py",
   "mimetype": "text/x-python",
   "name": "python",
   "nbconvert_exporter": "python",
   "pygments_lexer": "ipython3",
   "version": "3.6.5"
  }
 },
 "nbformat": 4,
 "nbformat_minor": 1
}
